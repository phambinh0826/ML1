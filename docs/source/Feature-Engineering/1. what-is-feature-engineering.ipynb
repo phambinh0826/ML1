{
 "cells": [
  {
   "cell_type": "markdown",
   "id": "52874241",
   "metadata": {},
   "source": [
    "# Lecture 1 - What Is Feature Engineering"
   ]
  },
  {
   "cell_type": "markdown",
   "id": "c3160190",
   "metadata": {
    "papermill": {
     "duration": 0.002588,
     "end_time": "2023-04-20T18:11:17.295278",
     "exception": false,
     "start_time": "2023-04-20T18:11:17.292690",
     "status": "completed"
    },
    "tags": []
   },
   "source": [
    "## Mục tiêu của Feature Engineering\n",
    "\n",
    "**Mục tiêu chính của Feature Engineering** là giúp dữ liệu của bạn **phù hợp hơn với bài toán** đang giải quyết.\n",
    "\n",
    "Hãy xem xét một ví dụ thực tế về **nhiệt độ cảm nhận** như **chỉ số nhiệt (heat index)** và **gió lạnh (wind chill)**.  \n",
    "Những giá trị này cố gắng đo **nhiệt độ thực tế mà con người cảm nhận**, dựa trên **nhiệt độ không khí, độ ẩm và tốc độ gió** – những yếu tố có thể đo lường trực tiếp.  \n",
    "Bạn có thể coi **nhiệt độ cảm nhận** như một dạng **Feature Engineering**, giúp dữ liệu đo được trở nên **phù hợp hơn** với thứ mà con người thực sự quan tâm: **cảm giác thực tế khi ở ngoài trời!** 🌡️\n",
    "\n",
    "Bạn có thể áp dụng **Feature Engineering** để:\n",
    "- **Cải thiện hiệu suất dự đoán** của mô hình.\n",
    "- **Giảm nhu cầu về dữ liệu và tài nguyên tính toán**.\n",
    "- **Cải thiện khả năng diễn giải kết quả mô hình**.\n",
    "\n",
    "---\n",
    "\n",
    "## **Nguyên tắc quan trọng trong Feature Engineering**\n",
    "\n",
    "Một **đặc trưng hữu ích** phải có **mối quan hệ** với biến mục tiêu mà **mô hình có thể học được**.  \n",
    "\n",
    "Ví dụ:\n",
    "- **Mô hình tuyến tính (Linear Model)** chỉ có thể học **mối quan hệ tuyến tính**.\n",
    "- Nếu dữ liệu không có quan hệ tuyến tính, bạn cần **biến đổi đặc trưng** để tạo ra mối quan hệ tuyến tính hơn.\n",
    "\n",
    "Điều quan trọng ở đây là:  \n",
    "> **Mọi phép biến đổi bạn áp dụng vào dữ liệu đều trở thành một phần của mô hình!**  \n",
    "\n",
    "---\n",
    "\n",
    "### **Ví dụ minh họa**\n",
    "Giả sử bạn cần dự đoán **giá đất (Price)** của một mảnh đất hình vuông từ **chiều dài (Length)** của một cạnh.\n",
    "\n",
    "- Nếu bạn **sử dụng trực tiếp `Length`**, mô hình tuyến tính sẽ **không thể khớp dữ liệu tốt**, vì mối quan hệ giữa **chiều dài và giá đất không phải là tuyến tính**.\n",
    "\n",
    "📌 **Biểu đồ sau cho thấy một đường thẳng không phù hợp với dữ liệu:**  \n",
    "<img src=\"5D1z24N.png\" width=300 alt=\"Biểu đồ phân tán của Length (x-axis) và Price (y-axis), với các điểm tăng theo đường cong nhưng mô hình tuyến tính không khớp tốt.\">\n",
    "\n",
    "📌 **Giải pháp**: Thay vì sử dụng **`Length`**, chúng ta có thể tạo một đặc trưng mới:  \n",
    "👉 **Diện tích (`Area`) = `Length`²**  \n",
    "\n",
    "- Khi sử dụng **`Area`** thay vì **`Length`**, chúng ta tạo ra **mối quan hệ tuyến tính** giữa đặc trưng và biến mục tiêu.\n",
    "- Bây giờ, **mô hình tuyến tính có thể khớp dữ liệu tốt hơn** bằng cách **tạo ra một đường parabol**.\n",
    "\n",
    "📌 **Kết quả sau khi biến đổi `Area`:**\n",
    "<img src=\"BLRsYOK.png\" width=600 alt=\"Trái: Biểu đồ với Area trên trục x, với một đường tuyến tính phù hợp. Phải: Biểu đồ với Length trên trục x, với một đường cong phù hợp.\">\n",
    "\n",
    "### **Bài học rút ra**\n",
    "- **Feature Engineering giúp biến đổi dữ liệu để mô hình có thể học tốt hơn**.\n",
    "- **Mọi mối quan hệ mà mô hình không thể tự học, bạn có thể tạo ra thông qua biến đổi đặc trưng**.\n",
    "- Khi xây dựng tập đặc trưng, hãy **tự hỏi thông tin nào có thể giúp mô hình đạt hiệu suất tốt nhất**.\n",
    "\n",
    "🚀 **Feature Engineering là một trong những cách mang lại giá trị cao nhất khi tối ưu mô hình Machine Learning!**"
   ]
  },
  {
   "cell_type": "markdown",
   "id": "99d9ba5e",
   "metadata": {
    "papermill": {
     "duration": 0.002595,
     "end_time": "2023-04-20T18:11:17.300760",
     "exception": false,
     "start_time": "2023-04-20T18:11:17.298165",
     "status": "completed"
    },
    "tags": []
   },
   "source": [
    "## Ví dụ - Công thức bê tông\n",
    "\n",
    "Để minh họa những ý tưởng này, chúng ta sẽ xem xét cách thêm một số đặc trưng tổng hợp (*synthetic features*) vào tập dữ liệu có thể cải thiện hiệu suất dự đoán của mô hình *random forest*.\n",
    "\n",
    "Tập dữ liệu [*Concrete*](https://www.kaggle.com/sinamhd9/concrete-comprehensive-strength) chứa nhiều công thức khác nhau của bê tông và *độ bền nén* (*compressive strength*) của sản phẩm thu được. Đây là một thước đo về khả năng chịu tải của loại bê tông đó. Nhiệm vụ với tập dữ liệu này là dự đoán độ bền nén của bê tông dựa trên thành phần của nó."
   ]
  },
  {
   "cell_type": "code",
   "execution_count": 10,
   "id": "887bfbd0",
   "metadata": {
    "execution": {
     "iopub.execute_input": "2023-04-20T18:11:17.308945Z",
     "iopub.status.busy": "2023-04-20T18:11:17.308365Z",
     "iopub.status.idle": "2023-04-20T18:11:19.017727Z",
     "shell.execute_reply": "2023-04-20T18:11:19.016343Z"
    },
    "papermill": {
     "duration": 1.717214,
     "end_time": "2023-04-20T18:11:19.020868",
     "exception": false,
     "start_time": "2023-04-20T18:11:17.303654",
     "status": "completed"
    },
    "tags": []
   },
   "outputs": [
    {
     "data": {
      "text/html": [
       "<div>\n",
       "<style scoped>\n",
       "    .dataframe tbody tr th:only-of-type {\n",
       "        vertical-align: middle;\n",
       "    }\n",
       "\n",
       "    .dataframe tbody tr th {\n",
       "        vertical-align: top;\n",
       "    }\n",
       "\n",
       "    .dataframe thead th {\n",
       "        text-align: right;\n",
       "    }\n",
       "</style>\n",
       "<table border=\"1\" class=\"dataframe\">\n",
       "  <thead>\n",
       "    <tr style=\"text-align: right;\">\n",
       "      <th></th>\n",
       "      <th>Cement</th>\n",
       "      <th>BlastFurnaceSlag</th>\n",
       "      <th>FlyAsh</th>\n",
       "      <th>Water</th>\n",
       "      <th>Superplasticizer</th>\n",
       "      <th>CoarseAggregate</th>\n",
       "      <th>FineAggregate</th>\n",
       "      <th>Age</th>\n",
       "      <th>CompressiveStrength</th>\n",
       "    </tr>\n",
       "  </thead>\n",
       "  <tbody>\n",
       "    <tr>\n",
       "      <th>0</th>\n",
       "      <td>540.0</td>\n",
       "      <td>0.0</td>\n",
       "      <td>0.0</td>\n",
       "      <td>162.0</td>\n",
       "      <td>2.5</td>\n",
       "      <td>1040.0</td>\n",
       "      <td>676.0</td>\n",
       "      <td>28</td>\n",
       "      <td>79.986111</td>\n",
       "    </tr>\n",
       "    <tr>\n",
       "      <th>1</th>\n",
       "      <td>540.0</td>\n",
       "      <td>0.0</td>\n",
       "      <td>0.0</td>\n",
       "      <td>162.0</td>\n",
       "      <td>2.5</td>\n",
       "      <td>1055.0</td>\n",
       "      <td>676.0</td>\n",
       "      <td>28</td>\n",
       "      <td>61.887366</td>\n",
       "    </tr>\n",
       "    <tr>\n",
       "      <th>2</th>\n",
       "      <td>332.5</td>\n",
       "      <td>142.5</td>\n",
       "      <td>0.0</td>\n",
       "      <td>228.0</td>\n",
       "      <td>0.0</td>\n",
       "      <td>932.0</td>\n",
       "      <td>594.0</td>\n",
       "      <td>270</td>\n",
       "      <td>40.269535</td>\n",
       "    </tr>\n",
       "    <tr>\n",
       "      <th>3</th>\n",
       "      <td>332.5</td>\n",
       "      <td>142.5</td>\n",
       "      <td>0.0</td>\n",
       "      <td>228.0</td>\n",
       "      <td>0.0</td>\n",
       "      <td>932.0</td>\n",
       "      <td>594.0</td>\n",
       "      <td>365</td>\n",
       "      <td>41.052780</td>\n",
       "    </tr>\n",
       "    <tr>\n",
       "      <th>4</th>\n",
       "      <td>198.6</td>\n",
       "      <td>132.4</td>\n",
       "      <td>0.0</td>\n",
       "      <td>192.0</td>\n",
       "      <td>0.0</td>\n",
       "      <td>978.4</td>\n",
       "      <td>825.5</td>\n",
       "      <td>360</td>\n",
       "      <td>44.296075</td>\n",
       "    </tr>\n",
       "  </tbody>\n",
       "</table>\n",
       "</div>"
      ],
      "text/plain": [
       "   Cement  BlastFurnaceSlag  FlyAsh  Water  Superplasticizer  CoarseAggregate  \\\n",
       "0   540.0               0.0     0.0  162.0               2.5           1040.0   \n",
       "1   540.0               0.0     0.0  162.0               2.5           1055.0   \n",
       "2   332.5             142.5     0.0  228.0               0.0            932.0   \n",
       "3   332.5             142.5     0.0  228.0               0.0            932.0   \n",
       "4   198.6             132.4     0.0  192.0               0.0            978.4   \n",
       "\n",
       "   FineAggregate  Age  CompressiveStrength  \n",
       "0          676.0   28            79.986111  \n",
       "1          676.0   28            61.887366  \n",
       "2          594.0  270            40.269535  \n",
       "3          594.0  365            41.052780  \n",
       "4          825.5  360            44.296075  "
      ]
     },
     "execution_count": 10,
     "metadata": {},
     "output_type": "execute_result"
    }
   ],
   "source": [
    "import pandas as pd\n",
    "from sklearn.ensemble import RandomForestRegressor\n",
    "from sklearn.model_selection import cross_val_score\n",
    "\n",
    "df = pd.read_excel(\"Concrete_Data.xls\")\n",
    "df.head()"
   ]
  },
  {
   "cell_type": "markdown",
   "id": "472cc387",
   "metadata": {
    "papermill": {
     "duration": 0.003007,
     "end_time": "2023-04-20T18:11:19.027514",
     "exception": false,
     "start_time": "2023-04-20T18:11:19.024507",
     "status": "completed"
    },
    "tags": []
   },
   "source": [
    "Bạn có thể thấy ở đây các thành phần khác nhau được sử dụng trong từng loại bê tông. Chúng ta sẽ sớm thấy rằng việc thêm một số đặc trưng tổng hợp (*synthetic features*) được suy ra từ các thành phần này có thể giúp mô hình học được các mối quan hệ quan trọng giữa chúng.\n",
    "\n",
    "Trước tiên, chúng ta sẽ thiết lập một mô hình cơ sở (*baseline*) bằng cách huấn luyện mô hình trên tập dữ liệu chưa được bổ sung thêm đặc trưng. Điều này sẽ giúp chúng ta xác định liệu các đặc trưng mới có thực sự hữu ích hay không.\n",
    "\n",
    "Thiết lập mô hình cơ sở như thế này là một thực hành tốt khi bắt đầu quá trình kỹ thuật đặc trưng (*feature engineering*). Một điểm số cơ sở có thể giúp bạn quyết định liệu các đặc trưng mới có đáng để giữ lại hay không, hay bạn nên loại bỏ chúng và thử một phương pháp khác."
   ]
  },
  {
   "cell_type": "code",
   "execution_count": 11,
   "id": "57dcb483",
   "metadata": {
    "execution": {
     "iopub.execute_input": "2023-04-20T18:11:19.036719Z",
     "iopub.status.busy": "2023-04-20T18:11:19.035557Z",
     "iopub.status.idle": "2023-04-20T18:11:29.791647Z",
     "shell.execute_reply": "2023-04-20T18:11:29.790005Z"
    },
    "papermill": {
     "duration": 10.763752,
     "end_time": "2023-04-20T18:11:29.794561",
     "exception": false,
     "start_time": "2023-04-20T18:11:19.030809",
     "status": "completed"
    },
    "tags": []
   },
   "outputs": [
    {
     "name": "stdout",
     "output_type": "stream",
     "text": [
      "MAE Baseline Score: 8.397\n"
     ]
    }
   ],
   "source": [
    "X = df.copy()\n",
    "y = X.pop(\"CompressiveStrength\")\n",
    "\n",
    "# Train and score baseline model\n",
    "baseline = RandomForestRegressor(criterion=\"absolute_error\", random_state=0)\n",
    "baseline_score = cross_val_score(\n",
    "    baseline, X, y, cv=5, scoring=\"neg_mean_absolute_error\"\n",
    ")\n",
    "baseline_score = -1 * baseline_score.mean()\n",
    "\n",
    "print(f\"MAE Baseline Score: {baseline_score:.4}\")"
   ]
  },
  {
   "cell_type": "markdown",
   "id": "25e7685c",
   "metadata": {
    "papermill": {
     "duration": 0.003214,
     "end_time": "2023-04-20T18:11:29.801310",
     "exception": false,
     "start_time": "2023-04-20T18:11:29.798096",
     "status": "completed"
    },
    "tags": []
   },
   "source": [
    "Nếu bạn từng nấu ăn tại nhà, bạn có thể biết rằng *tỷ lệ* (*ratio*) giữa các thành phần trong một công thức thường là một yếu tố dự đoán tốt hơn về kết quả món ăn so với lượng tuyệt đối của từng thành phần. Do đó, chúng ta có thể suy luận rằng tỷ lệ giữa các đặc trưng trên sẽ là một yếu tố dự đoán tốt đối với `CompressiveStrength`.\n",
    "\n",
    "Ô dưới đây sẽ thêm ba đặc trưng tỷ lệ mới vào tập dữ liệu."
   ]
  },
  {
   "cell_type": "code",
   "execution_count": 12,
   "id": "bdef1d82",
   "metadata": {
    "execution": {
     "iopub.execute_input": "2023-04-20T18:11:29.810131Z",
     "iopub.status.busy": "2023-04-20T18:11:29.809706Z",
     "iopub.status.idle": "2023-04-20T18:11:44.577916Z",
     "shell.execute_reply": "2023-04-20T18:11:44.576533Z"
    },
    "papermill": {
     "duration": 14.775831,
     "end_time": "2023-04-20T18:11:44.580577",
     "exception": false,
     "start_time": "2023-04-20T18:11:29.804746",
     "status": "completed"
    },
    "tags": []
   },
   "outputs": [
    {
     "name": "stdout",
     "output_type": "stream",
     "text": [
      "MAE Score with Ratio Features: 8.011\n"
     ]
    }
   ],
   "source": [
    "X = df.copy()\n",
    "y = X.pop(\"CompressiveStrength\")\n",
    "\n",
    "# Create synthetic features\n",
    "X[\"FCRatio\"] = X[\"FineAggregate\"] / X[\"CoarseAggregate\"]\n",
    "X[\"AggCmtRatio\"] = (X[\"CoarseAggregate\"] + X[\"FineAggregate\"]) / X[\"Cement\"]\n",
    "X[\"WtrCmtRatio\"] = X[\"Water\"] / X[\"Cement\"]\n",
    "\n",
    "# Train and score model on dataset with additional ratio features\n",
    "model = RandomForestRegressor(criterion=\"absolute_error\", random_state=0)\n",
    "score = cross_val_score(\n",
    "    model, X, y, cv=5, scoring=\"neg_mean_absolute_error\"\n",
    ")\n",
    "score = -1 * score.mean()\n",
    "\n",
    "print(f\"MAE Score with Ratio Features: {score:.4}\")"
   ]
  },
  {
   "cell_type": "markdown",
   "id": "1a79c9e7",
   "metadata": {
    "papermill": {
     "duration": 0.003308,
     "end_time": "2023-04-20T18:11:44.587957",
     "exception": false,
     "start_time": "2023-04-20T18:11:44.584649",
     "status": "completed"
    },
    "tags": []
   },
   "source": [
    "Và đúng như mong đợi, hiệu suất đã được cải thiện! Điều này chứng tỏ rằng các đặc trưng tỷ lệ mới đã giúp mô hình tiếp cận được những thông tin quan trọng mà trước đó nó chưa phát hiện ra.\n",
    "\n",
    "## Continue\n",
    "\n",
    "Chúng ta đã thấy rằng việc kỹ thuật đặc trưng (*feature engineering*) có thể cải thiện hiệu suất mô hình. Nhưng làm thế nào để xác định được các đặc trưng trong tập dữ liệu có thể hữu ích khi kết hợp với nhau? Hãy [**khám phá các đặc trưng hữu ích**](https://www.kaggle.com/ryanholbrook/mutual-information) bằng cách sử dụng thông tin tương hỗ (*mutual information*)."
   ]
  },
  {
   "cell_type": "markdown",
   "id": "e665720c",
   "metadata": {
    "papermill": {
     "duration": 0.003321,
     "end_time": "2023-04-20T18:11:44.594922",
     "exception": false,
     "start_time": "2023-04-20T18:11:44.591601",
     "status": "completed"
    },
    "tags": []
   },
   "source": [
    "---\n",
    "\n",
    "*Bạn có câu hỏi hoặc nhận xét? Hãy truy cập [diễn đàn thảo luận của khóa học](https://www.kaggle.com/learn/feature-engineering/discussion) để trò chuyện với các học viên khác.*"
   ]
  }
 ],
 "metadata": {
  "jupytext": {
   "cell_metadata_filter": "-all",
   "formats": "ipynb"
  },
  "kernelspec": {
   "display_name": "Python 3",
   "language": "python",
   "name": "python3"
  },
  "language_info": {
   "codemirror_mode": {
    "name": "ipython",
    "version": 3
   },
   "file_extension": ".py",
   "mimetype": "text/x-python",
   "name": "python",
   "nbconvert_exporter": "python",
   "pygments_lexer": "ipython3",
   "version": "3.11.9"
  },
  "papermill": {
   "default_parameters": {},
   "duration": 39.806849,
   "end_time": "2023-04-20T18:11:45.423057",
   "environment_variables": {},
   "exception": null,
   "input_path": "__notebook__.ipynb",
   "output_path": "__notebook__.ipynb",
   "parameters": {},
   "start_time": "2023-04-20T18:11:05.616208",
   "version": "2.4.0"
  }
 },
 "nbformat": 4,
 "nbformat_minor": 5
}
