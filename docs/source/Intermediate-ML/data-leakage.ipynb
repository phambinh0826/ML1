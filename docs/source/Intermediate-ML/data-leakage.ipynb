{
 "cells": [
  {
   "cell_type": "markdown",
   "id": "85ce74fe",
   "metadata": {
    "papermill": {
     "duration": 0.004319,
     "end_time": "2023-04-21T13:41:09.143080",
     "exception": false,
     "start_time": "2023-04-21T13:41:09.138761",
     "status": "completed"
    },
    "tags": []
   },
   "source": [
    "Trong hướng dẫn này, bạn sẽ tìm hiểu **data leakage** (*rò rỉ dữ liệu*) là gì và cách ngăn chặn nó.  \n",
    "\n",
    "Nếu bạn không biết cách ngăn chặn *data leakage*, vấn đề này sẽ xuất hiện thường xuyên và làm hỏng mô hình của bạn theo những cách tinh vi và nguy hiểm.  \n",
    "\n",
    "Vì vậy, đây là một trong những khái niệm quan trọng nhất đối với các *data scientist* thực hành.\n",
    "\n",
    "# Giới thiệu (# Introduction #)\n",
    "\n",
    "**Data leakage** (hay còn gọi là **leakage**) xảy ra khi dữ liệu huấn luyện chứa thông tin về biến mục tiêu (*target*), nhưng thông tin tương tự sẽ không có sẵn khi mô hình được sử dụng để dự đoán.  \n",
    "\n",
    "Điều này dẫn đến mô hình có hiệu suất cao trên tập huấn luyện (và có thể cả tập kiểm định), nhưng lại hoạt động kém trong môi trường thực tế.\n",
    "\n",
    "Nói cách khác, *leakage* khiến mô hình có vẻ chính xác cho đến khi bạn bắt đầu sử dụng nó để đưa ra quyết định — và khi đó, mô hình trở nên rất không chính xác.\n",
    "\n",
    "Có hai loại *leakage* chính: **target leakage** và **train-test contamination**.\n",
    "\n",
    "### Target leakage\n",
    "\n",
    "**Target leakage** xảy ra khi tập đặc trưng (*predictors*) bao gồm dữ liệu mà tại thời điểm thực hiện dự đoán, dữ liệu đó chưa có sẵn.  \n",
    "\n",
    "Điều quan trọng là phải xem xét *target leakage* theo _trình tự thời gian hoặc thứ tự mà dữ liệu xuất hiện_, chứ không chỉ đơn thuần là một biến giúp dự đoán tốt.\n",
    "\n",
    "Một ví dụ sẽ giúp bạn hiểu rõ hơn.  \n",
    "\n",
    "Giả sử bạn muốn dự đoán ai sẽ bị viêm phổi (*pneumonia*). Một số hàng đầu tiên của tập dữ liệu thô trông như sau:\n",
    "\n",
    "| got_pneumonia | age | weight |  male | took_antibiotic_medicine | ... |\n",
    "|:-------------:|:---:|:------:|:-----:|:------------------------:|-----|\n",
    "|     False     |  65 |   100  | False |           False          | ... |\n",
    "|     False     |  72 |   130  |  True |           False          | ... |\n",
    "|      True     |  58 |   100  | False |           True           | ... |\n",
    "\n",
    "Người bệnh uống kháng sinh *sau khi* bị viêm phổi để hồi phục. Dữ liệu thô thể hiện một mối quan hệ mạnh giữa các cột, nhưng biến `took_antibiotic_medicine` thường thay đổi *sau* khi giá trị `got_pneumonia` được xác định.  \n",
    "\n",
    "Đây chính là *target leakage*.\n",
    "\n",
    "Mô hình sẽ nhận thấy rằng bất kỳ ai có giá trị `False` trong cột `took_antibiotic_medicine` đều không bị viêm phổi. Vì dữ liệu kiểm định có nguồn gốc tương tự như dữ liệu huấn luyện, mô hình sẽ lặp lại mô hình này và có điểm số kiểm định (hoặc *cross-validation*) rất cao.\n",
    "\n",
    "Tuy nhiên, khi triển khai thực tế, mô hình sẽ rất không chính xác vì ngay cả những bệnh nhân sẽ mắc viêm phổi cũng chưa uống kháng sinh tại thời điểm chúng ta cần dự đoán về sức khỏe của họ.\n",
    "\n",
    "Để ngăn chặn loại *data leakage* này, bất kỳ biến nào được cập nhật (hoặc tạo) sau khi giá trị *target* được xác định nên được loại trừ.\n",
    "\n",
    "![tut7_leakydata](https://storage.googleapis.com/kaggle-media/learn/images/y7hfTYe.png)"
   ]
  },
  {
   "cell_type": "markdown",
   "id": "9a8dcd60",
   "metadata": {
    "papermill": {
     "duration": 0.002891,
     "end_time": "2023-04-21T13:41:09.149737",
     "exception": false,
     "start_time": "2023-04-21T13:41:09.146846",
     "status": "completed"
    },
    "tags": []
   },
   "source": [
    "### Train-Test Contamination\n",
    "\n",
    "Một loại *leakage* khác xảy ra khi bạn không cẩn thận trong việc tách biệt dữ liệu huấn luyện và dữ liệu kiểm định.  \n",
    "\n",
    "Nhớ rằng mục tiêu của tập kiểm định là đo lường cách mô hình hoạt động trên dữ liệu mà nó chưa từng thấy trước đó.  \n",
    "\n",
    "Bạn có thể vô tình làm sai lệch quy trình này nếu dữ liệu kiểm định ảnh hưởng đến quá trình tiền xử lý. Điều này đôi khi được gọi là **train-test contamination** (*ô nhiễm train-test*).\n",
    "\n",
    "Ví dụ, hãy tưởng tượng bạn thực hiện tiền xử lý (như huấn luyện một *imputer* để điền giá trị bị thiếu) trước khi gọi hàm [`train_test_split()`](https://scikit-learn.org/stable/modules/generated/sklearn.model_selection.train_test_split.html).  \n",
    "\n",
    "Kết quả?  \n",
    "\n",
    "Mô hình của bạn có thể đạt điểm kiểm định cao, làm bạn tin tưởng vào nó, nhưng khi triển khai thực tế lại hoạt động kém.\n",
    "\n",
    "Vấn đề là bạn đã vô tình sử dụng thông tin từ tập kiểm định hoặc tập kiểm tra (*test set*) trong quá trình huấn luyện, nên mô hình có thể hoạt động tốt trên tập dữ liệu đó nhưng lại không tổng quát hóa được trên dữ liệu mới.  \n",
    "\n",
    "Vấn đề này càng trở nên tinh vi (*subtle*) (và nguy hiểm hơn) khi bạn thực hiện các kỹ thuật trích xuất đặc trưng (*feature engineering*) phức tạp hơn.\n",
    "\n",
    "Nếu bạn chia dữ liệu thành tập huấn luyện và kiểm định theo cách đơn giản (*train-test split*), hãy loại bỏ hoàn toàn tập kiểm định khỏi mọi bước *fitting*, bao gồm cả các bước *fitting* trong quá trình tiền xử lý.  \n",
    "\n",
    "Điều này sẽ dễ dàng hơn nếu bạn sử dụng *pipelines* trong *scikit-learn*.  \n",
    "\n",
    "Khi sử dụng *cross-validation*, việc đảm bảo tất cả các bước tiền xử lý được thực hiện bên trong *pipeline* lại càng quan trọng hơn!\n",
    "\n",
    "# Ví dụ (# Example #)\n",
    "\n",
    "Trong ví dụ này, bạn sẽ học cách phát hiện và loại bỏ *target leakage*.\n",
    "\n",
    "Chúng ta sẽ sử dụng một tập dữ liệu về đơn xin cấp thẻ tín dụng (*credit card applications*) và bỏ qua phần thiết lập dữ liệu cơ bản.  \n",
    "\n",
    "Kết quả cuối cùng là thông tin về từng đơn xin cấp thẻ được lưu trong một *DataFrame* `X`.  \n",
    "\n",
    "Chúng ta sẽ sử dụng nó để dự đoán xem đơn xin cấp thẻ có được chấp nhận hay không trong một *Series* `y`."
   ]
  },
  {
   "cell_type": "code",
   "execution_count": 3,
   "id": "75ce83ec",
   "metadata": {
    "_kg_hide-input": true,
    "execution": {
     "iopub.execute_input": "2023-04-21T13:41:09.159739Z",
     "iopub.status.busy": "2023-04-21T13:41:09.158710Z",
     "iopub.status.idle": "2023-04-21T13:41:09.235803Z",
     "shell.execute_reply": "2023-04-21T13:41:09.234670Z"
    },
    "papermill": {
     "duration": 0.085688,
     "end_time": "2023-04-21T13:41:09.238983",
     "exception": false,
     "start_time": "2023-04-21T13:41:09.153295",
     "status": "completed"
    },
    "tags": []
   },
   "outputs": [
    {
     "name": "stdout",
     "output_type": "stream",
     "text": [
      "Number of rows in the dataset: 1319\n"
     ]
    },
    {
     "data": {
      "text/html": [
       "<div>\n",
       "<style scoped>\n",
       "    .dataframe tbody tr th:only-of-type {\n",
       "        vertical-align: middle;\n",
       "    }\n",
       "\n",
       "    .dataframe tbody tr th {\n",
       "        vertical-align: top;\n",
       "    }\n",
       "\n",
       "    .dataframe thead th {\n",
       "        text-align: right;\n",
       "    }\n",
       "</style>\n",
       "<table border=\"1\" class=\"dataframe\">\n",
       "  <thead>\n",
       "    <tr style=\"text-align: right;\">\n",
       "      <th></th>\n",
       "      <th>reports</th>\n",
       "      <th>age</th>\n",
       "      <th>income</th>\n",
       "      <th>share</th>\n",
       "      <th>expenditure</th>\n",
       "      <th>owner</th>\n",
       "      <th>selfemp</th>\n",
       "      <th>dependents</th>\n",
       "      <th>months</th>\n",
       "      <th>majorcards</th>\n",
       "      <th>active</th>\n",
       "    </tr>\n",
       "  </thead>\n",
       "  <tbody>\n",
       "    <tr>\n",
       "      <th>0</th>\n",
       "      <td>0</td>\n",
       "      <td>37.66667</td>\n",
       "      <td>4.5200</td>\n",
       "      <td>0.033270</td>\n",
       "      <td>124.983300</td>\n",
       "      <td>True</td>\n",
       "      <td>False</td>\n",
       "      <td>3</td>\n",
       "      <td>54</td>\n",
       "      <td>1</td>\n",
       "      <td>12</td>\n",
       "    </tr>\n",
       "    <tr>\n",
       "      <th>1</th>\n",
       "      <td>0</td>\n",
       "      <td>33.25000</td>\n",
       "      <td>2.4200</td>\n",
       "      <td>0.005217</td>\n",
       "      <td>9.854167</td>\n",
       "      <td>False</td>\n",
       "      <td>False</td>\n",
       "      <td>3</td>\n",
       "      <td>34</td>\n",
       "      <td>1</td>\n",
       "      <td>13</td>\n",
       "    </tr>\n",
       "    <tr>\n",
       "      <th>2</th>\n",
       "      <td>0</td>\n",
       "      <td>33.66667</td>\n",
       "      <td>4.5000</td>\n",
       "      <td>0.004156</td>\n",
       "      <td>15.000000</td>\n",
       "      <td>True</td>\n",
       "      <td>False</td>\n",
       "      <td>4</td>\n",
       "      <td>58</td>\n",
       "      <td>1</td>\n",
       "      <td>5</td>\n",
       "    </tr>\n",
       "    <tr>\n",
       "      <th>3</th>\n",
       "      <td>0</td>\n",
       "      <td>30.50000</td>\n",
       "      <td>2.5400</td>\n",
       "      <td>0.065214</td>\n",
       "      <td>137.869200</td>\n",
       "      <td>False</td>\n",
       "      <td>False</td>\n",
       "      <td>0</td>\n",
       "      <td>25</td>\n",
       "      <td>1</td>\n",
       "      <td>7</td>\n",
       "    </tr>\n",
       "    <tr>\n",
       "      <th>4</th>\n",
       "      <td>0</td>\n",
       "      <td>32.16667</td>\n",
       "      <td>9.7867</td>\n",
       "      <td>0.067051</td>\n",
       "      <td>546.503300</td>\n",
       "      <td>True</td>\n",
       "      <td>False</td>\n",
       "      <td>2</td>\n",
       "      <td>64</td>\n",
       "      <td>1</td>\n",
       "      <td>5</td>\n",
       "    </tr>\n",
       "  </tbody>\n",
       "</table>\n",
       "</div>"
      ],
      "text/plain": [
       "   reports       age  income     share  expenditure  owner  selfemp  \\\n",
       "0        0  37.66667  4.5200  0.033270   124.983300   True    False   \n",
       "1        0  33.25000  2.4200  0.005217     9.854167  False    False   \n",
       "2        0  33.66667  4.5000  0.004156    15.000000   True    False   \n",
       "3        0  30.50000  2.5400  0.065214   137.869200  False    False   \n",
       "4        0  32.16667  9.7867  0.067051   546.503300   True    False   \n",
       "\n",
       "   dependents  months  majorcards  active  \n",
       "0           3      54           1      12  \n",
       "1           3      34           1      13  \n",
       "2           4      58           1       5  \n",
       "3           0      25           1       7  \n",
       "4           2      64           1       5  "
      ]
     },
     "execution_count": 3,
     "metadata": {},
     "output_type": "execute_result"
    }
   ],
   "source": [
    "\n",
    "import pandas as pd\n",
    "\n",
    "# Read the data\n",
    "data = pd.read_csv('AER_credit_card_data.csv', \n",
    "                   true_values = ['yes'], false_values = ['no'])\n",
    "\n",
    "# Select target\n",
    "y = data.card\n",
    "\n",
    "# Select predictors\n",
    "X = data.drop(['card'], axis=1)\n",
    "\n",
    "print(\"Number of rows in the dataset:\", X.shape[0])\n",
    "X.head()"
   ]
  },
  {
   "cell_type": "markdown",
   "id": "6b090c1a",
   "metadata": {
    "papermill": {
     "duration": 0.003321,
     "end_time": "2023-04-21T13:41:09.245941",
     "exception": false,
     "start_time": "2023-04-21T13:41:09.242620",
     "status": "completed"
    },
    "tags": []
   },
   "source": [
    "Vì đây là một tập dữ liệu nhỏ, chúng ta sẽ sử dụng *cross-validation* để đảm bảo đo lường chính xác chất lượng mô hình."
   ]
  },
  {
   "cell_type": "code",
   "execution_count": 4,
   "id": "3d6e5e0b",
   "metadata": {
    "execution": {
     "iopub.execute_input": "2023-04-21T13:41:09.255437Z",
     "iopub.status.busy": "2023-04-21T13:41:09.254625Z",
     "iopub.status.idle": "2023-04-21T13:41:11.898713Z",
     "shell.execute_reply": "2023-04-21T13:41:11.897225Z"
    },
    "papermill": {
     "duration": 2.651865,
     "end_time": "2023-04-21T13:41:11.901289",
     "exception": false,
     "start_time": "2023-04-21T13:41:09.249424",
     "status": "completed"
    },
    "tags": []
   },
   "outputs": [
    {
     "name": "stdout",
     "output_type": "stream",
     "text": [
      "Cross-validation accuracy: 0.981810\n"
     ]
    }
   ],
   "source": [
    "from sklearn.pipeline import make_pipeline\n",
    "from sklearn.ensemble import RandomForestClassifier\n",
    "from sklearn.model_selection import cross_val_score\n",
    "\n",
    "# Since there is no preprocessing, we don't need a pipeline (used anyway as best practice!)\n",
    "my_pipeline = make_pipeline(RandomForestClassifier(n_estimators=100))\n",
    "cv_scores = cross_val_score(my_pipeline, X, y, \n",
    "                            cv=5,\n",
    "                            scoring='accuracy')\n",
    "\n",
    "print(\"Cross-validation accuracy: %f\" % cv_scores.mean())"
   ]
  },
  {
   "cell_type": "markdown",
   "id": "b5084ef9",
   "metadata": {
    "papermill": {
     "duration": 0.003462,
     "end_time": "2023-04-21T13:41:11.908716",
     "exception": false,
     "start_time": "2023-04-21T13:41:11.905254",
     "status": "completed"
    },
    "tags": []
   },
   "source": [
    "Với kinh nghiệm, bạn sẽ nhận ra rằng rất hiếm khi tìm thấy các mô hình có độ chính xác lên đến 98%.  \n",
    "\n",
    "Điều này có thể xảy ra, nhưng nó đủ hiếm để chúng ta cần kiểm tra dữ liệu kỹ lưỡng hơn để phát hiện *target leakage*.\n",
    "\n",
    "Dưới đây là bản tóm tắt về tập dữ liệu, bạn cũng có thể tìm thấy thông tin này trong tab dữ liệu:\n",
    "\n",
    "- **`card`**: 1 nếu đơn xin cấp thẻ tín dụng được chấp nhận, 0 nếu bị từ chối  \n",
    "- **`reports`**: Số lượng báo cáo tiêu cực nghiêm trọng (*major derogatory reports*)  \n",
    "- **`age`**: Tuổi tính theo năm cộng với phần lẻ của năm  \n",
    "- **`income`**: Thu nhập hàng năm (chia cho 10,000)  \n",
    "- **`share`**: Tỷ lệ chi tiêu hàng tháng trên thẻ tín dụng so với thu nhập hàng năm  \n",
    "- **`expenditure`**: Chi tiêu trung bình hàng tháng trên thẻ tín dụng  \n",
    "- **`owner`**: 1 nếu sở hữu nhà, 0 nếu thuê nhà  \n",
    "- **`selfempl`**: 1 nếu tự kinh doanh (*self-employed*), 0 nếu không  \n",
    "- **`dependents`**: 1 + số lượng người phụ thuộc  \n",
    "- **`months`**: Số tháng sinh sống tại địa chỉ hiện tại  \n",
    "- **`majorcards`**: Số lượng thẻ tín dụng lớn đang sở hữu  \n",
    "- **`active`**: Số lượng tài khoản tín dụng đang hoạt động  \n",
    "\n",
    "Một số biến có vẻ đáng ngờ.  \n",
    "\n",
    "Ví dụ, biến **`expenditure`** có ý nghĩa là chi tiêu trên thẻ tín dụng này hay trên các thẻ đã sử dụng trước khi nộp đơn?\n",
    "\n",
    "Tại thời điểm này, việc so sánh dữ liệu cơ bản có thể rất hữu ích:"
   ]
  },
  {
   "cell_type": "code",
   "execution_count": 5,
   "id": "b62a71f8",
   "metadata": {
    "execution": {
     "iopub.execute_input": "2023-04-21T13:41:11.919231Z",
     "iopub.status.busy": "2023-04-21T13:41:11.918376Z",
     "iopub.status.idle": "2023-04-21T13:41:11.927203Z",
     "shell.execute_reply": "2023-04-21T13:41:11.926067Z"
    },
    "papermill": {
     "duration": 0.017035,
     "end_time": "2023-04-21T13:41:11.929719",
     "exception": false,
     "start_time": "2023-04-21T13:41:11.912684",
     "status": "completed"
    },
    "tags": []
   },
   "outputs": [
    {
     "name": "stdout",
     "output_type": "stream",
     "text": [
      "Fraction of those who did not receive a card and had no expenditures: 1.00\n",
      "Fraction of those who received a card and had no expenditures: 0.02\n"
     ]
    }
   ],
   "source": [
    "expenditures_cardholders = X.expenditure[y]\n",
    "expenditures_noncardholders = X.expenditure[~y]\n",
    "\n",
    "print('Fraction of those who did not receive a card and had no expenditures: %.2f' \\\n",
    "      %((expenditures_noncardholders == 0).mean()))\n",
    "print('Fraction of those who received a card and had no expenditures: %.2f' \\\n",
    "      %(( expenditures_cardholders == 0).mean()))"
   ]
  },
  {
   "cell_type": "markdown",
   "id": "703cb4e5",
   "metadata": {
    "papermill": {
     "duration": 0.003569,
     "end_time": "2023-04-21T13:41:11.937161",
     "exception": false,
     "start_time": "2023-04-21T13:41:11.933592",
     "status": "completed"
    },
    "tags": []
   },
   "source": [
    "Như đã thấy ở trên, tất cả những người không được cấp thẻ đều không có khoản chi tiêu nào, trong khi chỉ có 2% số người được cấp thẻ không có khoản chi tiêu.  \n",
    "\n",
    "Do đó, không có gì ngạc nhiên khi mô hình của chúng ta đạt độ chính xác cao.  \n",
    "\n",
    "Tuy nhiên, đây dường như là một trường hợp *target leakage*, vì biến **`expenditure`** có thể đại diện cho *chi tiêu trên thẻ mà họ vừa đăng ký*.\n",
    "\n",
    "Vì biến **`share`** được tính toán một phần dựa trên **`expenditure`**, nên nó cũng cần bị loại bỏ.  \n",
    "\n",
    "Các biến **`active`** và **`majorcards`** ít rõ ràng hơn, nhưng theo mô tả, chúng có vẻ đáng lo ngại.  \n",
    "\n",
    "Trong hầu hết các tình huống, nếu bạn không thể truy vấn trực tiếp những người tạo ra dữ liệu để xác minh ý nghĩa chính xác, thì nên loại bỏ các biến này để đảm bảo an toàn.\n",
    "\n",
    "Chúng ta có thể huấn luyện mô hình mà không có *target leakage* như sau:"
   ]
  },
  {
   "cell_type": "code",
   "execution_count": 6,
   "id": "b13848ba",
   "metadata": {
    "execution": {
     "iopub.execute_input": "2023-04-21T13:41:11.947082Z",
     "iopub.status.busy": "2023-04-21T13:41:11.946303Z",
     "iopub.status.idle": "2023-04-21T13:41:13.224247Z",
     "shell.execute_reply": "2023-04-21T13:41:13.222717Z"
    },
    "papermill": {
     "duration": 1.286138,
     "end_time": "2023-04-21T13:41:13.227119",
     "exception": false,
     "start_time": "2023-04-21T13:41:11.940981",
     "status": "completed"
    },
    "tags": []
   },
   "outputs": [
    {
     "name": "stdout",
     "output_type": "stream",
     "text": [
      "Cross-val accuracy: 0.830162\n"
     ]
    }
   ],
   "source": [
    "# Drop leaky predictors from dataset\n",
    "potential_leaks = ['expenditure', 'share', 'active', 'majorcards']\n",
    "X2 = X.drop(potential_leaks, axis=1)\n",
    "\n",
    "# Evaluate the model with leaky predictors removed\n",
    "cv_scores = cross_val_score(my_pipeline, X2, y, \n",
    "                            cv=5,\n",
    "                            scoring='accuracy')\n",
    "\n",
    "print(\"Cross-val accuracy: %f\" % cv_scores.mean())"
   ]
  },
  {
   "cell_type": "markdown",
   "id": "24958cc6",
   "metadata": {
    "papermill": {
     "duration": 0.00366,
     "end_time": "2023-04-21T13:41:13.234793",
     "exception": false,
     "start_time": "2023-04-21T13:41:13.231133",
     "status": "completed"
    },
    "tags": []
   },
   "source": [
    "Độ chính xác của mô hình hiện tại thấp hơn đáng kể, điều này có thể gây thất vọng.  \n",
    "\n",
    "Tuy nhiên, chúng ta có thể kỳ vọng mô hình sẽ dự đoán đúng khoảng 80% khi áp dụng cho các đơn xin cấp thẻ mới.  \n",
    "\n",
    "Trong khi đó, mô hình có *leakage* có thể hoạt động kém hơn đáng kể khi áp dụng vào thực tế, mặc dù đạt điểm số cao trong *cross-validation*.\n",
    "\n",
    "# Kết luận (# Conclusion #)\n",
    "\n",
    "*Data leakage* có thể dẫn đến những sai lầm trị giá hàng triệu đô la trong nhiều ứng dụng *data science*.  \n",
    "\n",
    "Việc tách biệt cẩn thận tập huấn luyện và tập kiểm định có thể ngăn chặn *train-test contamination*, và việc sử dụng *pipelines* có thể giúp triển khai quy trình này một cách hệ thống.  \n",
    "\n",
    "Tương tự, sự kết hợp giữa thận trọng, tư duy logic và khám phá dữ liệu có thể giúp phát hiện *target leakage*.\n",
    "\n",
    "# Bước tiếp theo? (# What's next? #)\n",
    "\n",
    "Khái niệm này có thể vẫn còn trừu tượng.  \n",
    "\n",
    "Hãy thử suy nghĩ về các ví dụ trong **[bài tập này](https://www.kaggle.com/kernels/fork/3370270)** để rèn luyện kỹ năng phát hiện *target leakage* và *train-test contamination*!"
   ]
  },
  {
   "cell_type": "markdown",
   "id": "9c5b28f1",
   "metadata": {
    "papermill": {
     "duration": 0.003829,
     "end_time": "2023-04-21T13:41:13.242805",
     "exception": false,
     "start_time": "2023-04-21T13:41:13.238976",
     "status": "completed"
    },
    "tags": []
   },
   "source": [
    "---\n",
    "\n",
    "\n",
    "\n",
    "\n",
    "*Have questions or comments? Visit the [course discussion forum](https://www.kaggle.com/learn/intermediate-machine-learning/discussion) to chat with other learners.*"
   ]
  }
 ],
 "metadata": {
  "kernelspec": {
   "display_name": "Python 3",
   "language": "python",
   "name": "python3"
  },
  "language_info": {
   "codemirror_mode": {
    "name": "ipython",
    "version": 3
   },
   "file_extension": ".py",
   "mimetype": "text/x-python",
   "name": "python",
   "nbconvert_exporter": "python",
   "pygments_lexer": "ipython3",
   "version": "3.13.2"
  },
  "papermill": {
   "default_parameters": {},
   "duration": 16.573776,
   "end_time": "2023-04-21T13:41:14.073657",
   "environment_variables": {},
   "exception": null,
   "input_path": "__notebook__.ipynb",
   "output_path": "__notebook__.ipynb",
   "parameters": {},
   "start_time": "2023-04-21T13:40:57.499881",
   "version": "2.4.0"
  }
 },
 "nbformat": 4,
 "nbformat_minor": 5
}
