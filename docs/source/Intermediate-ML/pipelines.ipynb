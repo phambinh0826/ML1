{
 "cells": [
  {
   "cell_type": "markdown",
   "id": "8ca8ecca",
   "metadata": {
    "papermill": {
     "duration": 0.004097,
     "end_time": "2023-04-21T13:40:44.544620",
     "exception": false,
     "start_time": "2023-04-21T13:40:44.540523",
     "status": "completed"
    },
    "tags": []
   },
   "source": [
    "Trong hướng dẫn này, bạn sẽ học cách sử dụng **pipelines** để tổ chức mã mô hình của mình.\n",
    "\n",
    "# Giới thiệu (# Introduction #)\n",
    "\n",
    "**Pipelines** là một cách đơn giản để giữ cho mã tiền xử lý dữ liệu và mô hình hóa được tổ chức gọn gàng. Cụ thể, một *pipeline* gói gọn các bước tiền xử lý và mô hình hóa, giúp bạn có thể sử dụng toàn bộ quy trình này như một bước duy nhất.\n",
    "\n",
    "Nhiều *data scientists* phát triển mô hình mà không sử dụng *pipelines*, nhưng *pipelines* có một số lợi ích quan trọng, bao gồm:\n",
    "\n",
    "1. **Mã gọn gàng hơn**: Việc xử lý dữ liệu ở từng bước tiền xử lý có thể trở nên phức tạp. Với một *pipeline*, bạn không cần phải theo dõi thủ công dữ liệu huấn luyện và kiểm định tại mỗi bước.  \n",
    "2. **Giảm lỗi**: Ít có khả năng áp dụng sai hoặc quên một bước tiền xử lý.  \n",
    "3. **Dễ dàng triển khai vào sản phẩm**: Chuyển một mô hình từ giai đoạn thử nghiệm sang triển khai quy mô lớn có thể rất khó khăn. Chúng ta sẽ không đi sâu vào các vấn đề liên quan ở đây, nhưng *pipelines* có thể giúp ích đáng kể.  \n",
    "4. **Thêm nhiều tùy chọn để đánh giá mô hình**: Bạn sẽ thấy một ví dụ trong hướng dẫn tiếp theo, nơi chúng ta sẽ tìm hiểu về *cross-validation* (*xác thực chéo*).  \n",
    "\n",
    "# Ví dụ (# Example #)\n",
    "\n",
    "Giống như trong hướng dẫn trước, chúng ta sẽ làm việc với tập dữ liệu [Melbourne Housing](https://www.kaggle.com/dansbecker/melbourne-housing-snapshot/home).  \n",
    "\n",
    "Chúng ta sẽ không tập trung vào bước tải dữ liệu. Thay vào đó, giả sử rằng chúng ta đã có sẵn dữ liệu huấn luyện và kiểm định trong các biến:  \n",
    "- `X_train`, `X_valid` (tập đặc trưng huấn luyện và kiểm định)  \n",
    "- `y_train`, `y_valid` (tập mục tiêu huấn luyện và kiểm định)"
   ]
  },
  {
   "cell_type": "code",
   "execution_count": 6,
   "id": "7d5dfe8d",
   "metadata": {
    "_kg_hide-input": true,
    "_kg_hide-output": true,
    "execution": {
     "iopub.execute_input": "2023-04-21T13:40:44.552616Z",
     "iopub.status.busy": "2023-04-21T13:40:44.552177Z",
     "iopub.status.idle": "2023-04-21T13:40:45.671925Z",
     "shell.execute_reply": "2023-04-21T13:40:45.670833Z"
    },
    "papermill": {
     "duration": 1.126982,
     "end_time": "2023-04-21T13:40:45.674837",
     "exception": false,
     "start_time": "2023-04-21T13:40:44.547855",
     "status": "completed"
    },
    "tags": []
   },
   "outputs": [],
   "source": [
    "\n",
    "import pandas as pd\n",
    "from sklearn.model_selection import train_test_split\n",
    "\n",
    "# Read the data\n",
    "data = pd.read_csv('melb_data.csv')\n",
    "\n",
    "# Separate target from predictors\n",
    "y = data.Price\n",
    "X = data.drop(['Price'], axis=1)\n",
    "\n",
    "# Divide data into training and validation subsets\n",
    "X_train_full, X_valid_full, y_train, y_valid = train_test_split(X, y, train_size=0.8, test_size=0.2,\n",
    "                                                                random_state=0)\n",
    "\n",
    "# \"Cardinality\" means the number of unique values in a column\n",
    "# Select categorical columns with relatively low cardinality (convenient but arbitrary)\n",
    "categorical_cols = [cname for cname in X_train_full.columns if X_train_full[cname].nunique() < 10 and \n",
    "                        X_train_full[cname].dtype == \"object\"]\n",
    "\n",
    "# Select numerical columns\n",
    "numerical_cols = [cname for cname in X_train_full.columns if X_train_full[cname].dtype in ['int64', 'float64']]\n",
    "\n",
    "# Keep selected columns only\n",
    "my_cols = categorical_cols + numerical_cols\n",
    "X_train = X_train_full[my_cols].copy()\n",
    "X_valid = X_valid_full[my_cols].copy()"
   ]
  },
  {
   "cell_type": "markdown",
   "id": "063b6b2e",
   "metadata": {
    "papermill": {
     "duration": 0.002836,
     "end_time": "2023-04-21T13:40:45.680912",
     "exception": false,
     "start_time": "2023-04-21T13:40:45.678076",
     "status": "completed"
    },
    "tags": []
   },
   "source": [
    "Chúng ta xem qua dữ liệu huấn luyện bằng phương thức `head()` dưới đây.  \n",
    "\n",
    "Lưu ý rằng dữ liệu chứa cả biến phân loại (*categorical data*) và các cột có giá trị bị thiếu (*missing values*).  \n",
    "\n",
    "Với *pipeline*, việc xử lý cả hai vấn đề này trở nên dễ dàng hơn!"
   ]
  },
  {
   "cell_type": "code",
   "execution_count": 7,
   "id": "a033bca4",
   "metadata": {
    "execution": {
     "iopub.execute_input": "2023-04-21T13:40:45.688983Z",
     "iopub.status.busy": "2023-04-21T13:40:45.688279Z",
     "iopub.status.idle": "2023-04-21T13:40:45.723447Z",
     "shell.execute_reply": "2023-04-21T13:40:45.722260Z"
    },
    "papermill": {
     "duration": 0.042152,
     "end_time": "2023-04-21T13:40:45.726017",
     "exception": false,
     "start_time": "2023-04-21T13:40:45.683865",
     "status": "completed"
    },
    "tags": []
   },
   "outputs": [
    {
     "data": {
      "text/html": [
       "<div>\n",
       "<style scoped>\n",
       "    .dataframe tbody tr th:only-of-type {\n",
       "        vertical-align: middle;\n",
       "    }\n",
       "\n",
       "    .dataframe tbody tr th {\n",
       "        vertical-align: top;\n",
       "    }\n",
       "\n",
       "    .dataframe thead th {\n",
       "        text-align: right;\n",
       "    }\n",
       "</style>\n",
       "<table border=\"1\" class=\"dataframe\">\n",
       "  <thead>\n",
       "    <tr style=\"text-align: right;\">\n",
       "      <th></th>\n",
       "      <th>Type</th>\n",
       "      <th>Method</th>\n",
       "      <th>Regionname</th>\n",
       "      <th>Rooms</th>\n",
       "      <th>Distance</th>\n",
       "      <th>Postcode</th>\n",
       "      <th>Bedroom2</th>\n",
       "      <th>Bathroom</th>\n",
       "      <th>Car</th>\n",
       "      <th>Landsize</th>\n",
       "      <th>BuildingArea</th>\n",
       "      <th>YearBuilt</th>\n",
       "      <th>Lattitude</th>\n",
       "      <th>Longtitude</th>\n",
       "      <th>Propertycount</th>\n",
       "    </tr>\n",
       "  </thead>\n",
       "  <tbody>\n",
       "    <tr>\n",
       "      <th>12167</th>\n",
       "      <td>u</td>\n",
       "      <td>S</td>\n",
       "      <td>Southern Metropolitan</td>\n",
       "      <td>1</td>\n",
       "      <td>5.0</td>\n",
       "      <td>3182.0</td>\n",
       "      <td>1.0</td>\n",
       "      <td>1.0</td>\n",
       "      <td>1.0</td>\n",
       "      <td>0.0</td>\n",
       "      <td>NaN</td>\n",
       "      <td>1940.0</td>\n",
       "      <td>-37.85984</td>\n",
       "      <td>144.9867</td>\n",
       "      <td>13240.0</td>\n",
       "    </tr>\n",
       "    <tr>\n",
       "      <th>6524</th>\n",
       "      <td>h</td>\n",
       "      <td>SA</td>\n",
       "      <td>Western Metropolitan</td>\n",
       "      <td>2</td>\n",
       "      <td>8.0</td>\n",
       "      <td>3016.0</td>\n",
       "      <td>2.0</td>\n",
       "      <td>2.0</td>\n",
       "      <td>1.0</td>\n",
       "      <td>193.0</td>\n",
       "      <td>NaN</td>\n",
       "      <td>NaN</td>\n",
       "      <td>-37.85800</td>\n",
       "      <td>144.9005</td>\n",
       "      <td>6380.0</td>\n",
       "    </tr>\n",
       "    <tr>\n",
       "      <th>8413</th>\n",
       "      <td>h</td>\n",
       "      <td>S</td>\n",
       "      <td>Western Metropolitan</td>\n",
       "      <td>3</td>\n",
       "      <td>12.6</td>\n",
       "      <td>3020.0</td>\n",
       "      <td>3.0</td>\n",
       "      <td>1.0</td>\n",
       "      <td>1.0</td>\n",
       "      <td>555.0</td>\n",
       "      <td>NaN</td>\n",
       "      <td>NaN</td>\n",
       "      <td>-37.79880</td>\n",
       "      <td>144.8220</td>\n",
       "      <td>3755.0</td>\n",
       "    </tr>\n",
       "    <tr>\n",
       "      <th>2919</th>\n",
       "      <td>u</td>\n",
       "      <td>SP</td>\n",
       "      <td>Northern Metropolitan</td>\n",
       "      <td>3</td>\n",
       "      <td>13.0</td>\n",
       "      <td>3046.0</td>\n",
       "      <td>3.0</td>\n",
       "      <td>1.0</td>\n",
       "      <td>1.0</td>\n",
       "      <td>265.0</td>\n",
       "      <td>NaN</td>\n",
       "      <td>1995.0</td>\n",
       "      <td>-37.70830</td>\n",
       "      <td>144.9158</td>\n",
       "      <td>8870.0</td>\n",
       "    </tr>\n",
       "    <tr>\n",
       "      <th>6043</th>\n",
       "      <td>h</td>\n",
       "      <td>S</td>\n",
       "      <td>Western Metropolitan</td>\n",
       "      <td>3</td>\n",
       "      <td>13.3</td>\n",
       "      <td>3020.0</td>\n",
       "      <td>3.0</td>\n",
       "      <td>1.0</td>\n",
       "      <td>2.0</td>\n",
       "      <td>673.0</td>\n",
       "      <td>673.0</td>\n",
       "      <td>1970.0</td>\n",
       "      <td>-37.76230</td>\n",
       "      <td>144.8272</td>\n",
       "      <td>4217.0</td>\n",
       "    </tr>\n",
       "  </tbody>\n",
       "</table>\n",
       "</div>"
      ],
      "text/plain": [
       "      Type Method             Regionname  Rooms  Distance  Postcode  Bedroom2  \\\n",
       "12167    u      S  Southern Metropolitan      1       5.0    3182.0       1.0   \n",
       "6524     h     SA   Western Metropolitan      2       8.0    3016.0       2.0   \n",
       "8413     h      S   Western Metropolitan      3      12.6    3020.0       3.0   \n",
       "2919     u     SP  Northern Metropolitan      3      13.0    3046.0       3.0   \n",
       "6043     h      S   Western Metropolitan      3      13.3    3020.0       3.0   \n",
       "\n",
       "       Bathroom  Car  Landsize  BuildingArea  YearBuilt  Lattitude  \\\n",
       "12167       1.0  1.0       0.0           NaN     1940.0  -37.85984   \n",
       "6524        2.0  1.0     193.0           NaN        NaN  -37.85800   \n",
       "8413        1.0  1.0     555.0           NaN        NaN  -37.79880   \n",
       "2919        1.0  1.0     265.0           NaN     1995.0  -37.70830   \n",
       "6043        1.0  2.0     673.0         673.0     1970.0  -37.76230   \n",
       "\n",
       "       Longtitude  Propertycount  \n",
       "12167    144.9867        13240.0  \n",
       "6524     144.9005         6380.0  \n",
       "8413     144.8220         3755.0  \n",
       "2919     144.9158         8870.0  \n",
       "6043     144.8272         4217.0  "
      ]
     },
     "execution_count": 7,
     "metadata": {},
     "output_type": "execute_result"
    }
   ],
   "source": [
    "X_train.head()"
   ]
  },
  {
   "cell_type": "markdown",
   "id": "5cd6869d",
   "metadata": {
    "papermill": {
     "duration": 0.003116,
     "end_time": "2023-04-21T13:40:45.732696",
     "exception": false,
     "start_time": "2023-04-21T13:40:45.729580",
     "status": "completed"
    },
    "tags": []
   },
   "source": [
    "Chúng ta xây dựng *pipeline* hoàn chỉnh trong ba bước.\n",
    "\n",
    "### Bước 1: Xác định các bước tiền xử lý (# Step 1: Define Preprocessing Steps #)\n",
    "\n",
    "Tương tự như cách *pipeline* gói gọn các bước tiền xử lý và mô hình hóa, chúng ta sử dụng lớp `ColumnTransformer` để gộp các bước tiền xử lý khác nhau vào một quy trình duy nhất.  \n",
    "\n",
    "Đoạn mã dưới đây thực hiện:\n",
    "- Điền giá trị bị thiếu (*imputation*) cho dữ liệu **_số học_** (*numerical data*), và  \n",
    "- Điền giá trị bị thiếu đồng thời áp dụng *one-hot encoding* cho dữ liệu **_phân loại_** (*categorical data*).  "
   ]
  },
  {
   "cell_type": "code",
   "execution_count": 8,
   "id": "fb0a7110",
   "metadata": {
    "execution": {
     "iopub.execute_input": "2023-04-21T13:40:45.741376Z",
     "iopub.status.busy": "2023-04-21T13:40:45.740370Z",
     "iopub.status.idle": "2023-04-21T13:40:45.951131Z",
     "shell.execute_reply": "2023-04-21T13:40:45.950028Z"
    },
    "papermill": {
     "duration": 0.217754,
     "end_time": "2023-04-21T13:40:45.953692",
     "exception": false,
     "start_time": "2023-04-21T13:40:45.735938",
     "status": "completed"
    },
    "tags": []
   },
   "outputs": [],
   "source": [
    "from sklearn.compose import ColumnTransformer\n",
    "from sklearn.pipeline import Pipeline\n",
    "from sklearn.impute import SimpleImputer\n",
    "from sklearn.preprocessing import OneHotEncoder\n",
    "\n",
    "# Preprocessing for numerical data\n",
    "numerical_transformer = SimpleImputer(strategy='constant')\n",
    "\n",
    "# Preprocessing for categorical data\n",
    "categorical_transformer = Pipeline(steps=[\n",
    "    ('imputer', SimpleImputer(strategy='most_frequent')),\n",
    "    ('onehot', OneHotEncoder(handle_unknown='ignore'))\n",
    "])\n",
    "\n",
    "# Bundle preprocessing for numerical and categorical data\n",
    "preprocessor = ColumnTransformer(\n",
    "    transformers=[\n",
    "        ('num', numerical_transformer, numerical_cols),\n",
    "        ('cat', categorical_transformer, categorical_cols)\n",
    "    ])"
   ]
  },
  {
   "cell_type": "markdown",
   "id": "12f9391e",
   "metadata": {
    "papermill": {
     "duration": 0.003434,
     "end_time": "2023-04-21T13:40:45.960785",
     "exception": false,
     "start_time": "2023-04-21T13:40:45.957351",
     "status": "completed"
    },
    "tags": []
   },
   "source": [
    "### Bước 2: Xác định mô hình (# Step 2: Define the Model #)\n",
    "\n",
    "Tiếp theo, chúng ta xác định một mô hình *random forest* bằng cách sử dụng lớp [`RandomForestRegressor`](https://scikit-learn.org/stable/modules/generated/sklearn.ensemble.RandomForestRegressor.html) quen thuộc."
   ]
  },
  {
   "cell_type": "code",
   "execution_count": 9,
   "id": "e8a8ffca",
   "metadata": {
    "execution": {
     "iopub.execute_input": "2023-04-21T13:40:45.970148Z",
     "iopub.status.busy": "2023-04-21T13:40:45.969187Z",
     "iopub.status.idle": "2023-04-21T13:40:46.130277Z",
     "shell.execute_reply": "2023-04-21T13:40:46.129302Z"
    },
    "papermill": {
     "duration": 0.168677,
     "end_time": "2023-04-21T13:40:46.132968",
     "exception": false,
     "start_time": "2023-04-21T13:40:45.964291",
     "status": "completed"
    },
    "tags": []
   },
   "outputs": [],
   "source": [
    "from sklearn.ensemble import RandomForestRegressor\n",
    "\n",
    "model = RandomForestRegressor(n_estimators=100, random_state=0)"
   ]
  },
  {
   "cell_type": "markdown",
   "id": "5835429f",
   "metadata": {
    "papermill": {
     "duration": 0.003398,
     "end_time": "2023-04-21T13:40:46.140308",
     "exception": false,
     "start_time": "2023-04-21T13:40:46.136910",
     "status": "completed"
    },
    "tags": []
   },
   "source": [
    "### Bước 3: Tạo và đánh giá *Pipeline* (# Step 3: Create and Evaluate the Pipeline #)\n",
    "\n",
    "Cuối cùng, chúng ta sử dụng lớp [`Pipeline`](https://scikit-learn.org/stable/modules/generated/sklearn.pipeline.Pipeline.html) để định nghĩa một *pipeline* gói gọn cả bước tiền xử lý và mô hình hóa.  \n",
    "\n",
    "Có một số điểm quan trọng cần lưu ý:\n",
    "- Với *pipeline*, chúng ta có thể tiền xử lý dữ liệu huấn luyện và huấn luyện mô hình chỉ trong một dòng lệnh.  \n",
    "  (_Ngược lại, nếu không sử dụng *pipeline*, chúng ta phải thực hiện riêng lẻ các bước điền giá trị bị thiếu (*imputation*), mã hóa *one-hot encoding*, và huấn luyện mô hình. Điều này trở nên rất rối nếu phải xử lý cả biến số học và biến phân loại!_)  \n",
    "- Với *pipeline*, chúng ta có thể cung cấp các đặc trưng thô (*unprocessed features*) trong `X_valid` vào lệnh `predict()`, và *pipeline* sẽ tự động tiền xử lý dữ liệu trước khi tạo dự đoán.  \n",
    "  (_Tuy nhiên, nếu không sử dụng *pipeline*, chúng ta phải nhớ tiền xử lý dữ liệu kiểm định trước khi thực hiện dự đoán._)  "
   ]
  },
  {
   "cell_type": "code",
   "execution_count": 10,
   "id": "ff3d7dda",
   "metadata": {
    "execution": {
     "iopub.execute_input": "2023-04-21T13:40:46.149196Z",
     "iopub.status.busy": "2023-04-21T13:40:46.148800Z",
     "iopub.status.idle": "2023-04-21T13:40:53.573802Z",
     "shell.execute_reply": "2023-04-21T13:40:53.572529Z"
    },
    "papermill": {
     "duration": 7.432721,
     "end_time": "2023-04-21T13:40:53.576613",
     "exception": false,
     "start_time": "2023-04-21T13:40:46.143892",
     "status": "completed"
    },
    "tags": []
   },
   "outputs": [
    {
     "name": "stdout",
     "output_type": "stream",
     "text": [
      "MAE: 160679.18917034855\n"
     ]
    }
   ],
   "source": [
    "from sklearn.metrics import mean_absolute_error\n",
    "\n",
    "# Bundle preprocessing and modeling code in a pipeline\n",
    "my_pipeline = Pipeline(steps=[('preprocessor', preprocessor),\n",
    "                              ('model', model)\n",
    "                             ])\n",
    "\n",
    "# Preprocessing of training data, fit model \n",
    "my_pipeline.fit(X_train, y_train)\n",
    "\n",
    "# Preprocessing of validation data, get predictions\n",
    "preds = my_pipeline.predict(X_valid)\n",
    "\n",
    "# Evaluate the model\n",
    "score = mean_absolute_error(y_valid, preds)\n",
    "print('MAE:', score)"
   ]
  },
  {
   "cell_type": "markdown",
   "id": "17cc93b6",
   "metadata": {
    "papermill": {
     "duration": 0.003484,
     "end_time": "2023-04-21T13:40:53.583981",
     "exception": false,
     "start_time": "2023-04-21T13:40:53.580497",
     "status": "completed"
    },
    "tags": []
   },
   "source": [
    "# Kết luận (# Conclusion #)\n",
    "\n",
    "*Pipelines* rất hữu ích để làm gọn mã *machine learning* và giảm thiểu lỗi, đặc biệt quan trọng khi làm việc với quy trình tiền xử lý dữ liệu phức tạp.\n",
    "\n",
    "# Đến lượt bạn! (# Your Turn #)\n",
    "\n",
    "Hãy sử dụng *pipeline* trong [**bài tập tiếp theo**](https://www.kaggle.com/kernels/fork/3370278) để áp dụng các kỹ thuật tiền xử lý dữ liệu nâng cao và cải thiện độ chính xác dự đoán của bạn!"
   ]
  },
  {
   "cell_type": "markdown",
   "id": "3b3e14f3",
   "metadata": {
    "papermill": {
     "duration": 0.003579,
     "end_time": "2023-04-21T13:40:53.591254",
     "exception": false,
     "start_time": "2023-04-21T13:40:53.587675",
     "status": "completed"
    },
    "tags": []
   },
   "source": [
    "---\n",
    "\n",
    "\n",
    "\n",
    "\n",
    "*Have questions or comments? Visit the [course discussion forum](https://www.kaggle.com/learn/intermediate-machine-learning/discussion) to chat with other learners.*"
   ]
  }
 ],
 "metadata": {
  "kernelspec": {
   "display_name": "Python 3",
   "language": "python",
   "name": "python3"
  },
  "language_info": {
   "codemirror_mode": {
    "name": "ipython",
    "version": 3
   },
   "file_extension": ".py",
   "mimetype": "text/x-python",
   "name": "python",
   "nbconvert_exporter": "python",
   "pygments_lexer": "ipython3",
   "version": "3.13.2"
  },
  "papermill": {
   "default_parameters": {},
   "duration": 19.595097,
   "end_time": "2023-04-21T13:40:54.316981",
   "environment_variables": {},
   "exception": null,
   "input_path": "__notebook__.ipynb",
   "output_path": "__notebook__.ipynb",
   "parameters": {},
   "start_time": "2023-04-21T13:40:34.721884",
   "version": "2.4.0"
  }
 },
 "nbformat": 4,
 "nbformat_minor": 5
}
