{
 "cells": [
  {
   "cell_type": "markdown",
   "id": "bc75bd21",
   "metadata": {
    "papermill": {
     "duration": 0.004224,
     "end_time": "2023-04-21T13:40:55.737383",
     "exception": false,
     "start_time": "2023-04-21T13:40:55.733159",
     "status": "completed"
    },
    "tags": []
   },
   "source": [
    "Trong hướng dẫn này, bạn sẽ học cách sử dụng **cross-validation** để có thước đo chính xác hơn về hiệu suất mô hình.\n",
    "\n",
    "# Giới thiệu (# Introduction #)\n",
    "\n",
    "*Machine learning* là một quá trình lặp đi lặp lại.\n",
    "\n",
    "Bạn sẽ phải đưa ra các lựa chọn như: sử dụng biến dự đoán nào, chọn loại mô hình nào, thiết lập các tham số cho mô hình ra sao, v.v. Cho đến nay, bạn đã thực hiện các lựa chọn này dựa trên dữ liệu bằng cách đo lường chất lượng mô hình với một tập kiểm định (*validation set*, còn gọi là *holdout set*).\n",
    "\n",
    "Tuy nhiên, phương pháp này có một số hạn chế. Hãy xem xét một ví dụ: giả sử bạn có một tập dữ liệu với 5000 hàng. Thông thường, bạn sẽ giữ lại khoảng 20% dữ liệu làm tập kiểm định, tức khoảng 1000 hàng. Tuy nhiên, điều này dẫn đến một yếu tố ngẫu nhiên trong việc xác định điểm số mô hình.  \n",
    "\n",
    "Nói cách khác, một mô hình có thể hoạt động tốt trên một tập gồm 1000 hàng, nhưng có thể kém chính xác hơn nếu sử dụng một tập kiểm định khác cũng gồm 1000 hàng.\n",
    "\n",
    "Hãy tưởng tượng trường hợp cực đoan, khi tập kiểm định chỉ có duy nhất 1 hàng dữ liệu. Nếu bạn so sánh các mô hình với nhau, mô hình nào dự đoán tốt hơn trên chỉ một điểm dữ liệu sẽ gần như hoàn toàn do may mắn!\n",
    "\n",
    "Nhìn chung, tập kiểm định càng lớn thì yếu tố ngẫu nhiên (hay còn gọi là \"nhiễu\") trong việc đánh giá chất lượng mô hình càng ít, và kết quả đo lường sẽ càng đáng tin cậy hơn.  \n",
    "\n",
    "Tuy nhiên, để có một tập kiểm định lớn, bạn phải hy sinh số lượng dữ liệu huấn luyện. Và điều này có thể dẫn đến việc mô hình hoạt động kém hơn do thiếu dữ liệu để học!"
   ]
  },
  {
   "cell_type": "markdown",
   "id": "d472b783",
   "metadata": {
    "papermill": {
     "duration": 0.002888,
     "end_time": "2023-04-21T13:40:55.743783",
     "exception": false,
     "start_time": "2023-04-21T13:40:55.740895",
     "status": "completed"
    },
    "tags": []
   },
   "source": [
    "# Cross-validation là gì? (# What is cross-validation? #)\n",
    "\n",
    "Trong **cross-validation**, chúng ta chạy quá trình huấn luyện mô hình trên các tập con khác nhau của dữ liệu để có được nhiều thước đo về chất lượng mô hình.\n",
    "\n",
    "Ví dụ, chúng ta có thể bắt đầu bằng cách chia dữ liệu thành 5 phần, mỗi phần chiếm 20% tổng số dữ liệu. Trong trường hợp này, chúng ta nói rằng dữ liệu đã được chia thành 5 \"**folds**\" (*gấp nếp*).  \n",
    "\n",
    "![tut5_crossval](https://storage.googleapis.com/kaggle-media/learn/images/9k60cVA.png)\n",
    "\n",
    "Sau đó, chúng ta thực hiện một thí nghiệm cho mỗi *fold*:\n",
    "- Trong **Thí nghiệm 1**, chúng ta sử dụng *fold* đầu tiên làm tập kiểm định (*validation set* hoặc *holdout set*), và phần còn lại làm dữ liệu huấn luyện. Điều này giúp chúng ta có một thước đo về chất lượng mô hình dựa trên 20% tập kiểm định.\n",
    "- Trong **Thí nghiệm 2**, chúng ta giữ lại dữ liệu từ *fold* thứ hai để kiểm định (và sử dụng tất cả các *fold* khác để huấn luyện mô hình). Tập kiểm định này sẽ giúp có một ước lượng thứ hai về chất lượng mô hình.\n",
    "- Chúng ta tiếp tục lặp lại quy trình này, sao cho mỗi *fold* được sử dụng làm tập kiểm định đúng một lần.  \n",
    "\n",
    "Tổng hợp lại, 100% dữ liệu sẽ được sử dụng làm tập kiểm định vào một thời điểm nào đó, và cuối cùng chúng ta có một thước đo chất lượng mô hình dựa trên toàn bộ dữ liệu (mặc dù không sử dụng tất cả các hàng cùng một lúc).\n",
    "\n",
    "# Khi nào nên sử dụng cross-validation? (# When should you use cross-validation? #)\n",
    "\n",
    "*Cross-validation* cung cấp một thước đo chất lượng mô hình chính xác hơn, điều này đặc biệt quan trọng khi bạn cần đưa ra nhiều quyết định liên quan đến mô hình. Tuy nhiên, quá trình này có thể mất nhiều thời gian hơn để chạy, vì nó yêu cầu ước lượng nhiều mô hình (một mô hình cho mỗi *fold*).\n",
    "\n",
    "Vậy khi nào nên sử dụng từng phương pháp?\n",
    "- _Đối với tập dữ liệu nhỏ_, khi thời gian tính toán không phải là vấn đề lớn, bạn nên chạy *cross-validation*.\n",
    "- _Đối với tập dữ liệu lớn_, một tập kiểm định duy nhất là đủ. Mã của bạn sẽ chạy nhanh hơn, và bạn có thể có đủ dữ liệu để không cần tái sử dụng một phần dữ liệu làm kiểm định.\n",
    "\n",
    "Không có một ngưỡng cụ thể nào để xác định một tập dữ liệu là lớn hay nhỏ. Tuy nhiên, nếu mô hình của bạn chạy trong khoảng vài phút hoặc ít hơn, thì có lẽ *cross-validation* là một lựa chọn đáng cân nhắc.\n",
    "\n",
    "Ngoài ra, bạn có thể chạy *cross-validation* và quan sát xem các điểm số từ mỗi lần kiểm định có tương tự nhau không. Nếu mỗi lần kiểm định cho ra kết quả tương tự, thì có thể một tập kiểm định duy nhất là đủ."
   ]
  },
  {
   "cell_type": "markdown",
   "id": "ba08be68",
   "metadata": {
    "papermill": {
     "duration": 0.002804,
     "end_time": "2023-04-21T13:40:55.749701",
     "exception": false,
     "start_time": "2023-04-21T13:40:55.746897",
     "status": "completed"
    },
    "tags": []
   },
   "source": [
    "# Ví dụ (# Example #)\n",
    "\n",
    "Chúng ta sẽ làm việc với cùng một tập dữ liệu như trong hướng dẫn trước.  \n",
    "\n",
    "Dữ liệu đầu vào (*input data*) được tải vào biến `X`, và dữ liệu đầu ra (*output data*) được lưu trong biến `y`."
   ]
  },
  {
   "cell_type": "code",
   "execution_count": 2,
   "id": "c0006cba",
   "metadata": {
    "_kg_hide-input": true,
    "_kg_hide-output": true,
    "execution": {
     "iopub.execute_input": "2023-04-21T13:40:55.757933Z",
     "iopub.status.busy": "2023-04-21T13:40:55.757524Z",
     "iopub.status.idle": "2023-04-21T13:40:55.878646Z",
     "shell.execute_reply": "2023-04-21T13:40:55.877025Z"
    },
    "papermill": {
     "duration": 0.128867,
     "end_time": "2023-04-21T13:40:55.881726",
     "exception": false,
     "start_time": "2023-04-21T13:40:55.752859",
     "status": "completed"
    },
    "tags": []
   },
   "outputs": [],
   "source": [
    "\n",
    "import pandas as pd\n",
    "\n",
    "# Read the data\n",
    "data = pd.read_csv('melb_data.csv')\n",
    "\n",
    "# Select subset of predictors\n",
    "cols_to_use = ['Rooms', 'Distance', 'Landsize', 'BuildingArea', 'YearBuilt']\n",
    "X = data[cols_to_use]\n",
    "\n",
    "# Select target\n",
    "y = data.Price"
   ]
  },
  {
   "cell_type": "markdown",
   "id": "d3637747",
   "metadata": {
    "papermill": {
     "duration": 0.003606,
     "end_time": "2023-04-21T13:40:55.888837",
     "exception": false,
     "start_time": "2023-04-21T13:40:55.885231",
     "status": "completed"
    },
    "tags": []
   },
   "source": [
    "Tiếp theo, chúng ta định nghĩa một *pipeline* bao gồm một *imputer* để điền giá trị bị thiếu và một mô hình *random forest* để thực hiện dự đoán.\n",
    "\n",
    "Mặc dù _có thể_ thực hiện *cross-validation* mà không cần *pipelines*, nhưng điều này khá phức tạp!  \n",
    "\n",
    "Sử dụng *pipeline* sẽ giúp mã nguồn trở nên cực kỳ đơn giản và dễ hiểu."
   ]
  },
  {
   "cell_type": "code",
   "execution_count": 3,
   "id": "84da7bae",
   "metadata": {
    "execution": {
     "iopub.execute_input": "2023-04-21T13:40:55.898846Z",
     "iopub.status.busy": "2023-04-21T13:40:55.898395Z",
     "iopub.status.idle": "2023-04-21T13:40:57.504507Z",
     "shell.execute_reply": "2023-04-21T13:40:57.503027Z"
    },
    "papermill": {
     "duration": 1.614776,
     "end_time": "2023-04-21T13:40:57.507609",
     "exception": false,
     "start_time": "2023-04-21T13:40:55.892833",
     "status": "completed"
    },
    "tags": []
   },
   "outputs": [],
   "source": [
    "from sklearn.ensemble import RandomForestRegressor\n",
    "from sklearn.pipeline import Pipeline\n",
    "from sklearn.impute import SimpleImputer\n",
    "\n",
    "my_pipeline = Pipeline(steps=[('preprocessor', SimpleImputer()),\n",
    "                              ('model', RandomForestRegressor(n_estimators=50,\n",
    "                                                              random_state=0))\n",
    "                             ])"
   ]
  },
  {
   "cell_type": "markdown",
   "id": "8a332912",
   "metadata": {
    "papermill": {
     "duration": 0.003444,
     "end_time": "2023-04-21T13:40:57.514559",
     "exception": false,
     "start_time": "2023-04-21T13:40:57.511115",
     "status": "completed"
    },
    "tags": []
   },
   "source": [
    "Chúng ta lấy các điểm số *cross-validation* bằng cách sử dụng hàm [`cross_val_score()`](https://scikit-learn.org/stable/modules/generated/sklearn.model_selection.cross_val_score.html) từ *scikit-learn*.  \n",
    "\n",
    "Số lượng *folds* được thiết lập thông qua tham số `cv`."
   ]
  },
  {
   "cell_type": "code",
   "execution_count": 4,
   "id": "6a889605",
   "metadata": {
    "execution": {
     "iopub.execute_input": "2023-04-21T13:40:57.523701Z",
     "iopub.status.busy": "2023-04-21T13:40:57.522615Z",
     "iopub.status.idle": "2023-04-21T13:41:04.786128Z",
     "shell.execute_reply": "2023-04-21T13:41:04.784869Z"
    },
    "papermill": {
     "duration": 7.270887,
     "end_time": "2023-04-21T13:41:04.788755",
     "exception": false,
     "start_time": "2023-04-21T13:40:57.517868",
     "status": "completed"
    },
    "tags": []
   },
   "outputs": [
    {
     "name": "stdout",
     "output_type": "stream",
     "text": [
      "MAE scores:\n",
      " [301628.7893587  303164.4782723  287298.331666   236061.84754543\n",
      " 260383.45111427]\n"
     ]
    }
   ],
   "source": [
    "from sklearn.model_selection import cross_val_score\n",
    "\n",
    "# Multiply by -1 since sklearn calculates *negative* MAE\n",
    "scores = -1 * cross_val_score(my_pipeline, X, y,\n",
    "                              cv=5,\n",
    "                              scoring='neg_mean_absolute_error')\n",
    "\n",
    "print(\"MAE scores:\\n\", scores)"
   ]
  },
  {
   "cell_type": "markdown",
   "id": "81ab30a0",
   "metadata": {
    "papermill": {
     "duration": 0.003084,
     "end_time": "2023-04-21T13:41:04.795253",
     "exception": false,
     "start_time": "2023-04-21T13:41:04.792169",
     "status": "completed"
    },
    "tags": []
   },
   "source": [
    "Tham số `scoring` xác định thước đo chất lượng mô hình để báo cáo. Trong trường hợp này, chúng ta chọn *negative mean absolute error* (*MAE âm*).  \n",
    "\n",
    "Tài liệu của *scikit-learn* cung cấp [danh sách các tùy chọn](http://scikit-learn.org/stable/modules/model_evaluation.html).\n",
    "\n",
    "Việc sử dụng *MAE âm* có thể gây bất ngờ. *Scikit-learn* có quy ước rằng tất cả các thước đo đều được định nghĩa sao cho giá trị cao hơn là tốt hơn.  \n",
    "\n",
    "Sử dụng giá trị âm của MAE giúp tuân theo quy ước đó, mặc dù *MAE âm* gần như không được sử dụng ở bất cứ đâu ngoài *scikit-learn*.  \n",
    "\n",
    "Thông thường, chúng ta muốn một giá trị duy nhất để so sánh các mô hình khác nhau. Vì vậy, chúng ta lấy trung bình kết quả qua các lần thử nghiệm."
   ]
  },
  {
   "cell_type": "code",
   "execution_count": 5,
   "id": "c8f201d8",
   "metadata": {
    "execution": {
     "iopub.execute_input": "2023-04-21T13:41:04.804321Z",
     "iopub.status.busy": "2023-04-21T13:41:04.803211Z",
     "iopub.status.idle": "2023-04-21T13:41:04.810610Z",
     "shell.execute_reply": "2023-04-21T13:41:04.809367Z"
    },
    "papermill": {
     "duration": 0.014462,
     "end_time": "2023-04-21T13:41:04.812978",
     "exception": false,
     "start_time": "2023-04-21T13:41:04.798516",
     "status": "completed"
    },
    "tags": []
   },
   "outputs": [
    {
     "name": "stdout",
     "output_type": "stream",
     "text": [
      "Average MAE score (across experiments):\n",
      "277707.3795913405\n"
     ]
    }
   ],
   "source": [
    "print(\"Average MAE score (across experiments):\")\n",
    "print(scores.mean())"
   ]
  },
  {
   "cell_type": "markdown",
   "id": "225a68dc",
   "metadata": {
    "papermill": {
     "duration": 0.00335,
     "end_time": "2023-04-21T13:41:04.819952",
     "exception": false,
     "start_time": "2023-04-21T13:41:04.816602",
     "status": "completed"
    },
    "tags": []
   },
   "source": [
    "# Kết luận (# Conclusion #)\n",
    "\n",
    "Sử dụng *cross-validation* giúp đánh giá chất lượng mô hình chính xác hơn, đồng thời làm cho mã nguồn gọn gàng hơn:  \n",
    "\n",
    "Lưu ý rằng chúng ta không còn cần phải theo dõi riêng biệt tập huấn luyện và tập kiểm định.  \n",
    "\n",
    "Vì vậy, đặc biệt đối với các tập dữ liệu nhỏ, *cross-validation* là một cải tiến đáng giá!\n",
    "\n",
    "# Đến lượt bạn! (# Your Turn #)\n",
    "\n",
    "Hãy áp dụng kỹ năng mới của bạn trong **[bài tập tiếp theo](https://www.kaggle.com/kernels/fork/3370281)**!"
   ]
  },
  {
   "cell_type": "markdown",
   "id": "cdbe24d5",
   "metadata": {
    "papermill": {
     "duration": 0.003003,
     "end_time": "2023-04-21T13:41:04.826274",
     "exception": false,
     "start_time": "2023-04-21T13:41:04.823271",
     "status": "completed"
    },
    "tags": []
   },
   "source": [
    "---\n",
    "\n",
    "\n",
    "\n",
    "\n",
    "*Have questions or comments? Visit the [course discussion forum](https://www.kaggle.com/learn/intermediate-machine-learning/discussion) to chat with other learners.*"
   ]
  }
 ],
 "metadata": {
  "kernelspec": {
   "display_name": "Python 3",
   "language": "python",
   "name": "python3"
  },
  "language_info": {
   "codemirror_mode": {
    "name": "ipython",
    "version": 3
   },
   "file_extension": ".py",
   "mimetype": "text/x-python",
   "name": "python",
   "nbconvert_exporter": "python",
   "pygments_lexer": "ipython3",
   "version": "3.13.2"
  },
  "papermill": {
   "default_parameters": {},
   "duration": 20.968388,
   "end_time": "2023-04-21T13:41:05.654386",
   "environment_variables": {},
   "exception": null,
   "input_path": "__notebook__.ipynb",
   "output_path": "__notebook__.ipynb",
   "parameters": {},
   "start_time": "2023-04-21T13:40:44.685998",
   "version": "2.4.0"
  }
 },
 "nbformat": 4,
 "nbformat_minor": 5
}
