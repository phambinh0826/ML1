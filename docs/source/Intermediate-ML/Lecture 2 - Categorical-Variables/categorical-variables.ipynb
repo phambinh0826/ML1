{
 "cells": [
  {
   "cell_type": "markdown",
   "id": "ebf629ad",
   "metadata": {
    "papermill": {
     "duration": 0.005599,
     "end_time": "2023-04-21T13:40:51.190955",
     "exception": false,
     "start_time": "2023-04-21T13:40:51.185356",
     "status": "completed"
    },
    "tags": []
   },
   "source": [
    "Trong hướng dẫn này, bạn sẽ tìm hiểu **biến phân loại** (*categorical variable*) là gì, cùng với ba phương pháp để xử lý loại dữ liệu này.\n",
    "\n",
    "# Giới thiệu (# Introduction #)\n",
    "\n",
    "Một **biến phân loại** (*categorical variable*) chỉ có thể nhận một số lượng giới hạn các giá trị.\n",
    "\n",
    "- Hãy xem xét một cuộc khảo sát hỏi về tần suất ăn sáng của bạn với bốn lựa chọn: \"Không bao giờ\", \"Hiếm khi\", \"Hầu hết các ngày\", hoặc \"Mỗi ngày\". Trong trường hợp này, dữ liệu thuộc loại phân loại vì câu trả lời rơi vào một tập hợp cố định các danh mục.\n",
    "- Nếu mọi người trả lời khảo sát về thương hiệu ô tô họ sở hữu, các câu trả lời sẽ thuộc các danh mục như \"Honda\", \"Toyota\" và \"Ford\". Trong trường hợp này, dữ liệu cũng là phân loại.\n",
    "\n",
    "Nếu bạn cố gắng đưa những biến này vào hầu hết các mô hình *machine learning* trong Python mà không xử lý trước, bạn sẽ gặp lỗi. Trong hướng dẫn này, chúng ta sẽ so sánh ba phương pháp mà bạn có thể sử dụng để chuẩn bị dữ liệu phân loại.\n",
    "\n",
    "# Ba phương pháp tiếp cận (# Three Approaches #)\n",
    "\n",
    "### 1) Loại bỏ biến phân loại (# Drop Categorical Variables #)\n",
    "\n",
    "Cách dễ nhất để xử lý biến phân loại là đơn giản loại bỏ chúng khỏi tập dữ liệu. Tuy nhiên, phương pháp này chỉ phù hợp nếu các cột bị loại bỏ không chứa thông tin hữu ích.\n",
    "\n",
    "### 2) Mã hóa thứ tự (*Ordinal Encoding*) (# Ordinal Encoding #)\n",
    "\n",
    "**Ordinal encoding** gán một số nguyên khác nhau cho mỗi giá trị duy nhất.\n",
    "\n",
    "![tut3_ordinalencode](https://storage.googleapis.com/kaggle-media/learn/images/tEogUAr.png)\n",
    "\n",
    "Phương pháp này giả định rằng các danh mục có một thứ tự nhất định:  \n",
    "\"Không bao giờ\" (0) < \"Hiếm khi\" (1) < \"Hầu hết các ngày\" (2) < \"Mỗi ngày\" (3).  \n",
    "\n",
    "Giả định này hợp lý trong ví dụ này vì có một thứ tự xếp hạng rõ ràng giữa các danh mục. Không phải tất cả các biến phân loại đều có thứ tự rõ ràng, nhưng những biến có thứ tự như vậy được gọi là **biến thứ tự** (*ordinal variables*).  \n",
    "\n",
    "Đối với các mô hình dựa trên cây (*tree-based models*) như *decision trees* và *random forests*, bạn có thể mong đợi *ordinal encoding* hoạt động tốt với các biến thứ tự.\n",
    "\n",
    "### 3) Mã hóa one-hot (*One-Hot Encoding*) (# One-Hot Encoding #)\n",
    "\n",
    "**One-hot encoding** tạo ra các cột mới để chỉ ra sự xuất hiện (hoặc không xuất hiện) của từng giá trị có thể có trong dữ liệu gốc.  \n",
    "\n",
    "Hãy cùng xem xét một ví dụ.\n",
    "\n",
    "![tut3_onehot](https://storage.googleapis.com/kaggle-media/learn/images/TW5m0aJ.png)\n",
    "\n",
    "Trong tập dữ liệu ban đầu, \"Color\" là một biến phân loại có ba danh mục: \"Red\", \"Yellow\" và \"Green\".  \n",
    "\n",
    "Tương ứng, *one-hot encoding* tạo ra một cột riêng biệt cho từng giá trị có thể có, với mỗi hàng tương ứng với một hàng trong tập dữ liệu gốc.  \n",
    "- Nếu giá trị ban đầu là \"Red\", chúng ta đặt `1` vào cột \"Red\".  \n",
    "- Nếu giá trị ban đầu là \"Yellow\", chúng ta đặt `1` vào cột \"Yellow\".  \n",
    "- Và tương tự với các giá trị khác.  \n",
    "\n",
    "Khác với *ordinal encoding*, *one-hot encoding* **không** giả định thứ tự giữa các danh mục. Do đó, phương pháp này đặc biệt hữu ích khi không có thứ tự rõ ràng trong dữ liệu phân loại (ví dụ: \"Red\" không *hơn* hay *kém* \"Yellow\"). Những biến phân loại không có thứ tự nội tại được gọi là **biến danh định** (*nominal variables*).\n",
    "\n",
    "Tuy nhiên, *one-hot encoding* thường không hoạt động tốt nếu biến phân loại có quá nhiều giá trị khác nhau (thường không nên áp dụng cho biến có hơn 15 giá trị duy nhất).\n",
    "\n",
    "# Ví dụ (# Example #)\n",
    "\n",
    "Giống như trong hướng dẫn trước, chúng ta sẽ làm việc với tập dữ liệu [Melbourne Housing](https://www.kaggle.com/dansbecker/melbourne-housing-snapshot/home).  \n",
    "\n",
    "Chúng ta sẽ không tập trung vào bước tải dữ liệu. Thay vào đó, giả sử rằng chúng ta đã có sẵn dữ liệu huấn luyện và kiểm định trong các biến:  \n",
    "- `X_train`, `X_valid` (tập đặc trưng huấn luyện và kiểm định)  \n",
    "- `y_train`, `y_valid` (tập mục tiêu huấn luyện và kiểm định)\n"
   ]
  },
  {
   "cell_type": "code",
   "execution_count": 11,
   "id": "82c93657",
   "metadata": {
    "_kg_hide-input": true,
    "_kg_hide-output": true,
    "execution": {
     "iopub.execute_input": "2023-04-21T13:40:51.203277Z",
     "iopub.status.busy": "2023-04-21T13:40:51.202120Z",
     "iopub.status.idle": "2023-04-21T13:40:52.445296Z",
     "shell.execute_reply": "2023-04-21T13:40:52.443916Z"
    },
    "papermill": {
     "duration": 1.252981,
     "end_time": "2023-04-21T13:40:52.448612",
     "exception": false,
     "start_time": "2023-04-21T13:40:51.195631",
     "status": "completed"
    },
    "tags": []
   },
   "outputs": [],
   "source": [
    "\n",
    "import pandas as pd\n",
    "from sklearn.model_selection import train_test_split\n",
    "\n",
    "# Read the data\n",
    "data = pd.read_csv('melb_data.csv')\n",
    "\n",
    "# Separate target from predictors\n",
    "y = data.Price\n",
    "X = data.drop(['Price'], axis=1)\n",
    "\n",
    "# Divide data into training and validation subsets\n",
    "X_train_full, X_valid_full, y_train, y_valid = train_test_split(X, y, train_size=0.8, test_size=0.2,\n",
    "                                                                random_state=0)\n",
    "\n",
    "# Drop columns with missing values (simplest approach)\n",
    "cols_with_missing = [col for col in X_train_full.columns if X_train_full[col].isnull().any()] \n",
    "X_train_full.drop(cols_with_missing, axis=1, inplace=True)\n",
    "X_valid_full.drop(cols_with_missing, axis=1, inplace=True)\n",
    "\n",
    "# \"Cardinality\" means the number of unique values in a column\n",
    "# Select categorical columns with relatively low cardinality (convenient but arbitrary)\n",
    "low_cardinality_cols = [cname for cname in X_train_full.columns if X_train_full[cname].nunique() < 10 and \n",
    "                        X_train_full[cname].dtype == \"object\"]\n",
    "\n",
    "# Select numerical columns\n",
    "numerical_cols = [cname for cname in X_train_full.columns if X_train_full[cname].dtype in ['int64', 'float64']]\n",
    "\n",
    "# Keep selected columns only\n",
    "my_cols = low_cardinality_cols + numerical_cols\n",
    "X_train = X_train_full[my_cols].copy()\n",
    "X_valid = X_valid_full[my_cols].copy()"
   ]
  },
  {
   "cell_type": "markdown",
   "id": "a42ad002",
   "metadata": {
    "papermill": {
     "duration": 0.003579,
     "end_time": "2023-04-21T13:40:52.456227",
     "exception": false,
     "start_time": "2023-04-21T13:40:52.452648",
     "status": "completed"
    },
    "tags": []
   },
   "source": [
    "Chúng ta xem qua dữ liệu huấn luyện bằng phương thức `head()` dưới đây."
   ]
  },
  {
   "cell_type": "code",
   "execution_count": 12,
   "id": "606efdbc",
   "metadata": {
    "execution": {
     "iopub.execute_input": "2023-04-21T13:40:52.466116Z",
     "iopub.status.busy": "2023-04-21T13:40:52.465038Z",
     "iopub.status.idle": "2023-04-21T13:40:52.501553Z",
     "shell.execute_reply": "2023-04-21T13:40:52.500028Z"
    },
    "papermill": {
     "duration": 0.044643,
     "end_time": "2023-04-21T13:40:52.504472",
     "exception": false,
     "start_time": "2023-04-21T13:40:52.459829",
     "status": "completed"
    },
    "tags": []
   },
   "outputs": [
    {
     "data": {
      "text/html": [
       "<div>\n",
       "<style scoped>\n",
       "    .dataframe tbody tr th:only-of-type {\n",
       "        vertical-align: middle;\n",
       "    }\n",
       "\n",
       "    .dataframe tbody tr th {\n",
       "        vertical-align: top;\n",
       "    }\n",
       "\n",
       "    .dataframe thead th {\n",
       "        text-align: right;\n",
       "    }\n",
       "</style>\n",
       "<table border=\"1\" class=\"dataframe\">\n",
       "  <thead>\n",
       "    <tr style=\"text-align: right;\">\n",
       "      <th></th>\n",
       "      <th>Type</th>\n",
       "      <th>Method</th>\n",
       "      <th>Regionname</th>\n",
       "      <th>Rooms</th>\n",
       "      <th>Distance</th>\n",
       "      <th>Postcode</th>\n",
       "      <th>Bedroom2</th>\n",
       "      <th>Bathroom</th>\n",
       "      <th>Landsize</th>\n",
       "      <th>Lattitude</th>\n",
       "      <th>Longtitude</th>\n",
       "      <th>Propertycount</th>\n",
       "    </tr>\n",
       "  </thead>\n",
       "  <tbody>\n",
       "    <tr>\n",
       "      <th>12167</th>\n",
       "      <td>u</td>\n",
       "      <td>S</td>\n",
       "      <td>Southern Metropolitan</td>\n",
       "      <td>1</td>\n",
       "      <td>5.0</td>\n",
       "      <td>3182.0</td>\n",
       "      <td>1.0</td>\n",
       "      <td>1.0</td>\n",
       "      <td>0.0</td>\n",
       "      <td>-37.85984</td>\n",
       "      <td>144.9867</td>\n",
       "      <td>13240.0</td>\n",
       "    </tr>\n",
       "    <tr>\n",
       "      <th>6524</th>\n",
       "      <td>h</td>\n",
       "      <td>SA</td>\n",
       "      <td>Western Metropolitan</td>\n",
       "      <td>2</td>\n",
       "      <td>8.0</td>\n",
       "      <td>3016.0</td>\n",
       "      <td>2.0</td>\n",
       "      <td>2.0</td>\n",
       "      <td>193.0</td>\n",
       "      <td>-37.85800</td>\n",
       "      <td>144.9005</td>\n",
       "      <td>6380.0</td>\n",
       "    </tr>\n",
       "    <tr>\n",
       "      <th>8413</th>\n",
       "      <td>h</td>\n",
       "      <td>S</td>\n",
       "      <td>Western Metropolitan</td>\n",
       "      <td>3</td>\n",
       "      <td>12.6</td>\n",
       "      <td>3020.0</td>\n",
       "      <td>3.0</td>\n",
       "      <td>1.0</td>\n",
       "      <td>555.0</td>\n",
       "      <td>-37.79880</td>\n",
       "      <td>144.8220</td>\n",
       "      <td>3755.0</td>\n",
       "    </tr>\n",
       "    <tr>\n",
       "      <th>2919</th>\n",
       "      <td>u</td>\n",
       "      <td>SP</td>\n",
       "      <td>Northern Metropolitan</td>\n",
       "      <td>3</td>\n",
       "      <td>13.0</td>\n",
       "      <td>3046.0</td>\n",
       "      <td>3.0</td>\n",
       "      <td>1.0</td>\n",
       "      <td>265.0</td>\n",
       "      <td>-37.70830</td>\n",
       "      <td>144.9158</td>\n",
       "      <td>8870.0</td>\n",
       "    </tr>\n",
       "    <tr>\n",
       "      <th>6043</th>\n",
       "      <td>h</td>\n",
       "      <td>S</td>\n",
       "      <td>Western Metropolitan</td>\n",
       "      <td>3</td>\n",
       "      <td>13.3</td>\n",
       "      <td>3020.0</td>\n",
       "      <td>3.0</td>\n",
       "      <td>1.0</td>\n",
       "      <td>673.0</td>\n",
       "      <td>-37.76230</td>\n",
       "      <td>144.8272</td>\n",
       "      <td>4217.0</td>\n",
       "    </tr>\n",
       "  </tbody>\n",
       "</table>\n",
       "</div>"
      ],
      "text/plain": [
       "      Type Method             Regionname  Rooms  Distance  Postcode  Bedroom2  \\\n",
       "12167    u      S  Southern Metropolitan      1       5.0    3182.0       1.0   \n",
       "6524     h     SA   Western Metropolitan      2       8.0    3016.0       2.0   \n",
       "8413     h      S   Western Metropolitan      3      12.6    3020.0       3.0   \n",
       "2919     u     SP  Northern Metropolitan      3      13.0    3046.0       3.0   \n",
       "6043     h      S   Western Metropolitan      3      13.3    3020.0       3.0   \n",
       "\n",
       "       Bathroom  Landsize  Lattitude  Longtitude  Propertycount  \n",
       "12167       1.0       0.0  -37.85984    144.9867        13240.0  \n",
       "6524        2.0     193.0  -37.85800    144.9005         6380.0  \n",
       "8413        1.0     555.0  -37.79880    144.8220         3755.0  \n",
       "2919        1.0     265.0  -37.70830    144.9158         8870.0  \n",
       "6043        1.0     673.0  -37.76230    144.8272         4217.0  "
      ]
     },
     "execution_count": 12,
     "metadata": {},
     "output_type": "execute_result"
    }
   ],
   "source": [
    "X_train.head()"
   ]
  },
  {
   "cell_type": "markdown",
   "id": "c66852e0",
   "metadata": {
    "papermill": {
     "duration": 0.004275,
     "end_time": "2023-04-21T13:40:52.513444",
     "exception": false,
     "start_time": "2023-04-21T13:40:52.509169",
     "status": "completed"
    },
    "tags": []
   },
   "source": [
    "Tiếp theo, chúng ta lấy danh sách tất cả các biến phân loại trong tập dữ liệu huấn luyện.\n",
    "\n",
    "Chúng ta thực hiện điều này bằng cách kiểm tra kiểu dữ liệu (*dtype*) của từng cột. Kiểu dữ liệu `object` cho biết một cột chứa văn bản (trên lý thuyết, nó có thể chứa các loại dữ liệu khác, nhưng điều này không quan trọng trong ngữ cảnh của chúng ta).  \n",
    "\n",
    "Đối với tập dữ liệu này, các cột chứa văn bản đại diện cho các biến phân loại."
   ]
  },
  {
   "cell_type": "code",
   "execution_count": 13,
   "id": "6fad3b7b",
   "metadata": {
    "execution": {
     "iopub.execute_input": "2023-04-21T13:40:52.525447Z",
     "iopub.status.busy": "2023-04-21T13:40:52.524085Z",
     "iopub.status.idle": "2023-04-21T13:40:52.532474Z",
     "shell.execute_reply": "2023-04-21T13:40:52.531238Z"
    },
    "papermill": {
     "duration": 0.017135,
     "end_time": "2023-04-21T13:40:52.535123",
     "exception": false,
     "start_time": "2023-04-21T13:40:52.517988",
     "status": "completed"
    },
    "tags": []
   },
   "outputs": [
    {
     "name": "stdout",
     "output_type": "stream",
     "text": [
      "Categorical variables:\n",
      "['Type', 'Method', 'Regionname']\n"
     ]
    }
   ],
   "source": [
    "# Get list of categorical variables\n",
    "s = (X_train.dtypes == 'object')\n",
    "object_cols = list(s[s].index)\n",
    "\n",
    "print(\"Categorical variables:\")\n",
    "print(object_cols)"
   ]
  },
  {
   "cell_type": "markdown",
   "id": "0ee1a930",
   "metadata": {
    "papermill": {
     "duration": 0.004169,
     "end_time": "2023-04-21T13:40:52.544040",
     "exception": false,
     "start_time": "2023-04-21T13:40:52.539871",
     "status": "completed"
    },
    "tags": []
   },
   "source": [
    "### Xác định hàm đánh giá chất lượng của từng phương pháp (# Define Function to Measure Quality of Each Approach #)\n",
    "\n",
    "Chúng ta định nghĩa một hàm `score_dataset()` để so sánh ba phương pháp xử lý biến phân loại khác nhau.  \n",
    "\n",
    "Hàm này sẽ báo cáo *mean absolute error* ([MAE](https://en.wikipedia.org/wiki/Mean_absolute_error) - sai số tuyệt đối trung bình) từ một mô hình *random forest*.  \n",
    "\n",
    "Nhìn chung, chúng ta muốn giá trị MAE càng thấp càng tốt!"
   ]
  },
  {
   "cell_type": "code",
   "execution_count": 14,
   "id": "4ab4871e",
   "metadata": {
    "_kg_hide-input": true,
    "_kg_hide-output": true,
    "execution": {
     "iopub.execute_input": "2023-04-21T13:40:52.555238Z",
     "iopub.status.busy": "2023-04-21T13:40:52.554025Z",
     "iopub.status.idle": "2023-04-21T13:40:52.935832Z",
     "shell.execute_reply": "2023-04-21T13:40:52.934549Z"
    },
    "papermill": {
     "duration": 0.39065,
     "end_time": "2023-04-21T13:40:52.939077",
     "exception": false,
     "start_time": "2023-04-21T13:40:52.548427",
     "status": "completed"
    },
    "tags": []
   },
   "outputs": [],
   "source": [
    "\n",
    "from sklearn.ensemble import RandomForestRegressor\n",
    "from sklearn.metrics import mean_absolute_error\n",
    "\n",
    "# Function for comparing different approaches\n",
    "def score_dataset(X_train, X_valid, y_train, y_valid):\n",
    "    model = RandomForestRegressor(n_estimators=100, random_state=0)\n",
    "    model.fit(X_train, y_train)\n",
    "    preds = model.predict(X_valid)\n",
    "    return mean_absolute_error(y_valid, preds)"
   ]
  },
  {
   "cell_type": "markdown",
   "id": "190ffaba",
   "metadata": {
    "papermill": {
     "duration": 0.004258,
     "end_time": "2023-04-21T13:40:52.949673",
     "exception": false,
     "start_time": "2023-04-21T13:40:52.945415",
     "status": "completed"
    },
    "tags": []
   },
   "source": [
    "### Điểm số từ phương pháp 1 (Loại bỏ biến phân loại) (# Score from Approach 1 (Drop Categorical Variables) #)\n",
    "\n",
    "Chúng ta loại bỏ các cột có kiểu dữ liệu `object` bằng phương thức [`select_dtypes()`](https://pandas.pydata.org/pandas-docs/stable/reference/api/pandas.DataFrame.select_dtypes.html)."
   ]
  },
  {
   "cell_type": "code",
   "execution_count": 15,
   "id": "d184ba5b",
   "metadata": {
    "_kg_hide-input": false,
    "execution": {
     "iopub.execute_input": "2023-04-21T13:40:52.961319Z",
     "iopub.status.busy": "2023-04-21T13:40:52.960463Z",
     "iopub.status.idle": "2023-04-21T13:40:57.970787Z",
     "shell.execute_reply": "2023-04-21T13:40:57.969206Z"
    },
    "papermill": {
     "duration": 5.019768,
     "end_time": "2023-04-21T13:40:57.973969",
     "exception": false,
     "start_time": "2023-04-21T13:40:52.954201",
     "status": "completed"
    },
    "tags": []
   },
   "outputs": [
    {
     "name": "stdout",
     "output_type": "stream",
     "text": [
      "MAE from Approach 1 (Drop categorical variables):\n",
      "175703.48185157913\n"
     ]
    }
   ],
   "source": [
    "drop_X_train = X_train.select_dtypes(exclude=['object'])\n",
    "drop_X_valid = X_valid.select_dtypes(exclude=['object'])\n",
    "\n",
    "print(\"MAE from Approach 1 (Drop categorical variables):\")\n",
    "print(score_dataset(drop_X_train, drop_X_valid, y_train, y_valid))"
   ]
  },
  {
   "cell_type": "markdown",
   "id": "3d0bccc0",
   "metadata": {
    "papermill": {
     "duration": 0.004613,
     "end_time": "2023-04-21T13:40:57.983695",
     "exception": false,
     "start_time": "2023-04-21T13:40:57.979082",
     "status": "completed"
    },
    "tags": []
   },
   "source": [
    "### Điểm số từ phương pháp 2 (Mã hóa thứ tự - Ordinal Encoding) (# Score from Approach 2 (Ordinal Encoding) #)\n",
    "\n",
    "Scikit-learn cung cấp lớp [`OrdinalEncoder`](https://scikit-learn.org/stable/modules/generated/sklearn.preprocessing.OrdinalEncoder.html) để thực hiện *ordinal encoding*.  \n",
    "\n",
    "Chúng ta sẽ lặp qua các biến phân loại và áp dụng *ordinal encoder* riêng biệt cho từng cột."
   ]
  },
  {
   "cell_type": "code",
   "execution_count": 16,
   "id": "102e1396",
   "metadata": {
    "execution": {
     "iopub.execute_input": "2023-04-21T13:40:57.995569Z",
     "iopub.status.busy": "2023-04-21T13:40:57.995080Z",
     "iopub.status.idle": "2023-04-21T13:41:03.612258Z",
     "shell.execute_reply": "2023-04-21T13:41:03.610707Z"
    },
    "papermill": {
     "duration": 5.62685,
     "end_time": "2023-04-21T13:41:03.615498",
     "exception": false,
     "start_time": "2023-04-21T13:40:57.988648",
     "status": "completed"
    },
    "tags": []
   },
   "outputs": [
    {
     "name": "stdout",
     "output_type": "stream",
     "text": [
      "MAE from Approach 2 (Ordinal Encoding):\n",
      "165936.40548390493\n"
     ]
    }
   ],
   "source": [
    "from sklearn.preprocessing import OrdinalEncoder\n",
    "\n",
    "# Make copy to avoid changing original data \n",
    "label_X_train = X_train.copy()\n",
    "label_X_valid = X_valid.copy()\n",
    "\n",
    "# Apply ordinal encoder to each column with categorical data\n",
    "ordinal_encoder = OrdinalEncoder()\n",
    "label_X_train[object_cols] = ordinal_encoder.fit_transform(X_train[object_cols])\n",
    "label_X_valid[object_cols] = ordinal_encoder.transform(X_valid[object_cols])\n",
    "\n",
    "print(\"MAE from Approach 2 (Ordinal Encoding):\") \n",
    "print(score_dataset(label_X_train, label_X_valid, y_train, y_valid))"
   ]
  },
  {
   "cell_type": "markdown",
   "id": "47c3a1d7",
   "metadata": {
    "papermill": {
     "duration": 0.004617,
     "end_time": "2023-04-21T13:41:03.625375",
     "exception": false,
     "start_time": "2023-04-21T13:41:03.620758",
     "status": "completed"
    },
    "tags": []
   },
   "source": [
    "Trong ô mã trên, đối với mỗi cột, chúng ta ngẫu nhiên gán một số nguyên khác nhau cho từng giá trị duy nhất. Đây là một phương pháp phổ biến và đơn giản hơn so với việc gán nhãn theo cách thủ công. Tuy nhiên, nếu chúng ta có thể cung cấp các nhãn được xác định tốt hơn cho tất cả các biến thứ tự (*ordinal variables*), hiệu suất của mô hình có thể được cải thiện hơn nữa.\n",
    "\n",
    "### Điểm số từ phương pháp 3 (Mã hóa one-hot) (# Score from Approach 3 (One-Hot Encoding) #)\n",
    "\n",
    "Chúng ta sử dụng lớp [`OneHotEncoder`](https://scikit-learn.org/stable/modules/generated/sklearn.preprocessing.OneHotEncoder.html) từ *scikit-learn* để thực hiện *one-hot encoding*.  \n",
    "\n",
    "Có một số tham số quan trọng có thể được tùy chỉnh trong quá trình mã hóa:  \n",
    "- Chúng ta đặt `handle_unknown='ignore'` để tránh lỗi khi tập dữ liệu kiểm định (*validation data*) chứa các giá trị danh mục không xuất hiện trong tập huấn luyện.  \n",
    "- Đặt `sparse=False` đảm bảo rằng các cột được mã hóa được trả về dưới dạng mảng numpy thay vì một *sparse matrix* (*ma trận thưa*).\n",
    "\n",
    "Để sử dụng *encoder*, chúng ta chỉ cung cấp các cột phân loại cần được mã hóa *one-hot*.  \n",
    "\n",
    "Ví dụ, để mã hóa tập dữ liệu huấn luyện, chúng ta cung cấp `X_train[object_cols]`.  \n",
    "(`object_cols` trong ô mã dưới đây là danh sách tên các cột chứa dữ liệu phân loại, do đó `X_train[object_cols]` chứa tất cả dữ liệu phân loại trong tập huấn luyện.)"
   ]
  },
  {
   "cell_type": "code",
   "execution_count": 17,
   "id": "4b9d96a9",
   "metadata": {
    "execution": {
     "iopub.execute_input": "2023-04-21T13:41:03.637475Z",
     "iopub.status.busy": "2023-04-21T13:41:03.636532Z",
     "iopub.status.idle": "2023-04-21T13:41:09.913535Z",
     "shell.execute_reply": "2023-04-21T13:41:09.912019Z"
    },
    "papermill": {
     "duration": 6.286754,
     "end_time": "2023-04-21T13:41:09.916948",
     "exception": false,
     "start_time": "2023-04-21T13:41:03.630194",
     "status": "completed"
    },
    "tags": []
   },
   "outputs": [
    {
     "name": "stdout",
     "output_type": "stream",
     "text": [
      "MAE from Approach 3 (One-Hot Encoding):\n",
      "166089.4893009678\n"
     ]
    }
   ],
   "source": [
    "from sklearn.preprocessing import OneHotEncoder\n",
    "\n",
    "# Apply one-hot encoder to each column with categorical data\n",
    "OH_encoder = OneHotEncoder(handle_unknown='ignore', sparse_output=False)\n",
    "OH_cols_train = pd.DataFrame(OH_encoder.fit_transform(X_train[object_cols]))\n",
    "OH_cols_valid = pd.DataFrame(OH_encoder.transform(X_valid[object_cols]))\n",
    "\n",
    "# One-hot encoding removed index; put it back\n",
    "OH_cols_train.index = X_train.index\n",
    "OH_cols_valid.index = X_valid.index\n",
    "\n",
    "# Remove categorical columns (will replace with one-hot encoding)\n",
    "num_X_train = X_train.drop(object_cols, axis=1)\n",
    "num_X_valid = X_valid.drop(object_cols, axis=1)\n",
    "\n",
    "# Add one-hot encoded columns to numerical features\n",
    "OH_X_train = pd.concat([num_X_train, OH_cols_train], axis=1)\n",
    "OH_X_valid = pd.concat([num_X_valid, OH_cols_valid], axis=1)\n",
    "\n",
    "# Ensure all columns have string type\n",
    "OH_X_train.columns = OH_X_train.columns.astype(str)\n",
    "OH_X_valid.columns = OH_X_valid.columns.astype(str)\n",
    "\n",
    "print(\"MAE from Approach 3 (One-Hot Encoding):\") \n",
    "print(score_dataset(OH_X_train, OH_X_valid, y_train, y_valid))"
   ]
  },
  {
   "cell_type": "markdown",
   "id": "9c070d11",
   "metadata": {
    "papermill": {
     "duration": 0.004991,
     "end_time": "2023-04-21T13:41:09.927602",
     "exception": false,
     "start_time": "2023-04-21T13:41:09.922611",
     "status": "completed"
    },
    "tags": []
   },
   "source": [
    "# Phương pháp nào là tốt nhất? (# Which approach is best? #)\n",
    "\n",
    "Trong trường hợp này, loại bỏ các cột phân loại (**Phương pháp 1**) có hiệu suất kém nhất, vì nó có điểm MAE cao nhất.  \n",
    "\n",
    "Đối với hai phương pháp còn lại, vì các điểm MAE trả về có giá trị rất gần nhau, nên không có sự khác biệt đáng kể giữa chúng.\n",
    "\n",
    "Nhìn chung, *one-hot encoding* (**Phương pháp 3**) thường mang lại hiệu suất tốt nhất, trong khi loại bỏ các cột phân loại (**Phương pháp 1**) thường có hiệu suất kém nhất. Tuy nhiên, kết quả có thể thay đổi tùy theo từng trường hợp cụ thể.\n",
    "\n",
    "# Kết luận (# Conclusion #)\n",
    "\n",
    "Thế giới đầy rẫy dữ liệu phân loại. Bạn sẽ trở thành một *data scientist* hiệu quả hơn nhiều nếu biết cách xử lý loại dữ liệu phổ biến này!\n",
    "\n",
    "# Đến lượt bạn! (# Your Turn #)\n",
    "\n",
    "Hãy áp dụng kỹ năng mới của bạn trong **[bài tập tiếp theo](https://www.kaggle.com/kernels/fork/3370279)**!"
   ]
  },
  {
   "cell_type": "markdown",
   "id": "5cfdba09",
   "metadata": {
    "papermill": {
     "duration": 0.004735,
     "end_time": "2023-04-21T13:41:09.937631",
     "exception": false,
     "start_time": "2023-04-21T13:41:09.932896",
     "status": "completed"
    },
    "tags": []
   },
   "source": [
    "---\n",
    "\n",
    "\n",
    "\n",
    "\n",
    "*Have questions or comments? Visit the [course discussion forum](https://www.kaggle.com/learn/intermediate-machine-learning/discussion) to chat with other learners.*"
   ]
  }
 ],
 "metadata": {
  "kernelspec": {
   "display_name": "Python 3",
   "language": "python",
   "name": "python3"
  },
  "language_info": {
   "codemirror_mode": {
    "name": "ipython",
    "version": 3
   },
   "file_extension": ".py",
   "mimetype": "text/x-python",
   "name": "python",
   "nbconvert_exporter": "python",
   "pygments_lexer": "ipython3",
   "version": "3.13.2"
  },
  "papermill": {
   "default_parameters": {},
   "duration": 30.371028,
   "end_time": "2023-04-21T13:41:10.868913",
   "environment_variables": {},
   "exception": null,
   "input_path": "__notebook__.ipynb",
   "output_path": "__notebook__.ipynb",
   "parameters": {},
   "start_time": "2023-04-21T13:40:40.497885",
   "version": "2.4.0"
  }
 },
 "nbformat": 4,
 "nbformat_minor": 5
}
