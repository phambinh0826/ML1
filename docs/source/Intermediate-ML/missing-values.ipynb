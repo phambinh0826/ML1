{
 "cells": [
  {
   "cell_type": "markdown",
   "id": "73575ae6",
   "metadata": {
    "papermill": {
     "duration": 0.004925,
     "end_time": "2023-04-21T13:40:52.185098",
     "exception": false,
     "start_time": "2023-04-21T13:40:52.180173",
     "status": "completed"
    },
    "tags": []
   },
   "source": [
    "Trong hướng dẫn này, bạn sẽ học ba cách tiếp cận để **xử lý dữ liệu bị thiếu** (*dealing with missing values*). Sau đó, bạn sẽ so sánh hiệu quả của các phương pháp này trên một tập dữ liệu thực tế.\n",
    "\n",
    "# Giới thiệu (# Introduction #)\n",
    "\n",
    "Có nhiều lý do khiến dữ liệu có thể bị thiếu giá trị. Ví dụ:\n",
    "- Một căn nhà có 2 phòng ngủ sẽ không có giá trị cho kích thước của phòng ngủ thứ ba.\n",
    "- Một người tham gia khảo sát có thể chọn không tiết lộ thu nhập của họ.\n",
    "\n",
    "Hầu hết các thư viện *machine learning* (bao gồm cả *scikit-learn*) sẽ báo lỗi nếu bạn cố gắng xây dựng một mô hình với dữ liệu có giá trị bị thiếu. Vì vậy, bạn cần chọn một trong các chiến lược xử lý dưới đây."
   ]
  },
  {
   "cell_type": "markdown",
   "id": "76d98a93",
   "metadata": {
    "papermill": {
     "duration": 0.003361,
     "end_time": "2023-04-21T13:40:52.192292",
     "exception": false,
     "start_time": "2023-04-21T13:40:52.188931",
     "status": "completed"
    },
    "tags": []
   },
   "source": [
    "# Ba phương pháp tiếp cận (# Three Approaches #)\n",
    "\n",
    "### 1) Cách đơn giản: Loại bỏ cột có giá trị bị thiếu\n",
    "\n",
    "Cách đơn giản nhất là loại bỏ các cột có giá trị bị thiếu.  \n",
    "\n",
    "![tut2_approach1](https://storage.googleapis.com/kaggle-media/learn/images/Sax80za.png)\n",
    "\n",
    "Trừ khi phần lớn giá trị trong các cột bị loại bỏ đều bị thiếu, phương pháp này sẽ khiến mô hình mất đi nhiều thông tin (có thể rất hữu ích!).  \n",
    "\n",
    "Ví dụ cực đoan, hãy tưởng tượng một tập dữ liệu có 10.000 hàng, trong đó một cột quan trọng chỉ bị thiếu duy nhất một giá trị. Phương pháp này sẽ loại bỏ toàn bộ cột đó!\n",
    "\n",
    "### 2) Một phương án tốt hơn: Điền giá trị bị thiếu (*Imputation*)\n",
    "\n",
    "**Imputation** (*điền giá trị thay thế*) lấp đầy các giá trị bị thiếu bằng một số nào đó. Ví dụ, chúng ta có thể điền vào giá trị trung bình của từng cột.  \n",
    "\n",
    "![tut2_approach2](https://storage.googleapis.com/kaggle-media/learn/images/4BpnlPA.png)\n",
    "\n",
    "Giá trị được điền vào có thể không hoàn toàn chính xác trong hầu hết các trường hợp, nhưng thường dẫn đến mô hình chính xác hơn so với việc loại bỏ toàn bộ cột.\n",
    "\n",
    "### 3) Mở rộng phương pháp Imputation\n",
    "\n",
    "*Imputation* là phương pháp phổ biến và thường mang lại hiệu quả tốt. Tuy nhiên, giá trị được điền vào có thể có xu hướng cao hơn hoặc thấp hơn giá trị thực tế (mà dữ liệu gốc không thu thập được). Ngoài ra, các hàng có giá trị bị thiếu có thể có đặc điểm riêng biệt theo một cách nào đó.  \n",
    "\n",
    "Trong trường hợp này, mô hình có thể đưa ra dự đoán tốt hơn nếu biết được những giá trị nào đã bị thiếu ban đầu.  \n",
    "\n",
    "![tut3_approach3](https://storage.googleapis.com/kaggle-media/learn/images/UWOyg4a.png)\n",
    "\n",
    "Phương pháp này vẫn thực hiện *imputation* để điền giá trị như trước. Đồng thời, với mỗi cột có giá trị bị thiếu trong tập dữ liệu ban đầu, chúng ta thêm một cột mới để đánh dấu vị trí của các giá trị đã bị thay thế.  \n",
    "\n",
    "Trong một số trường hợp, điều này giúp cải thiện kết quả đáng kể. Tuy nhiên, trong những trường hợp khác, nó không mang lại lợi ích gì.\n",
    "\n",
    "# Ví dụ (# Example #)\n",
    "\n",
    "Trong ví dụ này, chúng ta sẽ làm việc với tập dữ liệu [Melbourne Housing](https://www.kaggle.com/dansbecker/melbourne-housing-snapshot/home).  \n",
    "\n",
    "Mô hình của chúng ta sẽ sử dụng thông tin như số lượng phòng và diện tích đất để dự đoán giá nhà.\n",
    "\n",
    "Chúng ta sẽ không tập trung vào bước tải dữ liệu. Thay vào đó, bạn có thể hình dung rằng chúng ta đã có sẵn dữ liệu huấn luyện và kiểm định trong các biến:  \n",
    "- `X_train`, `X_valid` (tập đặc trưng huấn luyện và kiểm định)  \n",
    "- `y_train`, `y_valid` (tập mục tiêu huấn luyện và kiểm định)"
   ]
  },
  {
   "cell_type": "code",
   "execution_count": 9,
   "id": "aa8e5f23",
   "metadata": {
    "_kg_hide-input": true,
    "_kg_hide-output": true,
    "execution": {
     "iopub.execute_input": "2023-04-21T13:40:52.202085Z",
     "iopub.status.busy": "2023-04-21T13:40:52.201222Z",
     "iopub.status.idle": "2023-04-21T13:40:53.588600Z",
     "shell.execute_reply": "2023-04-21T13:40:53.587445Z"
    },
    "papermill": {
     "duration": 1.395479,
     "end_time": "2023-04-21T13:40:53.591425",
     "exception": false,
     "start_time": "2023-04-21T13:40:52.195946",
     "status": "completed"
    },
    "tags": []
   },
   "outputs": [],
   "source": [
    "import pandas as pd\n",
    "from sklearn.model_selection import train_test_split\n",
    "\n",
    "# Load the data\n",
    "data = pd.read_csv('melb_data.csv')\n",
    "\n",
    "# Select target\n",
    "y = data.Price\n",
    "\n",
    "# To keep things simple, we'll use only numerical predictors\n",
    "melb_predictors = data.drop(['Price'], axis=1)\n",
    "X = melb_predictors.select_dtypes(exclude=['object'])\n",
    "\n",
    "# Divide data into training and validation subsets\n",
    "X_train, X_valid, y_train, y_valid = train_test_split(X, y, train_size=0.8, test_size=0.2,\n",
    "                                                      random_state=0)"
   ]
  },
  {
   "cell_type": "markdown",
   "id": "5d43df63",
   "metadata": {
    "papermill": {
     "duration": 0.003595,
     "end_time": "2023-04-21T13:40:53.599519",
     "exception": false,
     "start_time": "2023-04-21T13:40:53.595924",
     "status": "completed"
    },
    "tags": []
   },
   "source": [
    "### Xác định hàm đánh giá chất lượng của từng phương pháp (# Define Function to Measure Quality of Each Approach #)\n",
    "\n",
    "Chúng ta sẽ định nghĩa một hàm `score_dataset()` để so sánh các phương pháp khác nhau trong việc xử lý dữ liệu bị thiếu.  \n",
    "\n",
    "Hàm này sẽ báo cáo *mean absolute error* ([MAE](https://en.wikipedia.org/wiki/Mean_absolute_error) - sai số tuyệt đối trung bình) từ một mô hình *random forest*."
   ]
  },
  {
   "cell_type": "code",
   "execution_count": 10,
   "id": "75b71fcd",
   "metadata": {
    "_kg_hide-input": true,
    "_kg_hide-output": true,
    "execution": {
     "iopub.execute_input": "2023-04-21T13:40:53.608718Z",
     "iopub.status.busy": "2023-04-21T13:40:53.608282Z",
     "iopub.status.idle": "2023-04-21T13:40:54.012025Z",
     "shell.execute_reply": "2023-04-21T13:40:54.010658Z"
    },
    "papermill": {
     "duration": 0.411656,
     "end_time": "2023-04-21T13:40:54.014914",
     "exception": false,
     "start_time": "2023-04-21T13:40:53.603258",
     "status": "completed"
    },
    "tags": []
   },
   "outputs": [],
   "source": [
    "from sklearn.ensemble import RandomForestRegressor\n",
    "from sklearn.metrics import mean_absolute_error\n",
    "\n",
    "# Function for comparing different approaches\n",
    "def score_dataset(X_train, X_valid, y_train, y_valid):\n",
    "    model = RandomForestRegressor(n_estimators=10, random_state=0)\n",
    "    model.fit(X_train, y_train)\n",
    "    preds = model.predict(X_valid)\n",
    "    return mean_absolute_error(y_valid, preds)"
   ]
  },
  {
   "cell_type": "markdown",
   "id": "0061d804",
   "metadata": {
    "papermill": {
     "duration": 0.003579,
     "end_time": "2023-04-21T13:40:54.022394",
     "exception": false,
     "start_time": "2023-04-21T13:40:54.018815",
     "status": "completed"
    },
    "tags": []
   },
   "source": [
    "### Điểm số từ phương pháp 1 (Loại bỏ cột có giá trị bị thiếu) (# Score from Approach 1 (Drop Columns with Missing Values) #)\n",
    "\n",
    "Vì chúng ta đang làm việc với cả tập huấn luyện (*training set*) và tập kiểm định (*validation set*), cần đảm bảo rằng các cột bị loại bỏ trong cả hai *DataFrame* đều giống nhau."
   ]
  },
  {
   "cell_type": "code",
   "execution_count": 11,
   "id": "f1ef567d",
   "metadata": {
    "execution": {
     "iopub.execute_input": "2023-04-21T13:40:54.031964Z",
     "iopub.status.busy": "2023-04-21T13:40:54.031522Z",
     "iopub.status.idle": "2023-04-21T13:40:54.542657Z",
     "shell.execute_reply": "2023-04-21T13:40:54.541264Z"
    },
    "papermill": {
     "duration": 0.519409,
     "end_time": "2023-04-21T13:40:54.545608",
     "exception": false,
     "start_time": "2023-04-21T13:40:54.026199",
     "status": "completed"
    },
    "tags": []
   },
   "outputs": [
    {
     "name": "stdout",
     "output_type": "stream",
     "text": [
      "MAE from Approach 1 (Drop columns with missing values):\n",
      "183550.22137772635\n"
     ]
    }
   ],
   "source": [
    "# Get names of columns with missing values\n",
    "cols_with_missing = [col for col in X_train.columns\n",
    "                     if X_train[col].isnull().any()]\n",
    "\n",
    "# Drop columns in training and validation data\n",
    "reduced_X_train = X_train.drop(cols_with_missing, axis=1)\n",
    "reduced_X_valid = X_valid.drop(cols_with_missing, axis=1)\n",
    "\n",
    "print(\"MAE from Approach 1 (Drop columns with missing values):\")\n",
    "print(score_dataset(reduced_X_train, reduced_X_valid, y_train, y_valid))"
   ]
  },
  {
   "cell_type": "markdown",
   "id": "4827843b",
   "metadata": {
    "papermill": {
     "duration": 0.003713,
     "end_time": "2023-04-21T13:40:54.553650",
     "exception": false,
     "start_time": "2023-04-21T13:40:54.549937",
     "status": "completed"
    },
    "tags": []
   },
   "source": [
    "### Điểm số từ phương pháp 2 (Điền giá trị bị thiếu - Imputation) (# Score from Approach 2 (Imputation) #)\n",
    "\n",
    "Tiếp theo, chúng ta sử dụng [`SimpleImputer`](https://scikit-learn.org/stable/modules/generated/sklearn.impute.SimpleImputer.html) để thay thế các giá trị bị thiếu bằng giá trị trung bình của từng cột.\n",
    "\n",
    "Mặc dù là một phương pháp đơn giản, việc điền giá trị trung bình thường mang lại hiệu quả khá tốt (tuy nhiên, điều này còn phụ thuộc vào từng tập dữ liệu).  \n",
    "\n",
    "Mặc dù các nhà thống kê đã thử nghiệm nhiều phương pháp phức tạp hơn để xác định giá trị thay thế (chẳng hạn như **regression imputation** - *điền giá trị bằng hồi quy*), nhưng trên thực tế, các chiến lược phức tạp này thường không mang lại lợi ích đáng kể khi sử dụng với các mô hình *machine learning* tiên tiến."
   ]
  },
  {
   "cell_type": "code",
   "execution_count": 12,
   "id": "09687042",
   "metadata": {
    "execution": {
     "iopub.execute_input": "2023-04-21T13:40:54.564084Z",
     "iopub.status.busy": "2023-04-21T13:40:54.563095Z",
     "iopub.status.idle": "2023-04-21T13:40:55.216772Z",
     "shell.execute_reply": "2023-04-21T13:40:55.215374Z"
    },
    "papermill": {
     "duration": 0.661708,
     "end_time": "2023-04-21T13:40:55.219381",
     "exception": false,
     "start_time": "2023-04-21T13:40:54.557673",
     "status": "completed"
    },
    "tags": []
   },
   "outputs": [
    {
     "name": "stdout",
     "output_type": "stream",
     "text": [
      "MAE from Approach 2 (Imputation):\n",
      "178166.46269899711\n"
     ]
    }
   ],
   "source": [
    "from sklearn.impute import SimpleImputer\n",
    "\n",
    "# Imputation\n",
    "my_imputer = SimpleImputer()\n",
    "imputed_X_train = pd.DataFrame(my_imputer.fit_transform(X_train))\n",
    "imputed_X_valid = pd.DataFrame(my_imputer.transform(X_valid))\n",
    "\n",
    "# Imputation removed column names; put them back\n",
    "imputed_X_train.columns = X_train.columns\n",
    "imputed_X_valid.columns = X_valid.columns\n",
    "\n",
    "print(\"MAE from Approach 2 (Imputation):\")\n",
    "print(score_dataset(imputed_X_train, imputed_X_valid, y_train, y_valid))"
   ]
  },
  {
   "cell_type": "markdown",
   "id": "505cef52",
   "metadata": {
    "papermill": {
     "duration": 0.00408,
     "end_time": "2023-04-21T13:40:55.227608",
     "exception": false,
     "start_time": "2023-04-21T13:40:55.223528",
     "status": "completed"
    },
    "tags": []
   },
   "source": [
    "Chúng ta thấy rằng **Phương pháp 2** có MAE thấp hơn so với **Phương pháp 1**, nghĩa là **Phương pháp 2** hoạt động tốt hơn trên tập dữ liệu này.\n",
    "\n",
    "### Điểm số từ phương pháp 3 (Mở rộng phương pháp Imputation) (# Score from Approach 3 (An Extension to Imputation) #)\n",
    "\n",
    "Tiếp theo, chúng ta thực hiện *imputation* để điền giá trị bị thiếu, đồng thời tạo một cột đánh dấu vị trí các giá trị đã được thay thế."
   ]
  },
  {
   "cell_type": "code",
   "execution_count": 13,
   "id": "c6c621f7",
   "metadata": {
    "execution": {
     "iopub.execute_input": "2023-04-21T13:40:55.239224Z",
     "iopub.status.busy": "2023-04-21T13:40:55.238079Z",
     "iopub.status.idle": "2023-04-21T13:40:55.964457Z",
     "shell.execute_reply": "2023-04-21T13:40:55.962944Z"
    },
    "papermill": {
     "duration": 0.735324,
     "end_time": "2023-04-21T13:40:55.967310",
     "exception": false,
     "start_time": "2023-04-21T13:40:55.231986",
     "status": "completed"
    },
    "tags": []
   },
   "outputs": [
    {
     "name": "stdout",
     "output_type": "stream",
     "text": [
      "MAE from Approach 3 (An Extension to Imputation):\n",
      "178927.503183954\n"
     ]
    }
   ],
   "source": [
    "# Make copy to avoid changing original data (when imputing)\n",
    "X_train_plus = X_train.copy()\n",
    "X_valid_plus = X_valid.copy()\n",
    "\n",
    "# Make new columns indicating what will be imputed\n",
    "for col in cols_with_missing:\n",
    "    X_train_plus[col + '_was_missing'] = X_train_plus[col].isnull()\n",
    "    X_valid_plus[col + '_was_missing'] = X_valid_plus[col].isnull()\n",
    "\n",
    "# Imputation\n",
    "my_imputer = SimpleImputer()\n",
    "imputed_X_train_plus = pd.DataFrame(my_imputer.fit_transform(X_train_plus))\n",
    "imputed_X_valid_plus = pd.DataFrame(my_imputer.transform(X_valid_plus))\n",
    "\n",
    "# Imputation removed column names; put them back\n",
    "imputed_X_train_plus.columns = X_train_plus.columns\n",
    "imputed_X_valid_plus.columns = X_valid_plus.columns\n",
    "\n",
    "print(\"MAE from Approach 3 (An Extension to Imputation):\")\n",
    "print(score_dataset(imputed_X_train_plus, imputed_X_valid_plus, y_train, y_valid))"
   ]
  },
  {
   "cell_type": "markdown",
   "id": "2aaff5c0",
   "metadata": {
    "papermill": {
     "duration": 0.004371,
     "end_time": "2023-04-21T13:40:55.976319",
     "exception": false,
     "start_time": "2023-04-21T13:40:55.971948",
     "status": "completed"
    },
    "tags": []
   },
   "source": [
    "Như chúng ta có thể thấy, **Phương pháp 3** hoạt động kém hơn một chút so với **Phương pháp 2**.\n",
    "\n",
    "### Vậy tại sao phương pháp imputation lại tốt hơn so với việc loại bỏ cột? (# So, why did imputation perform better than dropping the columns? #)\n",
    "\n",
    "Tập dữ liệu huấn luyện có 10.864 hàng và 12 cột, trong đó có ba cột chứa giá trị bị thiếu. Đối với mỗi cột, số lượng giá trị bị thiếu chiếm ít hơn một nửa tổng số hàng.  \n",
    "\n",
    "Do đó, nếu loại bỏ các cột này, chúng ta sẽ mất đi rất nhiều thông tin hữu ích. Vì vậy, không có gì ngạc nhiên khi *imputation* mang lại hiệu suất tốt hơn."
   ]
  },
  {
   "cell_type": "code",
   "execution_count": 14,
   "id": "c46bd5d6",
   "metadata": {
    "execution": {
     "iopub.execute_input": "2023-04-21T13:40:55.988155Z",
     "iopub.status.busy": "2023-04-21T13:40:55.987016Z",
     "iopub.status.idle": "2023-04-21T13:40:55.998281Z",
     "shell.execute_reply": "2023-04-21T13:40:55.997136Z"
    },
    "papermill": {
     "duration": 0.020267,
     "end_time": "2023-04-21T13:40:56.000823",
     "exception": false,
     "start_time": "2023-04-21T13:40:55.980556",
     "status": "completed"
    },
    "tags": []
   },
   "outputs": [
    {
     "name": "stdout",
     "output_type": "stream",
     "text": [
      "(10864, 12)\n",
      "Car               49\n",
      "BuildingArea    5156\n",
      "YearBuilt       4307\n",
      "dtype: int64\n"
     ]
    }
   ],
   "source": [
    "# Shape of training data (num_rows, num_columns)\n",
    "print(X_train.shape)\n",
    "\n",
    "# Number of missing values in each column of training data\n",
    "missing_val_count_by_column = (X_train.isnull().sum())\n",
    "print(missing_val_count_by_column[missing_val_count_by_column > 0])"
   ]
  },
  {
   "cell_type": "markdown",
   "id": "468ddf78",
   "metadata": {
    "papermill": {
     "duration": 0.00485,
     "end_time": "2023-04-21T13:40:56.010418",
     "exception": false,
     "start_time": "2023-04-21T13:40:56.005568",
     "status": "completed"
    },
    "tags": []
   },
   "source": [
    "# Kết luận (# Conclusion #)\n",
    "\n",
    "Như thường thấy, việc điền giá trị bị thiếu (*imputation*) (trong **Phương pháp 2** và **Phương pháp 3**) mang lại kết quả tốt hơn so với khi đơn giản loại bỏ các cột có giá trị bị thiếu (trong **Phương pháp 1**).\n",
    "\n",
    "# Đến lượt bạn! (# Your Turn #)\n",
    "\n",
    "Hãy tự mình so sánh các phương pháp xử lý giá trị bị thiếu trong **[bài tập này](https://www.kaggle.com/kernels/fork/3370280)**!"
   ]
  },
  {
   "cell_type": "markdown",
   "id": "ac1ed71c",
   "metadata": {
    "papermill": {
     "duration": 0.004029,
     "end_time": "2023-04-21T13:40:56.018883",
     "exception": false,
     "start_time": "2023-04-21T13:40:56.014854",
     "status": "completed"
    },
    "tags": []
   },
   "source": [
    "---\n",
    "\n",
    "\n",
    "\n",
    "\n",
    "*Have questions or comments? Visit the [course discussion forum](https://www.kaggle.com/learn/intermediate-machine-learning/discussion) to chat with other learners.*"
   ]
  }
 ],
 "metadata": {
  "kernelspec": {
   "display_name": "Python 3",
   "language": "python",
   "name": "python3"
  },
  "language_info": {
   "codemirror_mode": {
    "name": "ipython",
    "version": 3
   },
   "file_extension": ".py",
   "mimetype": "text/x-python",
   "name": "python",
   "nbconvert_exporter": "python",
   "pygments_lexer": "ipython3",
   "version": "3.13.2"
  },
  "papermill": {
   "default_parameters": {},
   "duration": 15.891205,
   "end_time": "2023-04-21T13:40:56.746001",
   "environment_variables": {},
   "exception": null,
   "input_path": "__notebook__.ipynb",
   "output_path": "__notebook__.ipynb",
   "parameters": {},
   "start_time": "2023-04-21T13:40:40.854796",
   "version": "2.4.0"
  }
 },
 "nbformat": 4,
 "nbformat_minor": 5
}
