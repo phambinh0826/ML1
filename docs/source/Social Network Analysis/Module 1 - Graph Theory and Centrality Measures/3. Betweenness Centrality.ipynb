{
 "cells": [
  {
   "cell_type": "markdown",
   "metadata": {},
   "source": [
    "# Lecture 3 - Betweenness Centrality"
   ]
  },
  {
   "cell_type": "markdown",
   "metadata": {},
   "source": [
    "## **Network Measures of Centrality**\n",
    "\n",
    ">**Degree** là số lượng cạnh kết nối với một nút.\n",
    "\n",
    ">**Betweenness** là mức độ mà nó nằm trên đường đi ngắn nhất giữa các nút.\n",
    "\n",
    ">**Closeness** là trung bình khoảng cách ngắn nhất đến tất cả các nút khác trong mạng lưới, và\n",
    "\n",
    ">**Eigenvector** đo lường mức độ mà một nút kết nối với những nút có ảnh hưởng khác.\n",
    "\n",
    "Không phải là ai đang kết nối với bạn mà là bạn đang kết nối với ai hoặc bạn có kết nối với những người có ảnh hưởng không? Những phép đo này cho tôi biết gì?\n",
    "\n",
    "## **What do the Measures Tell Me?**\n",
    "\n",
    "Nó hơi khác một chút. **Degree** là mức độ tiếp xúc với mạng lưới. \n",
    "- Khi bạn nghĩ đến việc phát tán một tin tức gây sốc hay một cái gì đó như vậy, nút có nhiều kết nối sẽ nhận thông tin ban đầu và phát tán ra mạng lưới đến nhiều người nhất.\n",
    "- Tuy nhiên, chúng ta thấy rằng những người có **degree** cao không có nhiều sức ảnh hưởng. Họ không thay đổi được suy nghĩ, không nắm quyền lực thực sự để động viên hoặc thuyết phục, nhưng đó là cách để đưa thông tin ra ngoài. Ngay cả khi khả năng thuyết phục của bạn thấp, bạn bắt đầu với nhiều người hơn.\n",
    "- Đó là điều **degree** cho bạn biết là tiếp xúc với mạng lưới.\n",
    "\n",
    "**Betweenness**, đây là ý tưởng về quyền lực không chính thức.\n",
    "- Đây là ý tưởng về việc trung gian hóa kiến thức và nguồn lực trong toàn tổ chức.\n",
    "- Các bạn đã từng ở trong những tổ chức mà có có người không chịu trách nhiệm chính, nhưng họ biết chỗ nào có mẫu đơn, họ biết cách giải quyết công việc. Họ tham gia vào công việc và biết cách giải quyết vấn đề. Những người đó xây dựng quyền lực không chính thức, và họ có rất nhiều kết nối ở những nơi khác.\n",
    "- Sự trung gian không chính thức, việc canh giữ giữa một trung tâm như Conrad có khả năng trung gian hóa kiến thức từ nhóm ở phía bên phải sang nhóm ở phía bên trái dưới cùng. Đôi khi, đó có thể là một vị trí quyền lực lớn. Những lúc khác nó có thể khiến bạn kiệt sức về mặt nhận thức, khi bạn là người đi tới giữa hai nhóm.\n",
    "- Trong trường hợp của Conrad, anh ấy cuối cùng đã nghỉ việc, và tổ chức tan rã vì điều đó, và tướng quân về hưu, đó không phải là một câu chuyện thành công. Nhưng đó là **betweenness**.\n",
    "\n",
    "**Closeness** thường được sử dụng để truyền bá thông tin vì nó giúp thông tin được tiếp cận nhanh chóng.\n",
    "- Giống như khi tin đồn đang lan truyền qua mạng lưới hoặc bạn muốn bắt đầu một tin đồn lan truyền qua mạng lưới.\n",
    "- Nếu bạn có thể tìm ra điểm hoặc người có **closeness** cao, đó là điểm lan truyền thông tin nhanh chóng.\n",
    "\n",
    "Cuối cùng, như đã đề cập về **eigenvector**, nó giúp bạn kết nối với những nút có degree cao.\n",
    "- Đôi khi, khi bạn có thể tìm ra một nút có **eigenvector centrality** cao, nhưng degree thấp, bạn đang tìm thấy một nút tuyệt vời để phát tán tin đồn hoặc thông tin sai lệch mà không nhất thiết sẽ bị phát hiện, vì hầu hết các thuật toán mà mọi người sử dụng đều tìm các nút có degree cao vì đó là phép đo dễ tính toán nhất.\n",
    "\n",
    "Nếu bạn có thể tìm thấy một nút có degree thấp nhưng có một trong các giá trị khác cao, đó sẽ là một mục tiêu thú vị và nếu bạn muốn giỏi hơn trong việc phát hiện thông tin sai lệch, bạn cần phải tìm những cách thông minh hơn để phát hiện những nút có thể bắt đầu lan truyền tin đồn mà không nhất thiết bị phát hiện."
   ]
  },
  {
   "cell_type": "markdown",
   "metadata": {},
   "source": [
    "## **Betweenness Centrality**"
   ]
  },
  {
   "cell_type": "markdown",
   "metadata": {},
   "source": [
    "Quay lại với ví dụ mạng mà chúng ta đã thấy\n",
    "\n",
    "![Hình 7](fig7.png)\n",
    "\n",
    "**Betweenness centrality** được chỉ ra bởi **Conrad**. Và vì vậy, **Betweenness centrality** không nhất thiết phải là một người trung gian duy nhất. **Conrad** là đặc biệt ở chỗ anh ấy là một nút có **betweenness** cao và cũng có **degree** thấp, so với một số thành viên khác trong mạng lưới. Điều bạn thường thấy là khi mạng lưới giống như một khối, đúng không? Nó thường có sự phân bố **degree** khá đối xứng, đúng không? Mọi người gần như đều giống nhau hoặc là một khối duy nhất trong mạng lưới.\n",
    "\n",
    "Nếu chúng ta chỉ lấy nhóm trên hoặc nhóm dưới này, bạn sẽ thấy rằng **degree**, **betweenness**, **closeness**, và **eigenvector** đều có sự tương quan cao với nhau. Và vì vậy, một người có ảnh hưởng sẽ có ảnh hưởng trong tất cả các khía cạnh của phép đo đó. Nhưng khi mạng lưới bắt đầu có cấu trúc, như ở đây, nơi bạn thấy hai nhóm, đúng không? Đó là khi có sự khác biệt trong các phép đo này.\n",
    "\n",
    "**Betweenness** là một phép đo về sự trung gian, là một phép đo về việc trung gian hóa kiến thức và sự phân bố nguồn lực trong tổ chức. Vì vậy, nếu có kiến thức trong nhóm ở góc trên bên phải, thì đây là hai nhóm đã hợp nhất lại và đó là điều quan trọng đối với những người trong nhóm bên trái dưới cùng. Nếu nó không rõ ràng và sẵn có ngay lập tức, nếu có sự hợp tác hay phối hợp nào đó. **Conrad** là người có mối quan hệ và được tôn trọng từ cả hai nhóm, và phần lớn những điều đó sẽ thông qua qua anh ấy.\n",
    "\n",
    "Chúng ta cũng có một khái niệm mà chúng ta sẽ nói đến sau trong khóa học này gọi là **Network Horizon** (horizon mạng). Đó là sự nhận thức của mọi người về kiến thức và thông tin mà những người trong mạng lưới của họ sở hữu, thực chất là giảm dần đến không ở ba bước trong mạng lưới. Vì vậy, bạn biết những người bạn tương tác với họ thường xuyên. Bạn có thể biết điểm mạnh và điểm yếu của họ, kỹ năng của họ, họ biết gì, họ có thể cung cấp gì.\n",
    "\n",
    "Bạn có thể có một ý tưởng nếu bạn đi một bước xa hơn, nhưng ngoài điều đó, nó sẽ bị phá vỡ. Và khi tổ chức bắt đầu trở nên lớn, và trở nên không thực tế để mọi người biết tất cả mọi người, đúng không? Đó là khi cấu trúc tổ chức bắt đầu có vai trò, vì đó là điều giúp chúng ta nhận diện và tìm kiếm thông tin, kiến thức và tài nguyên trong tổ chức. Nhưng nếu không có điều đó, sẽ có những tác nhân thay vì chiếm vị trí trung tâm trong một nhóm nhỏ hoặc cụm, họ sẽ nối giữa chúng. Và đó là trường hợp ở đây của **Conrad** với **betweenness**.\n",
    "\n",
    "Bây giờ, chúng ta sẽ thấy rằng một số tác nhân thực sự cố gắng chiếm các vị trí như **Conrad** như một chiến lược. Họ không muốn **Joe** gặp **Pete**, đúng không? Họ không muốn **Bob** gặp **Pat**, đúng không? Bởi vì nếu thế, điều đó sẽ đe dọa quyền lực và địa vị của họ trong tổ chức. Và khi bạn thấy điều đó, nó không thể mở rộng được. Và cuối cùng tạo ra những cấu trúc độc hại mà cuối cùng làm tổn hại tổ chức, hoặc ít nhất là giới hạn sự phát triển của nó.\n",
    "\n",
    "Có những loại tác nhân khác trong vị trí này luôn gặp gỡ những người mới. Vì vậy, họ rất vui khi chuyển giao mối quan hệ này giữa **Bob** và **Will** và **Roger** và **Pete**. Và để họ tự quản lý mối quan hệ trung gian của mình. Và họ sẽ đi tìm những người mới và tìm thấy một cụm mới không được mô tả ở đây và mang những tài nguyên đó vào. Vì vậy, khi bạn có một người luôn mở rộng mối quan hệ, luôn gặp gỡ những tác nhân mới, đó là nơi bạn sẽ có một văn hóa tăng trưởng kiến thức, tăng trưởng tài nguyên, thường là tăng trưởng từ cấu trúc đó.\n",
    "\n",
    "Bạn cũng có một mặt tối của **betweenness**, khi **Conrad** có trách nhiệm này, nó có thể trở nên quá tải. Anh ấy không thể hoàn thành công việc của mình vì anh ấy đang bận quản lý các yêu cầu đi qua lại giữa hai nhóm. Và **brokerage** có lẽ không phải là chỉ số hiệu suất chủ chốt trong mô tả công việc của anh ấy. Vì vậy, anh ấy có một công việc chính để làm, ngoài ra anh ấy còn là người trung gian cho tất cả các giao tiếp giữa hai cụm này. Điều đó có thể là quá tải, yêu cầu nhận thức cao, tốn thời gian và là một sự \"tiêu tốn\" thời gian đối với anh ấy. Và vì vậy, đó có thể là một vị trí không đáng mơ ước, đúng không?\n",
    "\n",
    "Tùy thuộc vào cách các tổ chức thưởng cho những yếu tố này, tùy thuộc vào việc liệu chúng ta có ai đó cố gắng làm người kiểm soát hay một người trung gian thực sự, và giới thiệu người khác như một kết nối, tất cả những điều đó có thể được đo lường qua **betweenness**. Đây sẽ là phép đo tương tự mà chúng ta sẽ nói đến trong bài giảng này, nhưng ý nghĩa của nó đối với tổ chức có thể khác.\n"
   ]
  },
  {
   "cell_type": "markdown",
   "metadata": {},
   "source": [
    "![Hình 15](fig15.png)"
   ]
  },
  {
   "cell_type": "markdown",
   "metadata": {},
   "source": [
    "Điều chúng ta muốn biết là mức độ mà một nút nằm trên đường đi ngắn nhất giữa các nút khác. Vậy làm thế nào chúng ta sẽ làm điều đó?\n",
    "\n",
    "Điều đầu tiên mà chúng ta phải làm là qua ký hiệu $nC_k$. Chúng ta phải biết có bao nhiêu đường đi khả thi.\n",
    "\n",
    "![Hình 16](fig16.png)\n",
    "\n",
    "Giống như khi chúng ta làm **degree**, mẫu số là có bao nhiêu nút mà bạn có thể kết nối, đó là $n-1$. Vậy khi chúng ta muốn biết có bao nhiêu đường đi khả thi thì chúng ta cần phải nói có hai nút, đó là $nC_2$ sẽ là các đường đi. Vì vậy, có $n$ nút, và tôi sẽ nói có bao nhiêu cặp, đó là ký hiệu $nC_2$.\n",
    "\n",
    "> Điều này cho ra kết quả là 10 đường đi khả thi cho mạng lưới này. Vì vậy, đối với 5 tác nhân, hãy liệt kê chúng.\n",
    "\n",
    "Bước tiếp theo mà chúng ta sẽ làm là tính toán các **geodesics** và đây là bước khó khăn nhất mà chúng ta có thể làm. Đôi khi có nhiều hơn một **geodesic** giữa hai nút.\n",
    "\n",
    "## **Geodesic là gì?**\n",
    "\n",
    "- **Geodesic** là đường đi dài nhất và ngắn nhất. Vì vậy, chúng ta sẽ nhìn vào đường đi ngắn nhất giữa các cặp và chúng ta sẽ xem những gì đó là gì? Đó là **geodesic**.\n",
    "  \n",
    "  > Trong trường hợp từ 1 đến 2, đó đơn giản chỉ là từ 1 đến 2, còn từ 1 đến 3 thì cũng có một kết nối trực tiếp từ 1 đến 3. Nó trở nên thú vị khi chúng ta nhìn vào việc đi từ Tác nhân 1 đến Tác nhân 4. Vì đường ngắn nhất để đến đó là từ 1 đến 3 đến 4, đúng không? Nếu tôi đi 1 đến 2 đến 3 đến 4, đó là một đường đi, nhưng đó không phải là một đường đi **geodesic**. Đó không phải là một đường đi ngắn nhất. Chúng ta phải đi từ 1 đến 3 đến 4, nút thứ 2 là thừa.\n",
    "\n",
    "![Hình 17](fig17.png)"
   ]
  },
  {
   "cell_type": "markdown",
   "metadata": {},
   "source": [
    "Trong mạng lưới này, mỗi cặp nút thường chỉ có một **geodesic** (đường đi ngắn nhất). Tuy nhiên, trong một số trường hợp, có thể tồn tại nhiều hơn một **geodesic** giữa hai nút.\n",
    "\n",
    "> Giả sử có một nút 6 nằm bên trái của Tác nhân 1 và 2. Khi đó, để đi từ nút 3 đến nút 6, có hai lựa chọn:  \n",
    "> - Đi theo đường 3 → 2 → 6.  \n",
    "> - Đi theo đường 3 → 1 → 6.  \n",
    "\n",
    "Như vậy, có hai **geodesics** giữa 3 và 6. Điều này cho thấy rằng một số đường đi có thể có nhiều hơn một **geodesic**.\n",
    "\n",
    "Bây giờ, chúng ta sẽ tính tỷ lệ phần trăm số **geodesics** mà một nút nằm ở vị trí trung gian.\n",
    "\n",
    "\n",
    "![Hình 18](fig18.png)\n",
    "\n",
    "Khi một đường đi chỉ có một bước (độ dài bằng 1), không có nút nào nằm giữa. Chúng ta không xét các điểm đầu và điểm cuối, mà chỉ quan tâm đến các nút trung gian. Do đó, trong các đường đi ngắn nhất như vậy, giá trị trung gian của tất cả các nút sẽ là 0.\n",
    "\n",
    "Tuy nhiên, khi xét các đường đi dài hơn, một số nút có thể nằm giữa. Ví dụ, trong một mạng lưới, nếu nút 3 nằm ở giữa tất cả các **geodesics**, thì nó sẽ có giá trị trung gian là 1.\n",
    "\n",
    "Giả sử chúng ta có hai đường đi từ 1 đến 4:  \n",
    "- **1 → 3 → 6 → 4**  \n",
    "- **1 → 3 → 7 → 4**  \n",
    "\n",
    "Trong trường hợp này, nút 3 nằm trên cả hai **geodesics**, nên giá trị trung gian của nó vẫn là 1. Nhưng các nút 6 và 7 chỉ nằm trên một trong hai đường đi, nên chúng có giá trị trung gian là 0.5.\n",
    "\n",
    "Tiếp theo, chúng ta sẽ tính tổng số **geodesics** mà một nút nằm ở giữa. Chúng ta thấy rằng nút 3 nằm trên 5 **geodesics**, trong tổng số các **geodesics** có thể có. Khi đó, tử số của phép tính sẽ là **0, 0, 5, 0, 0**, như đã xác định.\n",
    "\n",
    "![Hình 19](fig19.png)\n",
    "\n",
    "Mẫu số cần được điều chỉnh bằng cách loại bỏ nút đang xét, vì nó không thể là điểm bắt đầu hoặc điểm kết thúc của đường đi. Nếu ttôi lấy bất kỳ nút nào ra, tôi có thể lấy Tác nhân 5 ra khỏi phương trình, chỉ còn lại 4 nút. Số đường đi giữa 4 nút này được tính theo công thức tổ hợp:  \n",
    "$$4C_2 = \\frac{4 \\times 3}{2} = 6.$$\n",
    "\n",
    "Một cách khác để nhìn nhận vấn đề là thay vì sử dụng công thức $n \\times (n-1)$, ta thay thế $n$ bằng $n-1$. Do đó, thay vì tính với 5 nút, ta xét khả năng Tác nhân 5 nằm trên đường đi giữa các nút còn lại, dẫn đến:  \n",
    "$$4 \\times 3 = 12,$$  \n",
    "nhưng vì mỗi đường đi được đếm hai lần, kết quả cuối cùng vẫn là 6 đường đi ngắn nhất."
   ]
  },
  {
   "cell_type": "markdown",
   "metadata": {},
   "source": [
    "Với mẫu số này, chúng ta có thể tính toán điểm số betweenness, như bạn thấy trong hình trên. Tại sao lại cần thực hiện điều này với mẫu số? Mục tiêu của chúng ta là chuẩn hóa tất cả các phép đo centrality trong khoảng từ 0 đến 1. Điều này giúp việc so sánh các giá trị trở nên dễ dàng hơn.\n",
    "\n",
    "Khi xem xét mức độ centrality tương đối của các tác nhân khác nhau, một số phần mềm ứng dụng chuẩn hóa dữ liệu theo thang đo từ 0 đến 100, trong khi một số khác sử dụng giá trị thô. Tuy nhiên, việc dùng con số thô có thể gây khó khăn khi so sánh giữa các mạng lưới có kích thước khác nhau. Do đó, để phù hợp với khóa học này, chúng ta sẽ sử dụng chuẩn hóa trong phạm vi từ 0 đến 1, giúp điều chỉnh kích thước các nút theo centrality tương đối của chúng một cách dễ dàng hơn."
   ]
  },
  {
   "cell_type": "markdown",
   "metadata": {},
   "source": [
    "## **Bài tập thực hành**\n",
    "\n",
    "![Hình 20](fig20.png)\n",
    "\n",
    "Như trong bài giảng trước, tôi muốn bạn dành một chút thời gian để thực hành. Hãy tạm dừng, sử dụng mạng lưới này và thử tính toán các bước bằng tay theo những gì tôi vừa hướng dẫn. Tôi không khuyến khích bạn tiếp tục bài giảng và chỉ quan sát tôi giải quyết vấn đề thêm một lần nữa mà chưa tự mình thực hiện. Nếu chưa làm bài tập một cách độc lập, bạn sẽ chưa thực sự nắm vững nội dung này. Vì vậy, hãy thử giải quyết trước khi tiếp tục theo dõi bài giảng.\n",
    "\n",
    "Giả sử bạn đã tạm dừng và giành thời gian thực hành.\n",
    "\n",
    "<details>\n",
    "  <summary> Bây giờ chúng ta sẽ cùng đi qua phần giải pháp </summary>\n",
    "\n",
    "![Hình 21](fig21.png)\n",
    "\n",
    "Trước tiên, chúng ta sẽ liệt kê các **geodesics** các nút: từ 1 đến 2, từ 1 đến 3, từ 1 đến 4, v.v. Sau đó, chúng ta sẽ xem xét tất cả các đường đi giữa các cặp nút.\n",
    "\n",
    "Ví dụ, từ 1 đến 2 là đường đi trực tiếp, tương tự như từ 1 đến 3. Tuy nhiên, để đi từ 1 đến 4, ta phải đi qua Tác nhân 5. Tương tự, từ 1 đến 6 cũng phải đi qua Tác nhân 5.\n",
    "\n",
    "Một trường hợp thú vị là đường đi từ 2 đến 3. Có hai lựa chọn: đi theo đường 2 → 1 → 3 hoặc 2 → 5 → 3. Đây là điểm mà nhiều người thường mắc lỗi, vì họ chỉ xác định một đường đi duy nhất giữa hai nút mà không nhận ra rằng có nhiều lựa chọn. Việc chú ý đến tất cả các đường đi là điều quan trọng khi tính toán betweenness centrality.\n",
    "\n",
    "![Hình 22](fig22.png)\n",
    "\n",
    "Tiếp theo, chúng ta sẽ xem xét tần suất mỗi nút xuất hiện trong các đường đi ngắn nhất. Tác nhân 5 xuất hiện trong hầu hết các **geodesics**. Lưu ý ở Path 2 - 3, Tác nhân 5 chỉ nẳm ở một nửa **geodesics**, và tác nhân 1 xuất hiện trong nửa còn lại.\n",
    "\n",
    "![Hình 23](fig23.png)\n",
    "\n",
    "Khi tổng hợp tất cả các giá trị này, ta có tổng cộng là 0.5 và 7.5, với mẫu số là 10.\n",
    "\n",
    "Từ đó, chúng ta tính được điểm số betweenness, và có thể thấy mạng lưới đã được thay đổi kích thước tương ứng với giá trị betweenness centrality của từng nút.\n",
    "\n",
    "</details>"
   ]
  }
 ],
 "metadata": {
  "kernelspec": {
   "display_name": "Python 3",
   "language": "python",
   "name": "python3"
  },
  "language_info": {
   "name": "python",
   "version": "3.11.9"
  }
 },
 "nbformat": 4,
 "nbformat_minor": 2
}
