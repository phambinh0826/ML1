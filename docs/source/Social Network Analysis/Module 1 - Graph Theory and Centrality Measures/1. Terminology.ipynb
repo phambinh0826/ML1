{
 "cells": [
  {
   "cell_type": "markdown",
   "metadata": {},
   "source": [
    "# Lecture 1 - Terminology"
   ]
  },
  {
   "cell_type": "markdown",
   "metadata": {},
   "source": [
    "**Một đồ thị (graph)** là một tập hợp các điểm, thường được gọi là đỉnh (vertices) hoặc nút (nodes), được kết nối với nhau bởi các đoạn thẳng gọi là cạnh (edges) hoặc liên kết (links).\n",
    "\n",
    "**Mạng xã hội (social networks)** là các đồ thị chứa một tập hợp hữu hạn hoặc các tập hợp các tác nhân (agents) mà chúng ta gọi là các đối tượng (actors), và các quan hệ (relations) được định nghĩa giữa chúng. Hình dưới đây có bốn đỉnh.\n",
    "\n",
    "![fig1](fig1.png)\n"
   ]
  },
  {
   "cell_type": "markdown",
   "metadata": {},
   "source": [
    "Khi di chuyển từ một đỉnh này sang đỉnh khác dọc theo một cạnh duy nhất nối chúng lại với nhau được gọi là một bước (step). Một đường đi (walk) là một chuỗi các bước từ một đỉnh này đến đỉnh khác; số bước chính là độ dài (length) của đường đi. Ví dụ, có một đường đi ba bước từ đỉnh 1 đến đỉnh 3 sử dụng các bước từ 1 đến 4, từ 4 đến 2, và từ 2 đến 3.\n",
    "\n",
    "**Một dấu vết (trail):**\n",
    "- Trail là một chuỗi các liên kết (links) nối với nhau trong một đồ thị, trong đó mỗi liên kết chỉ xuất hiện một lần, nhưng các nút (nodes) có thể xuất hiện nhiều lần. Nói cách khác, trong dấu vết, mỗi liên kết có thể được đi qua một lần duy nhất, nhưng các nút (ví dụ: các điểm giao tiếp trong mạng xã hội) có thể được lặp lại. Độ dài của dấu vết là số liên kết trong đó.\n",
    "\n",
    "> Ví dụ:\n",
    "> - Trong một mạng xã hội, nếu bạn theo dõi một người nào đó và từ đó bạn tiếp tục theo dõi những người mà người đó đang theo dõi, bạn có thể quay lại một số nút (người) trong mạng, nhưng mỗi đường nối giữa các người (liên kết) chỉ đi qua một lần.\n",
    "\n",
    "**Một con đường (path):**\n",
    "- Path là một đường đi trong đó tất cả các nút và liên kết đều khác biệt. Điều này có nghĩa là không được phép lặp lại cả các nút và các liên kết trong suốt hành trình. Mỗi nút và mỗi liên kết đều được sử dụng một lần duy nhất trong con đường.\n",
    "\n",
    "> Ví dụ:\n",
    "> - Trong mạng xã hội, một con đường sẽ đại diện cho một chuỗi người bạn mà bạn có thể đi qua mà không quay lại ai đó đã gặp trước đó, và mỗi người bạn chỉ được kết nối một lần.\n",
    "\n",
    "**Mối quan hệ giữa dấu vết và con đường:**\n",
    "- Lưu ý rằng mỗi con đường đều là một dấu vết. Tuy nhiên, không phải dấu vết nào cũng là một con đường, vì dấu vết có thể có các nút lặp lại, trong khi con đường thì không.\n",
    "- Tóm lại, mọi Path đều là Trail, mỗi Trail là một cuộc đi bộ và mỗi lần đi bộ đều bao gồm 1 số bước (step).\n",
    "\n",
    "Trong ứng dụng mạng xã hội, việc tìm kiếm con đường quan trọng hơn vì nó giúp hiểu rõ hơn về mối quan hệ trực tiếp giữa các người dùng mà không có sự lặp lại nào."
   ]
  },
  {
   "cell_type": "markdown",
   "metadata": {},
   "source": [
    "Một thuộc tính rất quan trọng của một cặp nút là liệu có tồn tại một con đường giữa chúng hay không. Nếu có một con đường giữa, ví dụ, nút 1 và nút 2, thì các nút này được gọi là có thể tiếp cận **(reachable)**. Một đường đi bắt đầu và kết thúc với cùng một nút được gọi là một đường đi kín **(closed walk)**. Một chu trình **(cycle)** là một đường đi kín có ít nhất ba nút. Các chu trình rất quan trọng trong việc nghiên cứu sự cân bằng và khả năng phân cụm trong đồ thị có dấu **(signed graphs)** (một chủ đề mà chúng ta sẽ khám phá trong bài học 3)."
   ]
  },
  {
   "cell_type": "markdown",
   "metadata": {},
   "source": [
    "## **Ma trận Kề (Adjacency Matrix), Đồ thị và Ký hiệu**\n",
    "Mạng xã hội có thể được biểu diễn dưới dạng đồ thị hoặc ma trận. Ví dụ, đây là một đồ thị biểu diễn mối quan hệ tình bạn giữa một nhóm người:\n",
    "\n",
    "![fig2](fig2.png)\n",
    "\n",
    "Chúng ta cũng có thể ghi lại cách các thực thể liên kết với nhau trong một ma trận kề.\n",
    "\n",
    "Ma trận kề trong trường hợp này là một ma trận vuông (có nghĩa là số hàng bằng số cột và đều tương ứng với các nút) theo dạng tác nhân (agent) với các tác nhân.\n",
    "\n",
    "![fig3](fig3.png)\n",
    "\n",
    "> **1** là nếu có cạnh giữa 2 nút <br>\n",
    "> **0** là nếu không có cạnh giữa 2 nút\n",
    "\n",
    "Về mặt toán học, bất kỳ mạng lưới nào cũng có thể được biểu diễn bằng ma trận kề, trường hợp dưới đây là đơn giản nhất: **mạng lưới nhị phân.**\n",
    "\n",
    "$$\n",
    "a_{ij} = \n",
    "\\begin{cases} \n",
    "1 & \\text{nếu có một cạnh giữa } n_i \\text{ và } n_j \\\\\n",
    "0 & \\text{nếu không có cạnh giữa } n_i \\text{ và } n_j\n",
    "\\end{cases}\n",
    "$$\n"
   ]
  },
  {
   "cell_type": "markdown",
   "metadata": {},
   "source": [
    "**MỘT SỐ KÝ HIỆU KHÁC**\n",
    "\n",
    "| Ký hiệu | Ý nghĩa |\n",
    "|---------|---------|\n",
    "| $$\\sum_i x_i$$ | Tổng các giá trị của \"x\", ví dụ như $x_1 + x_2 + \\cdots + x_N$ |\n",
    "| $A$ | Ma trận kề, ví dụ như $A = \\begin{bmatrix} a_{ij} & \\cdots & a_{iN} \\\\ \\vdots & \\ddots & \\vdots \\\\ a_{Nj} & \\cdots & a_{NN} \\end{bmatrix}$ trong đó liên kết $a_{ij}$ là giữa tác nhân $i$ và tác nhân $j$. |\n",
    "| $A^T$ | Chuyển vị của ma trận kề, ví dụ như $A^T = \\begin{bmatrix} a_{ij} & \\cdots & a_{Nj} \\\\ \\vdots & \\ddots & \\vdots \\\\ a_{iN} & \\cdots & a_{NN} \\end{bmatrix}$ trong đó liên kết $a_{ij}$ là giữa tác nhân $i$ và tác nhân $j$. |\n"
   ]
  },
  {
   "cell_type": "markdown",
   "metadata": {},
   "source": [
    "Hóa ra, ma trận kề $A$ cho Hình 2 là chìa khóa để giải quyết vấn đề. Bằng cách thực hiện nhiều phép hợp thành của ma trận kề, $A^n$ cho biết số lượng các đường đi có độ dài $n$ giữa tất cả các nút trong mạng lưới.\n",
    "\n",
    "Vì vậy, Will Hunting đã sử dụng khoa học mạng trong hai bước đầu tiên của giải pháp bốn bước của anh ấy. Chúng ta sẽ học cách thực hiện phép tính này sau. Thật thú vị!\n"
   ]
  },
  {
   "cell_type": "markdown",
   "metadata": {},
   "source": [
    "## **Types of Networks**\n",
    "![fig4](fig4.png)\n",
    "\n",
    "Bây giờ, có rất nhiều loại mạng khác nhau, và điều này chỉ giúp bạn thấy một phần về các loại cấu trúc mạng khác nhau. Bạn có thể học được rất nhiều về những gì xảy ra trong các mạng xã hội của một tổ chức vì có rất nhiều yếu tố ảnh hưởng từ tâm lý xã hội, tâm lý nhận thức, và cách con người hành động trong nhóm sẽ hình thành cấu trúc mạng lưới của họ. Điều này cũng có thể ảnh hưởng đến những gì bạn đang đo lường hoặc quan sát. Tôi muốn giới thiệu một số loại mạng phổ biến mà chúng tôi hay đề cập.\n",
    "\n",
    "1. **Mạng lõi-ngoại vi (core-periphery network):** Được định nghĩa là có một lõi nhỏ ở trung tâm, tất cả các nút trong lõi này đều kết nối với nhau. Sau đó, có rất nhiều nút kết nối với một trong các nhóm lõi, nhưng không nhất thiết phải kết nối với nhau. Mạng lõi-ngoại vi thường thấy trong các tổ chức tình nguyện hoặc các nhóm tôn giáo, nơi một nhóm nhỏ tham gia và một số người tham gia khác không được kết nối tốt như những người trong nhóm lõi.\n",
    "\n",
    "2. **Mạng tế bào (cellular networks):** Có một nhóm lõi, nhưng có các tế bào được kết nối tại các điểm này. Mạng tế bào có thể là một mô hình lý thuyết nhiều hơn so với thực tế, vì các tổ chức bí mật hoặc các nhóm phiến quân không sử dụng nó hiệu quả. Trong cuộc chiến toàn cầu chống khủng bố, quân đội Mỹ đã rất giỏi trong việc tìm kiếm và nhắm mục tiêu các mạng tế bào, dẫn đến sự suy giảm trong việc sử dụng chúng.\n",
    "\n",
    "3. **Mạng lưới lưới (Lattice network):** Trong mạng lưới này, mỗi người đều kết nối với đúng số lượng người khác, nhưng các kết nối này là khác nhau. Đây là một mô hình lý thuyết cực đoan và không phản ánh thực tế vì mọi người có sự khác biệt trong sở thích và kết nối của mình.\n",
    "\n",
    "4. **Đồ thị Erdos-Renyi:** Mỗi người kết nối với một người khác với xác suất P và xác suất gặp tất cả những người khác là như nhau, dẫn đến một đồ thị ngẫu nhiên. Nếu thay đổi sở thích của mọi người, dần dần bạn sẽ tạo ra một đồ thị Erdos-Renyi.\n",
    "\n",
    "5. **Mạng không tỉ lệ (Scale-Free network):** Khi một người gia nhập mạng và chọn kết nối với những nút phổ biến hơn với xác suất lớn hơn, các hub sẽ hình thành. Đây là các nút trung tâm có rất nhiều kết nối, trong khi hầu hết mọi người chỉ có ít kết nối. Các mạng này không tỉ lệ và thường thấy trong các mạng xã hội, chẳng hạn như những người nổi tiếng có rất nhiều người theo dõi, còn phần lớn chúng ta có rất ít người theo dõi.\n",
    "\n",
    "Thực tế là các mạng không tỉ lệ này cũng có thể được thiết kế thông qua các yếu tố như tối ưu hóa trong ngành hàng không, với các nút trung tâm để điều hướng hiệu quả.\n",
    "\n",
    "Những kiểu mẫu mạng này giúp chúng ta hiểu về các ngữ cảnh cực đoan và cũng cho chúng ta cái nhìn sâu sắc về những gì đang xảy ra với các mạng xã hội thực tế mà chúng ta nghiên cứu."
   ]
  },
  {
   "cell_type": "markdown",
   "metadata": {},
   "source": [
    "## **So sánh giữa phân tích truyền thống và phân tích mạng xã hội**\n",
    "\n",
    "|  | **Truyền thống** | **Mạng lưới** |\n",
    "|----------------------------|------------------|---------------|\n",
    "| **Tiêu điểm phân tích dữ liệu** | Cá nhân, Tác nhân/Thực thể | Dyad, Triad |\n",
    "| **Loại dữ liệu** | Thuộc tính | Quan hệ |\n",
    "| **Giả thuyết về dữ liệu** | Độc lập | Phụ thuộc |\n",
    "| **Môi trường thí nghiệm** | Kiểm soát | Phức tạp |\n",
    "| **Nhận thức** | Các yếu tố quan trọng | Các tương tác |\n",
    "| **Khung phân tích** | Tương quan | Cấu trúc |\n",
    "| **Nền tảng toán học** | Giải tích | Lý thuyết đồ thị, Đại số tuyến tính, Toán học rời rạc |\n"
   ]
  },
  {
   "cell_type": "markdown",
   "metadata": {},
   "source": [
    "Có một loại so sánh khác mà tôi muốn chỉ ra giữa phân tích truyền thống và phân tích mạng lưới. Vì vậy, tôi chỉ muốn làm nổi bật một số điểm chính ở đây. Mục tiêu của phân tích là khác nhau. Khi chúng ta làm việc với phân tích truyền thống, chúng ta thường nghĩ mọi thứ là độc lập và phân phối đồng nhất. Chúng ta nghĩ về các cá nhân.\n",
    "\n",
    "> Chúng ta nghĩ về việc nếu bạn đến văn phòng bác sĩ và một đứa trẻ bị viêm họng do liên cầu, chúng ta sẽ nghĩ về đứa trẻ đó. Chúng ta sẽ kê đơn Amoxicillin. Sau đó, nếu nó không phản ứng với Amoxicillin vì có một tác nhân bệnh khác, chúng ta sẽ quay lại và cho Menton.\n",
    "> \n",
    "> Nhưng rồi một đứa trẻ khác đến với các triệu chứng tương tự. Một lần nữa, chúng ta sẽ điều trị chúng độc lập, chúng ta sẽ cho chúng Amoxicillin và đó là phác đồ y tế điển hình.\n",
    "> \n",
    "> Tại sao chúng ta không bắt đầu với Augmentin? Nếu chúng ta áp dụng phân tích mạng lưới, chúng ta sẽ nhận ra rằng bệnh nhân tiếp theo có thể đã tiếp xúc với người bệnh trước đó phải quay lại vì Augmentin, và chúng ta có thể bắt đầu với Augmentin. Augmentin chỉ là Amoxicillin với một loại thuốc bổ sung. Và chúng ta không muốn cho người bệnh dùng Augmentin ngay lập tức vì chúng ta không muốn làm tăng khả năng miễn dịch của họ đối với phần bổ sung. Nhưng nếu chúng ta biết họ có khả năng tiếp xúc với tác nhân bệnh đó, và chúng ta không. Chúng ta bắt đầu với Amoxicillin. Chúng ta đã cho họ hai đợt điều trị Amoxicillin, và đã làm cho họ kháng lại loại kháng sinh phổ biến hơn và được sử dụng rộng rãi hơn.\n",
    "\n",
    "Vì vậy, cách chúng ta nhìn vào các cá nhân so với các cặp (diads) và bộ ba (triads), như diads nghĩa là hai, triads nghĩa là ba, những mối quan hệ này có những tác động quan trọng trong cách chúng ta giải quyết vấn đề. \n",
    "\n",
    "Loại dữ liệu mà chúng ta xem xét trong phân tích truyền thống là các thuộc tính.\n",
    "\n",
    "> Tôi có thể nói gì về người đó? Tôi có thể nói gì về tuổi tác, gen và điểm IQ của họ, và tất cả các thuộc tính mà tôi có thể nói về một người. Điều này có phải là yếu tố góp phần vào béo phì không?\n",
    "\n",
    "Network Analysis thì sẽ là\n",
    "\n",
    "> Họ kết nối với ai? Cân nặng và BMI của những người có mối quan hệ với họ là gì?\n",
    "> \n",
    "> Và những gì chúng ta phát hiện khi đi vào khía cạnh mối quan hệ là những điều thú vị, như bạn có biết béo phì là có thể lây lan xã hội không?\n",
    "> \n",
    "> Khi mọi người có mối quan hệ với những người có khối lượng cơ thể lớn hơn, họ có xu hướng có những ý tưởng mới về khối lượng cơ thể chấp nhận được và họ có xu hướng trở nên lây lan trong xã hội.\n",
    "> \n",
    "> Điều này không xảy ra theo chiều ngược lại, nơi gầy gò là có thể lây lan xã hội, nhưng có một số sinh lý thần kinh ảnh hưởng đến điều đó.\n",
    "\n",
    "Có rất nhiều điều quan trọng từ góc độ Network Analysis. Như tôi đã đề cập, chúng ta giả định trong phân tích truyền thống rằng mọi người đều độc lập với những người xung quanh họ.\n",
    "\n",
    "> Trong mạng lưới, chúng ta giả định mức độ phụ thuộc cao. Khi chúng ta thực hiện thí nghiệm, chúng ta kiểm soát các biến và yếu tố khác nhau trong một môi trường thí nghiệm, để có thể có nhóm kiểm soát, nhóm thử nghiệm và kiểm tra sự khác biệt.\n",
    "\n",
    "> Nhưng trong mạng lưới, chúng ta nhận ra rằng điều đó không hoạt động, vì vậy chúng ta phải thiết kế các thí nghiệm phức tạp hơn ngoài những gì đã trình bày trong phần này. \n",
    "\n",
    "> Trong phân tích truyền thống, chúng ta nhìn vào mối quan hệ (correlation) như là một khung phân tích.\n",
    "\n",
    "> Trong mạng lưới, chúng ta nhìn vào cấu trúc của mạng lưới. Chúng ta nhìn vào, ví dụ, liệu nó có được phân nhóm không? Nó có phải là một khối lớn không? Tất cả những điều này giúp chúng ta nhận thức về vấn đề mà chúng ta đang nghiên cứu và bản chất của dữ liệu. \n",
    "\n",
    "Nền tảng toán học là rất khác biệt. Vì vậy, trong phân tích truyền thống, nó dựa trên Giải tích (Calculus), ngay cả khi là thống kê, thống kê cũng dựa trên Giải tích. Nhưng trong phân tích mạng lưới, chúng ta dựa vào lý thuyết đồ thị, đại số tuyến tính và toán học rời rạc.\n",
    "\n",
    "Bây giờ, bạn có thể đã quen với những điều này vì chúng ta đang học trong một chương trình khoa học máy tính. Những người trong ngành này có xu hướng sử dụng chúng nhiều hơn, và điều đó rất tuyệt. Hầu hết mọi người ở Mỹ đều đã có một chút tiếp xúc với Giải tích qua trung học và đại học, vì vậy họ quen thuộc hơn với nó. Nó dễ tiếp cận hơn. Nhưng khi nghĩ về các mạng lưới và các loại toán học khác so với những gì họ đã quen, tôi sẽ tranh luận rằng toán học này không khó hơn. Thực tế là nó có thể dễ hơn Giải tích 2, nhưng nó khác biệt và sự khác biệt đó khiến chúng ta ra khỏi vùng thoải mái của mình và làm cho mọi thứ trở nên không thoải mái hơn."
   ]
  }
 ],
 "metadata": {
  "kernelspec": {
   "display_name": "Python 3",
   "language": "python",
   "name": "python3"
  },
  "language_info": {
   "name": "python",
   "version": "3.11.9"
  }
 },
 "nbformat": 4,
 "nbformat_minor": 2
}
