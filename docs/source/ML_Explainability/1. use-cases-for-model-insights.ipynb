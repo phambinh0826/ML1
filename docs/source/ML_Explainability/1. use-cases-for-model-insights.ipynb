{
 "cells": [
  {
   "cell_type": "markdown",
   "id": "e3be26c1",
   "metadata": {
    "papermill": {
     "duration": 0.002719,
     "end_time": "2023-04-20T18:03:24.522861",
     "exception": false,
     "start_time": "2023-04-20T18:03:24.520142",
     "status": "completed"
    },
    "tags": []
   },
   "source": [
    "# Lecture 1 - Use Cases for Model Insights\n",
    "\n",
    "## Những Loại Thấu Hiểu Nào Có Thể Đạt Được?\n",
    "\n",
    "Nhiều người cho rằng các mô hình học máy là \"hộp đen\", nghĩa là chúng có thể đưa ra dự đoán chính xác nhưng không thể hiểu được logic đằng sau những dự đoán đó. Nhận định này đúng ở một mức độ nhất định, bởi vì hầu hết các nhà khoa học dữ liệu chưa biết cách trích xuất thông tin chi tiết từ mô hình.\n",
    "\n",
    "Tuy nhiên, khóa học này sẽ hướng dẫn bạn các kỹ thuật để trích xuất những thông tin sau từ các mô hình học máy phức tạp:\n",
    "\n",
    "- Những đặc trưng nào trong dữ liệu được mô hình đánh giá là quan trọng nhất?\n",
    "- Đối với một dự đoán cụ thể từ mô hình, mỗi đặc trưng ảnh hưởng đến dự đoán đó như thế nào?\n",
    "- Trong bức tranh tổng thể, mỗi đặc trưng tác động đến dự đoán của mô hình ra sao (tác động trung bình khi xem xét trên nhiều dự đoán khác nhau)?\n",
    "\n",
    "## Vì Sao Những Thấu Hiểu Này Quan Trọng?\n",
    "\n",
    "Những hiểu biết này có nhiều ứng dụng, bao gồm:\n",
    "- Gỡ lỗi (*Debugging*)\n",
    "- Hỗ trợ kỹ thuật đặc trưng (*Feature engineering*)\n",
    "- Hướng dẫn thu thập dữ liệu trong tương lai\n",
    "- Hỗ trợ ra quyết định của con người\n",
    "- Xây dựng niềm tin vào mô hình\n",
    "\n",
    "### 🛠️ Gỡ lỗi (*Debugging*)  \n",
    "Thế giới đầy rẫy dữ liệu không đáng tin cậy, lộn xộn và bị lỗi. Khi bạn viết mã tiền xử lý, bạn cũng có thể vô tình tạo ra lỗi. Thêm vào đó, nguy cơ [rò rỉ mục tiêu (*target leakage*)](https://www.kaggle.com/alexisbcook/data-leakage) khiến việc mắc lỗi trở thành điều bình thường trong các dự án khoa học dữ liệu thực tế.\n",
    "\n",
    "Vì lỗi xảy ra thường xuyên và có thể gây hậu quả nghiêm trọng, gỡ lỗi là một kỹ năng vô cùng quan trọng trong khoa học dữ liệu. Hiểu được các mô hình đang phát hiện ra những quy luật nào sẽ giúp bạn phát hiện ra khi chúng không khớp với kiến thức thực tế của bạn – đây thường là bước đầu tiên để lần ra lỗi.\n",
    "\n",
    "### 🎯 Hỗ trợ kỹ thuật đặc trưng (*Feature Engineering*)  \n",
    "[Feature engineering](https://www.kaggle.com/learn/feature-engineering) thường là cách hiệu quả nhất để cải thiện độ chính xác của mô hình. Quá trình này thường bao gồm việc tạo ra các đặc trưng mới bằng cách biến đổi dữ liệu gốc hoặc kết hợp các đặc trưng đã có.\n",
    "\n",
    "Đôi khi, bạn có thể thực hiện quá trình này chỉ dựa vào trực giác về chủ đề đang nghiên cứu. Tuy nhiên, khi có đến hàng trăm đặc trưng hoặc khi bạn thiếu kiến thức chuyên môn về lĩnh vực đó, bạn sẽ cần thêm định hướng.\n",
    "\n",
    "Một cuộc thi trên Kaggle về [dự đoán vỡ nợ khoản vay](https://www.kaggle.com/c/loan-default-prediction) là một ví dụ điển hình. Cuộc thi này có hàng trăm đặc trưng gốc, và vì lý do bảo mật, chúng chỉ được đặt tên như `f1`, `f2`, `f3`, thay vì những tên có ý nghĩa bằng tiếng Anh. Điều này mô phỏng một tình huống mà bạn không có trực giác nào về dữ liệu.\n",
    "\n",
    "Một thí sinh đã phát hiện ra rằng sự chênh lệch giữa hai đặc trưng `f527 - f528` tạo ra một đặc trưng cực kỳ mạnh mẽ. Mô hình có đặc trưng này hoạt động tốt hơn đáng kể so với mô hình không có nó. Nhưng làm sao bạn có thể nghĩ đến việc tạo ra biến này khi bắt đầu với hàng trăm biến khác?\n",
    "\n",
    "Các kỹ thuật trong khóa học này sẽ giúp bạn nhận ra rằng `f527` và `f528` là những đặc trưng quan trọng và có mối quan hệ chặt chẽ. Điều này sẽ hướng bạn đến việc thử các biến đổi của hai đặc trưng này, và có khả năng tìm ra \"đặc trưng vàng\" `f527 - f528`.\n",
    "\n",
    "Khi ngày càng có nhiều tập dữ liệu chứa hàng trăm hoặc hàng nghìn đặc trưng, cách tiếp cận này trở nên quan trọng hơn bao giờ hết.\n",
    "\n",
    "### 📊 Hướng dẫn thu thập dữ liệu trong tương lai (*Directing Future Data Collection*)  \n",
    "Bạn không thể kiểm soát tập dữ liệu tải xuống từ internet. Tuy nhiên, trong nhiều tổ chức và doanh nghiệp, họ có cơ hội mở rộng loại dữ liệu họ thu thập. Việc thu thập dữ liệu mới có thể tốn kém hoặc gây bất tiện, nên họ chỉ muốn làm điều này nếu biết chắc rằng nó có giá trị. Những hiểu biết từ mô hình giúp bạn đánh giá giá trị của các đặc trưng hiện có, từ đó xác định những đặc trưng nào đáng thu thập thêm.\n",
    "\n",
    "### 🤔 Hỗ trợ ra quyết định của con người (*Informing Human Decision-Making*)  \n",
    "Một số quyết định có thể được tự động hóa bởi mô hình. Ví dụ, Amazon không cần con người (hay yêu tinh 🧝‍♂️) chạy khắp nơi để quyết định hiển thị sản phẩm nào cho bạn mỗi khi bạn truy cập trang web. Tuy nhiên, nhiều quyết định quan trọng vẫn cần con người đưa ra. Trong những trường hợp này, thông tin chi tiết từ mô hình có thể có giá trị hơn cả dự đoán.\n",
    "\n",
    "### 🔍 Xây dựng niềm tin (*Building Trust*)  \n",
    "Nhiều người sẽ không dễ dàng tin tưởng vào mô hình của bạn khi đưa ra quyết định quan trọng nếu không được xác minh một số thông tin cơ bản. Đây là một biện pháp phòng ngừa hợp lý do tần suất lỗi dữ liệu xảy ra cao. Trong thực tế, việc hiển thị những thông tin phù hợp với hiểu biết chung của họ về vấn đề sẽ giúp xây dựng niềm tin, ngay cả với những người không có kiến thức sâu về khoa học dữ liệu.\n",
    "\n",
    "## Tiếp Tục Học  \n",
    "\n",
    "Thông tin đầu tiên bạn sẽ học là **[Permutation Importance](https://www.kaggle.com/dansbecker/permutation-importance)**."
   ]
  },
  {
   "cell_type": "markdown",
   "id": "d5a95bc8",
   "metadata": {
    "papermill": {
     "duration": 0.001353,
     "end_time": "2023-04-20T18:03:24.526013",
     "exception": false,
     "start_time": "2023-04-20T18:03:24.524660",
     "status": "completed"
    },
    "tags": []
   },
   "source": [
    "---\n",
    "\n",
    "\n",
    "\n",
    "\n",
    "*Have questions or comments? Visit the [course discussion forum](https://www.kaggle.com/learn/machine-learning-explainability/discussion) to chat with other learners.*"
   ]
  }
 ],
 "metadata": {
  "kernelspec": {
   "display_name": "Python 3",
   "language": "python",
   "name": "python3"
  },
  "language_info": {
   "codemirror_mode": {
    "name": "ipython",
    "version": 3
   },
   "file_extension": ".py",
   "mimetype": "text/x-python",
   "name": "python",
   "nbconvert_exporter": "python",
   "pygments_lexer": "ipython3",
   "version": "3.11.9"
  },
  "papermill": {
   "default_parameters": {},
   "duration": 11.480094,
   "end_time": "2023-04-20T18:03:25.153757",
   "environment_variables": {},
   "exception": null,
   "input_path": "__notebook__.ipynb",
   "output_path": "__notebook__.ipynb",
   "parameters": {},
   "start_time": "2023-04-20T18:03:13.673663",
   "version": "2.4.0"
  }
 },
 "nbformat": 4,
 "nbformat_minor": 5
}
