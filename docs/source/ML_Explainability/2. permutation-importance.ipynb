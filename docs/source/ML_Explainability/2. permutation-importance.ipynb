{
 "cells": [
  {
   "cell_type": "markdown",
   "id": "2ed4065c",
   "metadata": {
    "papermill": {
     "duration": 0.003309,
     "end_time": "2023-04-20T18:03:26.761435",
     "exception": false,
     "start_time": "2023-04-20T18:03:26.758126",
     "status": "completed"
    },
    "tags": []
   },
   "source": [
    "# Lecture 2 - Permutation Importance\n",
    "\n",
    "## Giới Thiệu\n",
    "\n",
    "Một trong những câu hỏi cơ bản nhất mà chúng ta có thể đặt ra về một mô hình là: Đặc trưng nào có tác động lớn nhất đến dự đoán?\n",
    "\n",
    "Khái niệm này được gọi là **tầm quan trọng của đặc trưng** (*feature importance*).\n",
    "\n",
    "Có nhiều cách để đo lường tầm quan trọng của đặc trưng. Một số phương pháp trả lời các phiên bản khác nhau của câu hỏi trên theo cách tinh tế. Một số phương pháp khác có những hạn chế đã được ghi nhận.\n",
    "\n",
    "Trong bài học này, chúng ta sẽ tập trung vào **tầm quan trọng hoán vị** (*permutation importance*). So với hầu hết các phương pháp khác, phương pháp này có các ưu điểm:\n",
    "\n",
    "- tính toán nhanh,\n",
    "- được sử dụng rộng rãi và dễ hiểu,\n",
    "- nhất quán với các thuộc tính mong muốn của một thước đo tầm quan trọng của đặc trưng.\n",
    "\n",
    "## Cách Hoạt Động\n",
    "\n",
    "Tầm quan trọng hoán vị sử dụng mô hình theo cách khác biệt so với những gì bạn đã thấy trước đây, và nhiều người ban đầu có thể cảm thấy khó hiểu. Vì vậy, chúng ta sẽ bắt đầu với một ví dụ để làm rõ khái niệm này.\n",
    "\n",
    "Giả sử chúng ta có dữ liệu với định dạng sau:\n",
    "\n",
    "![Data](https://storage.googleapis.com/kaggle-media/learn/images/wjMAysV.png)\n",
    "\n",
    "Chúng ta muốn dự đoán chiều cao của một người khi họ 20 tuổi, dựa vào dữ liệu có sẵn khi họ 10 tuổi.\n",
    "\n",
    "Dữ liệu của chúng ta bao gồm các đặc trưng hữu ích (*chiều cao lúc 10 tuổi*), các đặc trưng có ít khả năng dự đoán (*số lượng tất sở hữu*), cũng như một số đặc trưng khác mà chúng ta sẽ không tập trung vào trong phần giải thích này.\n",
    "\n",
    "**Tầm quan trọng hoán vị được tính toán sau khi mô hình đã được huấn luyện.** Vì vậy, chúng ta không thay đổi mô hình hoặc thay đổi dự đoán mà nó đưa ra cho một giá trị chiều cao, số lượng tất, v.v.\n",
    "\n",
    "Thay vào đó, chúng ta đặt câu hỏi: Nếu tôi xáo trộn ngẫu nhiên một cột duy nhất của dữ liệu kiểm tra, giữ nguyên mục tiêu và tất cả các cột khác, điều đó sẽ ảnh hưởng như thế nào đến độ chính xác của mô hình khi dự đoán trên dữ liệu đã bị xáo trộn?\n",
    "\n",
    "![Shuffle](https://storage.googleapis.com/kaggle-media/learn/images/h17tMUU.png)\n",
    "\n",
    "Việc xáo trộn ngẫu nhiên một cột duy nhất có thể dẫn đến dự đoán kém chính xác hơn, vì dữ liệu kết quả không còn tương ứng với bất cứ điều gì đã quan sát được trong thực tế. Độ chính xác của mô hình sẽ bị ảnh hưởng nghiêm trọng nếu chúng ta xáo trộn một cột mà mô hình phụ thuộc nhiều vào đó để dự đoán. Trong trường hợp này, việc xáo trộn `chiều cao lúc 10 tuổi` sẽ gây ra dự đoán rất tệ. Nếu chúng ta xáo trộn `số lượng tất sở hữu`, thì dự đoán sẽ không bị ảnh hưởng nhiều.\n",
    "\n",
    "Với hiểu biết này, quá trình thực hiện như sau:\n",
    "\n",
    "1. Có một mô hình đã được huấn luyện.\n",
    "2. Xáo trộn các giá trị trong một cột duy nhất, sau đó tạo dự đoán với tập dữ liệu mới này. Sử dụng dự đoán đó cùng với giá trị mục tiêu thực tế để tính toán mức độ suy giảm hiệu suất do xáo trộn. Mức suy giảm này đo lường tầm quan trọng của biến bạn vừa xáo trộn.\n",
    "3. Trả dữ liệu về thứ tự ban đầu (hoàn tác việc xáo trộn ở bước 2). Sau đó lặp lại bước 2 với cột tiếp theo trong tập dữ liệu, cho đến khi bạn tính toán xong tầm quan trọng của từng cột.\n",
    "\n",
    "## Ví Dụ Mã Code\n",
    "\n",
    "Ví dụ của chúng ta sẽ sử dụng một mô hình dự đoán liệu một đội bóng đá có giành được danh hiệu \"Cầu thủ xuất sắc nhất trận\" (*Man of the Game*) dựa trên các thống kê của đội hay không. Danh hiệu này được trao cho cầu thủ chơi hay nhất trận đấu. Việc xây dựng mô hình không phải là trọng tâm của chúng ta trong phần này, nên đoạn mã dưới đây sẽ tải dữ liệu và tạo một mô hình cơ bản."
   ]
  },
  {
   "cell_type": "code",
   "execution_count": 1,
   "id": "1005b4bf",
   "metadata": {
    "execution": {
     "iopub.execute_input": "2023-04-20T18:03:26.768581Z",
     "iopub.status.busy": "2023-04-20T18:03:26.767641Z",
     "iopub.status.idle": "2023-04-20T18:03:28.353122Z",
     "shell.execute_reply": "2023-04-20T18:03:28.351871Z"
    },
    "papermill": {
     "duration": 1.592312,
     "end_time": "2023-04-20T18:03:28.356183",
     "exception": false,
     "start_time": "2023-04-20T18:03:26.763871",
     "status": "completed"
    },
    "tags": []
   },
   "outputs": [
    {
     "name": "stdout",
     "output_type": "stream",
     "text": [
      "                   Feature  Importance   Std Dev\n",
      "8               Free Kicks    0.109375  0.037630\n",
      "17                1st Goal    0.084375  0.060998\n",
      "6                  Corners    0.068750  0.023385\n",
      "5                  Blocked    0.062500  0.036975\n",
      "0              Goal Scored    0.059375  0.054932\n",
      "10         Pass Accuracy %    0.034375  0.025958\n",
      "11                  Passes    0.031250  0.024206\n",
      "20           Own goal Time    0.031250  0.019764\n",
      "3                On-Target    0.025000  0.027243\n",
      "1        Ball Possession %    0.025000  0.030619\n",
      "4               Off-Target    0.021875  0.024407\n",
      "9                    Saves    0.015625  0.028811\n",
      "2                 Attempts    0.015625  0.037630\n",
      "7                 Offsides    0.006250  0.033657\n",
      "16                     Red    0.000000  0.000000\n",
      "19               Own goals    0.000000  0.000000\n",
      "13         Fouls Committed   -0.003125  0.021875\n",
      "15            Yellow & Red   -0.003125  0.009375\n",
      "18            Goals in PSO   -0.003125  0.009375\n",
      "12  Distance Covered (Kms)   -0.006250  0.018750\n",
      "14             Yellow Card   -0.009375  0.014321\n",
      "File permutation_importance.csv đã được lưu thành công!\n"
     ]
    }
   ],
   "source": [
    "import numpy as np\n",
    "import pandas as pd\n",
    "from sklearn.model_selection import train_test_split\n",
    "from sklearn.ensemble import RandomForestClassifier\n",
    "from sklearn.inspection import permutation_importance\n",
    "\n",
    "# Đọc dữ liệu\n",
    "data = pd.read_csv('FIFA 2018 Statistics.csv')\n",
    "\n",
    "# Biến mục tiêu: Chuyển đổi từ 'Yes'/'No' sang nhị phân (0/1)\n",
    "y = (data['Man of the Match'] == \"Yes\").astype(int)\n",
    "\n",
    "# Chọn các cột có kiểu dữ liệu số nguyên (int) hoặc thực (float)\n",
    "feature_names = [i for i in data.columns if data[i].dtype in [np.int64, np.float64]]\n",
    "X = data[feature_names]\n",
    "\n",
    "# Chia tập dữ liệu thành train/test\n",
    "train_X, val_X, train_y, val_y = train_test_split(X, y, random_state=1)\n",
    "\n",
    "# Huấn luyện mô hình RandomForest\n",
    "my_model = RandomForestClassifier(n_estimators=100, random_state=0)\n",
    "my_model.fit(train_X, train_y)\n",
    "\n",
    "# 🟢 Tính toán Permutation Importance\n",
    "perm_importance = permutation_importance(my_model, val_X, val_y, n_repeats=10, random_state=1, scoring=\"accuracy\")\n",
    "\n",
    "# Chuyển kết quả thành DataFrame để dễ đọc\n",
    "importances = pd.DataFrame({\n",
    "    \"Feature\": val_X.columns,\n",
    "    \"Importance\": perm_importance.importances_mean,\n",
    "    \"Std Dev\": perm_importance.importances_std\n",
    "}).sort_values(by=\"Importance\", ascending=False)\n",
    "\n",
    "# 🟢 Hiển thị kết quả\n",
    "print(importances)  # Nếu chạy trên terminal\n",
    "# display(importances)  # Nếu chạy trên Jupyter Notebook\n",
    "\n",
    "# 🟢 Xuất ra file CSV (nếu cần)\n",
    "importances.to_csv(\"permutation_importance.csv\", index=False)\n",
    "print(\"File permutation_importance.csv đã được lưu thành công!\")"
   ]
  },
  {
   "cell_type": "markdown",
   "id": "a7410f71",
   "metadata": {
    "papermill": {
     "duration": 0.001994,
     "end_time": "2023-04-20T18:03:28.360610",
     "exception": false,
     "start_time": "2023-04-20T18:03:28.358616",
     "status": "completed"
    },
    "tags": []
   },
   "source": [
    "Dưới đây là cách tính toán và hiển thị tầm quan trọng của đặc trưng bằng thư viện [eli5](https://eli5.readthedocs.io/en/latest/):\n",
    "- Tính tới hiện tại thì eli5 chưa có bản cập nhật phù hợp với phiên bản mới nhất của scikit-learn"
   ]
  },
  {
   "cell_type": "markdown",
   "id": "14e83b1c",
   "metadata": {
    "papermill": {
     "duration": 0.002639,
     "end_time": "2023-04-20T18:03:38.602798",
     "exception": false,
     "start_time": "2023-04-20T18:03:38.600159",
     "status": "completed"
    },
    "tags": []
   },
   "source": [
    "## Giải Thích Tầm Quan Trọng Hoán Vị (*Permutation Importances*)\n",
    "\n",
    "Các giá trị ở đầu bảng là những đặc trưng quan trọng nhất, trong khi các giá trị ở cuối bảng có ảnh hưởng ít nhất.\n",
    "\n",
    "Số đầu tiên trong mỗi hàng thể hiện mức độ suy giảm hiệu suất của mô hình khi một đặc trưng bị xáo trộn ngẫu nhiên (trong trường hợp này, chúng ta sử dụng \"độ chính xác\" (*accuracy*) làm thước đo hiệu suất).\n",
    "\n",
    "Như hầu hết các khía cạnh khác trong khoa học dữ liệu, có một chút ngẫu nhiên trong việc thay đổi hiệu suất khi xáo trộn một cột. Chúng ta đo lường mức độ ngẫu nhiên này bằng cách lặp lại quá trình xáo trộn nhiều lần. Số liệu sau ký hiệu **±** thể hiện mức độ biến thiên của hiệu suất giữa các lần xáo trộn.\n",
    "\n",
    "Đôi khi, bạn có thể thấy giá trị âm trong tầm quan trọng hoán vị. Điều này xảy ra khi dự đoán trên dữ liệu bị xáo trộn (hoặc có nhiễu) tình cờ chính xác hơn so với dữ liệu thực tế. Điều này thường xảy ra khi đặc trưng đó thực sự không quan trọng (đáng lẽ có giá trị tầm quan trọng gần bằng 0), nhưng do may mắn mà mô hình lại đưa ra dự đoán tốt hơn trên dữ liệu bị xáo trộn. Hiện tượng này phổ biến hơn với các tập dữ liệu nhỏ, như tập dữ liệu trong ví dụ này, vì mức độ ảnh hưởng của sự may mắn lớn hơn.\n",
    "\n",
    "Trong ví dụ của chúng ta, đặc trưng quan trọng nhất là **Số bàn thắng ghi được** (*Goals scored*). Điều này có vẻ hợp lý. Những người hâm mộ bóng đá có thể sẽ có trực giác về thứ tự của các đặc trưng khác liệu có đáng ngạc nhiên hay không.\n",
    "\n",
    "## Đến Lượt Bạn\n",
    "\n",
    "**[Bắt đầu ngay tại đây](https://www.kaggle.com/kernels/fork/1637562)** để áp dụng kiến thức mới về tầm quan trọng hoán vị của bạn."
   ]
  },
  {
   "cell_type": "markdown",
   "id": "b04d15ff",
   "metadata": {
    "papermill": {
     "duration": 0.002505,
     "end_time": "2023-04-20T18:03:38.608108",
     "exception": false,
     "start_time": "2023-04-20T18:03:38.605603",
     "status": "completed"
    },
    "tags": []
   },
   "source": [
    "---\n",
    "\n",
    "\n",
    "\n",
    "\n",
    "*Have questions or comments? Visit the [course discussion forum](https://www.kaggle.com/learn/machine-learning-explainability/discussion) to chat with other learners.*"
   ]
  }
 ],
 "metadata": {
  "kernelspec": {
   "display_name": "Python 3",
   "language": "python",
   "name": "python3"
  },
  "language_info": {
   "codemirror_mode": {
    "name": "ipython",
    "version": 3
   },
   "file_extension": ".py",
   "mimetype": "text/x-python",
   "name": "python",
   "nbconvert_exporter": "python",
   "pygments_lexer": "ipython3",
   "version": "3.11.9"
  },
  "papermill": {
   "default_parameters": {},
   "duration": 24.711055,
   "end_time": "2023-04-20T18:03:41.497833",
   "environment_variables": {},
   "exception": null,
   "input_path": "__notebook__.ipynb",
   "output_path": "__notebook__.ipynb",
   "parameters": {},
   "start_time": "2023-04-20T18:03:16.786778",
   "version": "2.4.0"
  }
 },
 "nbformat": 4,
 "nbformat_minor": 5
}
