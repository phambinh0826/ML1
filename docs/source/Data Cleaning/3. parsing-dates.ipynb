{
 "cells": [
  {
   "cell_type": "markdown",
   "id": "da625e86",
   "metadata": {
    "papermill": {
     "duration": 0.006143,
     "end_time": "2023-04-20T18:08:48.601873",
     "exception": false,
     "start_time": "2023-04-20T18:08:48.595730",
     "status": "completed"
    },
    "tags": []
   },
   "source": [
    "# Lecture 3 - Parsing Dates\n",
    "\n",
    "Giúp Python nhận diện ngày tháng dưới dạng ngày, tháng và năm.\n",
    "\n",
    "Trong notebook này, chúng ta sẽ làm việc với ngày tháng.\n",
    "\n",
    "Hãy bắt đầu thôi!"
   ]
  },
  {
   "cell_type": "markdown",
   "id": "fabad81c",
   "metadata": {
    "papermill": {
     "duration": 0.004559,
     "end_time": "2023-04-20T18:08:48.611531",
     "exception": false,
     "start_time": "2023-04-20T18:08:48.606972",
     "status": "completed"
    },
    "tags": []
   },
   "source": [
    "## Thiết lập môi trường của chúng ta\n",
    "\n",
    "Điều đầu tiên chúng ta cần làm là tải các thư viện và bộ dữ liệu mà chúng ta sẽ sử dụng. Chúng ta sẽ làm việc với một bộ dữ liệu chứa thông tin về các vụ sạt lở đất xảy ra từ năm 2007 đến 2016. Trong [**bài tập tiếp theo**](https://www.kaggle.com/kernels/fork/10824403), bạn sẽ áp dụng các kỹ năng mới của mình vào một bộ dữ liệu về các trận động đất trên toàn cầu.\n"
   ]
  },
  {
   "cell_type": "code",
   "execution_count": 10,
   "id": "335225dd",
   "metadata": {
    "execution": {
     "iopub.execute_input": "2023-04-20T18:08:48.622857Z",
     "iopub.status.busy": "2023-04-20T18:08:48.622442Z",
     "iopub.status.idle": "2023-04-20T18:08:49.894978Z",
     "shell.execute_reply": "2023-04-20T18:08:49.893941Z"
    },
    "papermill": {
     "duration": 1.28145,
     "end_time": "2023-04-20T18:08:49.897716",
     "exception": false,
     "start_time": "2023-04-20T18:08:48.616266",
     "status": "completed"
    },
    "tags": []
   },
   "outputs": [],
   "source": [
    "# Các module chúng ta sẽ sử dụng\n",
    "import pandas as pd\n",
    "import numpy as np\n",
    "import seaborn as sns\n",
    "import datetime\n",
    "\n",
    "# Đọc dữ liệu của chúng ta\n",
    "landslides = pd.read_csv(\"catalog.csv\")\n",
    "\n",
    "# Đặt seed để đảm bảo tính tái tạo\n",
    "np.random.seed(0)"
   ]
  },
  {
   "cell_type": "markdown",
   "id": "e35c0645",
   "metadata": {
    "papermill": {
     "duration": 0.004603,
     "end_time": "2023-04-20T18:08:49.907300",
     "exception": false,
     "start_time": "2023-04-20T18:08:49.902697",
     "status": "completed"
    },
    "tags": []
   },
   "source": [
    "Bây giờ chúng ta đã sẵn sàng để xem các ngày tháng!\n",
    "\n",
    "## Kiểm tra kiểu dữ liệu của cột ngày\n",
    "\n",
    "Chúng ta bắt đầu bằng cách xem xét năm dòng đầu tiên của dữ liệu.\n"
   ]
  },
  {
   "cell_type": "code",
   "execution_count": 11,
   "id": "40f7908c",
   "metadata": {
    "execution": {
     "iopub.execute_input": "2023-04-20T18:08:49.928804Z",
     "iopub.status.busy": "2023-04-20T18:08:49.927820Z",
     "iopub.status.idle": "2023-04-20T18:08:49.975389Z",
     "shell.execute_reply": "2023-04-20T18:08:49.973989Z"
    },
    "papermill": {
     "duration": 0.056987,
     "end_time": "2023-04-20T18:08:49.978611",
     "exception": false,
     "start_time": "2023-04-20T18:08:49.921624",
     "status": "completed"
    },
    "tags": []
   },
   "outputs": [
    {
     "data": {
      "text/html": [
       "<div>\n",
       "<style scoped>\n",
       "    .dataframe tbody tr th:only-of-type {\n",
       "        vertical-align: middle;\n",
       "    }\n",
       "\n",
       "    .dataframe tbody tr th {\n",
       "        vertical-align: top;\n",
       "    }\n",
       "\n",
       "    .dataframe thead th {\n",
       "        text-align: right;\n",
       "    }\n",
       "</style>\n",
       "<table border=\"1\" class=\"dataframe\">\n",
       "  <thead>\n",
       "    <tr style=\"text-align: right;\">\n",
       "      <th></th>\n",
       "      <th>id</th>\n",
       "      <th>date</th>\n",
       "      <th>time</th>\n",
       "      <th>continent_code</th>\n",
       "      <th>country_name</th>\n",
       "      <th>country_code</th>\n",
       "      <th>state/province</th>\n",
       "      <th>population</th>\n",
       "      <th>city/town</th>\n",
       "      <th>distance</th>\n",
       "      <th>...</th>\n",
       "      <th>geolocation</th>\n",
       "      <th>hazard_type</th>\n",
       "      <th>landslide_type</th>\n",
       "      <th>landslide_size</th>\n",
       "      <th>trigger</th>\n",
       "      <th>storm_name</th>\n",
       "      <th>injuries</th>\n",
       "      <th>fatalities</th>\n",
       "      <th>source_name</th>\n",
       "      <th>source_link</th>\n",
       "    </tr>\n",
       "  </thead>\n",
       "  <tbody>\n",
       "    <tr>\n",
       "      <th>0</th>\n",
       "      <td>34</td>\n",
       "      <td>3/2/07</td>\n",
       "      <td>Night</td>\n",
       "      <td>NaN</td>\n",
       "      <td>United States</td>\n",
       "      <td>US</td>\n",
       "      <td>Virginia</td>\n",
       "      <td>16000</td>\n",
       "      <td>Cherry Hill</td>\n",
       "      <td>3.40765</td>\n",
       "      <td>...</td>\n",
       "      <td>(38.600900000000003, -77.268199999999993)</td>\n",
       "      <td>Landslide</td>\n",
       "      <td>Landslide</td>\n",
       "      <td>Small</td>\n",
       "      <td>Rain</td>\n",
       "      <td>NaN</td>\n",
       "      <td>NaN</td>\n",
       "      <td>NaN</td>\n",
       "      <td>NBC 4 news</td>\n",
       "      <td>http://www.nbc4.com/news/11186871/detail.html</td>\n",
       "    </tr>\n",
       "    <tr>\n",
       "      <th>1</th>\n",
       "      <td>42</td>\n",
       "      <td>3/22/07</td>\n",
       "      <td>NaN</td>\n",
       "      <td>NaN</td>\n",
       "      <td>United States</td>\n",
       "      <td>US</td>\n",
       "      <td>Ohio</td>\n",
       "      <td>17288</td>\n",
       "      <td>New Philadelphia</td>\n",
       "      <td>3.33522</td>\n",
       "      <td>...</td>\n",
       "      <td>(40.517499999999998, -81.430499999999995)</td>\n",
       "      <td>Landslide</td>\n",
       "      <td>Landslide</td>\n",
       "      <td>Small</td>\n",
       "      <td>Rain</td>\n",
       "      <td>NaN</td>\n",
       "      <td>NaN</td>\n",
       "      <td>NaN</td>\n",
       "      <td>Canton Rep.com</td>\n",
       "      <td>http://www.cantonrep.com/index.php?ID=345054&amp;C...</td>\n",
       "    </tr>\n",
       "    <tr>\n",
       "      <th>2</th>\n",
       "      <td>56</td>\n",
       "      <td>4/6/07</td>\n",
       "      <td>NaN</td>\n",
       "      <td>NaN</td>\n",
       "      <td>United States</td>\n",
       "      <td>US</td>\n",
       "      <td>Pennsylvania</td>\n",
       "      <td>15930</td>\n",
       "      <td>Wilkinsburg</td>\n",
       "      <td>2.91977</td>\n",
       "      <td>...</td>\n",
       "      <td>(40.4377, -79.915999999999997)</td>\n",
       "      <td>Landslide</td>\n",
       "      <td>Landslide</td>\n",
       "      <td>Small</td>\n",
       "      <td>Rain</td>\n",
       "      <td>NaN</td>\n",
       "      <td>NaN</td>\n",
       "      <td>NaN</td>\n",
       "      <td>The Pittsburgh Channel.com</td>\n",
       "      <td>https://web.archive.org/web/20080423132842/htt...</td>\n",
       "    </tr>\n",
       "    <tr>\n",
       "      <th>3</th>\n",
       "      <td>59</td>\n",
       "      <td>4/14/07</td>\n",
       "      <td>NaN</td>\n",
       "      <td>NaN</td>\n",
       "      <td>Canada</td>\n",
       "      <td>CA</td>\n",
       "      <td>Quebec</td>\n",
       "      <td>42786</td>\n",
       "      <td>Châteauguay</td>\n",
       "      <td>2.98682</td>\n",
       "      <td>...</td>\n",
       "      <td>(45.322600000000001, -73.777100000000004)</td>\n",
       "      <td>Landslide</td>\n",
       "      <td>Riverbank collapse</td>\n",
       "      <td>Small</td>\n",
       "      <td>Rain</td>\n",
       "      <td>NaN</td>\n",
       "      <td>NaN</td>\n",
       "      <td>NaN</td>\n",
       "      <td>Le Soleil</td>\n",
       "      <td>http://www.hebdos.net/lsc/edition162007/articl...</td>\n",
       "    </tr>\n",
       "    <tr>\n",
       "      <th>4</th>\n",
       "      <td>61</td>\n",
       "      <td>4/15/07</td>\n",
       "      <td>NaN</td>\n",
       "      <td>NaN</td>\n",
       "      <td>United States</td>\n",
       "      <td>US</td>\n",
       "      <td>Kentucky</td>\n",
       "      <td>6903</td>\n",
       "      <td>Pikeville</td>\n",
       "      <td>5.66542</td>\n",
       "      <td>...</td>\n",
       "      <td>(37.432499999999997, -82.493099999999998)</td>\n",
       "      <td>Landslide</td>\n",
       "      <td>Landslide</td>\n",
       "      <td>Small</td>\n",
       "      <td>Downpour</td>\n",
       "      <td>NaN</td>\n",
       "      <td>NaN</td>\n",
       "      <td>0.0</td>\n",
       "      <td>Matthew Crawford (KGS)</td>\n",
       "      <td>NaN</td>\n",
       "    </tr>\n",
       "  </tbody>\n",
       "</table>\n",
       "<p>5 rows × 23 columns</p>\n",
       "</div>"
      ],
      "text/plain": [
       "   id     date   time continent_code   country_name country_code  \\\n",
       "0  34   3/2/07  Night            NaN  United States           US   \n",
       "1  42  3/22/07    NaN            NaN  United States           US   \n",
       "2  56   4/6/07    NaN            NaN  United States           US   \n",
       "3  59  4/14/07    NaN            NaN         Canada           CA   \n",
       "4  61  4/15/07    NaN            NaN  United States           US   \n",
       "\n",
       "  state/province  population         city/town  distance  ...  \\\n",
       "0       Virginia       16000       Cherry Hill   3.40765  ...   \n",
       "1           Ohio       17288  New Philadelphia   3.33522  ...   \n",
       "2   Pennsylvania       15930       Wilkinsburg   2.91977  ...   \n",
       "3         Quebec       42786       Châteauguay   2.98682  ...   \n",
       "4       Kentucky        6903         Pikeville   5.66542  ...   \n",
       "\n",
       "                                 geolocation  hazard_type      landslide_type  \\\n",
       "0  (38.600900000000003, -77.268199999999993)    Landslide           Landslide   \n",
       "1  (40.517499999999998, -81.430499999999995)    Landslide           Landslide   \n",
       "2             (40.4377, -79.915999999999997)    Landslide           Landslide   \n",
       "3  (45.322600000000001, -73.777100000000004)    Landslide  Riverbank collapse   \n",
       "4  (37.432499999999997, -82.493099999999998)    Landslide           Landslide   \n",
       "\n",
       "  landslide_size   trigger storm_name injuries fatalities  \\\n",
       "0          Small      Rain        NaN      NaN        NaN   \n",
       "1          Small      Rain        NaN      NaN        NaN   \n",
       "2          Small      Rain        NaN      NaN        NaN   \n",
       "3          Small      Rain        NaN      NaN        NaN   \n",
       "4          Small  Downpour        NaN      NaN        0.0   \n",
       "\n",
       "                  source_name  \\\n",
       "0                  NBC 4 news   \n",
       "1              Canton Rep.com   \n",
       "2  The Pittsburgh Channel.com   \n",
       "3                   Le Soleil   \n",
       "4      Matthew Crawford (KGS)   \n",
       "\n",
       "                                         source_link  \n",
       "0      http://www.nbc4.com/news/11186871/detail.html  \n",
       "1  http://www.cantonrep.com/index.php?ID=345054&C...  \n",
       "2  https://web.archive.org/web/20080423132842/htt...  \n",
       "3  http://www.hebdos.net/lsc/edition162007/articl...  \n",
       "4                                                NaN  \n",
       "\n",
       "[5 rows x 23 columns]"
      ]
     },
     "execution_count": 11,
     "metadata": {},
     "output_type": "execute_result"
    }
   ],
   "source": [
    "landslides.head()"
   ]
  },
  {
   "cell_type": "markdown",
   "id": "aabdc915",
   "metadata": {
    "papermill": {
     "duration": 0.004904,
     "end_time": "2023-04-20T18:08:49.988972",
     "exception": false,
     "start_time": "2023-04-20T18:08:49.984068",
     "status": "completed"
    },
    "tags": []
   },
   "source": [
    "Chúng ta sẽ làm việc với cột \"date\" từ dataframe `landslides`. Hãy chắc chắn rằng nó thực sự chứa các giá trị ngày tháng."
   ]
  },
  {
   "cell_type": "code",
   "execution_count": 12,
   "id": "873eedcd",
   "metadata": {
    "execution": {
     "iopub.execute_input": "2023-04-20T18:08:50.001935Z",
     "iopub.status.busy": "2023-04-20T18:08:50.001189Z",
     "iopub.status.idle": "2023-04-20T18:08:50.011863Z",
     "shell.execute_reply": "2023-04-20T18:08:50.010438Z"
    },
    "papermill": {
     "duration": 0.020301,
     "end_time": "2023-04-20T18:08:50.014593",
     "exception": false,
     "start_time": "2023-04-20T18:08:49.994292",
     "status": "completed"
    },
    "tags": []
   },
   "outputs": [
    {
     "name": "stdout",
     "output_type": "stream",
     "text": [
      "0     3/2/07\n",
      "1    3/22/07\n",
      "2     4/6/07\n",
      "3    4/14/07\n",
      "4    4/15/07\n",
      "Name: date, dtype: object\n"
     ]
    }
   ],
   "source": [
    "# In ra vài dòng đầu tiên của cột ngày\n",
    "print(landslides['date'].head())"
   ]
  },
  {
   "cell_type": "markdown",
   "id": "352b4a8a",
   "metadata": {
    "papermill": {
     "duration": 0.005067,
     "end_time": "2023-04-20T18:08:50.025154",
     "exception": false,
     "start_time": "2023-04-20T18:08:50.020087",
     "status": "completed"
    },
    "tags": []
   },
   "source": [
    "Đúng vậy, đó là các ngày tháng! Nhưng chỉ vì tôi, một con người, có thể nhận ra đây là các ngày tháng không có nghĩa là Python cũng biết chúng là ngày tháng. Lưu ý rằng ở dưới cùng của kết quả từ `head()`, bạn có thể thấy rằng kiểu dữ liệu của cột này là \"object\".\n",
    "\n",
    "> Pandas sử dụng kiểu dữ liệu \"object\" để lưu trữ nhiều loại kiểu dữ liệu khác nhau, nhưng thường thì khi bạn thấy một cột có kiểu dữ liệu \"object\", nó sẽ chứa các chuỗi (strings).\n",
    "\n",
    "Nếu bạn kiểm tra tài liệu kiểu dữ liệu pandas [tại đây](http://pandas.pydata.org/pandas-docs/stable/basics.html#dtypes), bạn sẽ nhận thấy rằng cũng có một kiểu dữ liệu cụ thể là `datetime64`. Vì kiểu dữ liệu của cột này là \"object\" thay vì `datetime64`, chúng ta có thể biết rằng Python không nhận ra rằng cột này chứa các giá trị ngày tháng.\n",
    "\n",
    "Chúng ta cũng có thể chỉ kiểm tra kiểu dữ liệu của một cột mà không cần in ra vài dòng đầu tiên:"
   ]
  },
  {
   "cell_type": "code",
   "execution_count": 13,
   "id": "b14857bc",
   "metadata": {
    "execution": {
     "iopub.execute_input": "2023-04-20T18:08:50.038277Z",
     "iopub.status.busy": "2023-04-20T18:08:50.037480Z",
     "iopub.status.idle": "2023-04-20T18:08:50.045120Z",
     "shell.execute_reply": "2023-04-20T18:08:50.043769Z"
    },
    "papermill": {
     "duration": 0.017027,
     "end_time": "2023-04-20T18:08:50.047534",
     "exception": false,
     "start_time": "2023-04-20T18:08:50.030507",
     "status": "completed"
    },
    "tags": []
   },
   "outputs": [
    {
     "data": {
      "text/plain": [
       "dtype('O')"
      ]
     },
     "execution_count": 13,
     "metadata": {},
     "output_type": "execute_result"
    }
   ],
   "source": [
    "# Kiểm tra kiểu dữ liệu của cột ngày\n",
    "landslides['date'].dtype"
   ]
  },
  {
   "cell_type": "markdown",
   "id": "d8f41db8",
   "metadata": {
    "papermill": {
     "duration": 0.005243,
     "end_time": "2023-04-20T18:08:50.058202",
     "exception": false,
     "start_time": "2023-04-20T18:08:50.052959",
     "status": "completed"
    },
    "tags": []
   },
   "source": [
    "Bạn có thể cần kiểm tra tài liệu [numpy](https://docs.scipy.org/doc/numpy-1.12.0/reference/generated/numpy.dtype.kind.html#numpy.dtype.kind) để đối chiếu mã chữ với kiểu dữ liệu của đối tượng. \"O\" là mã cho \"object\", vì vậy chúng ta có thể thấy rằng hai phương pháp này cung cấp cho chúng ta cùng một thông tin.\n",
    "\n",
    "## Chuyển đổi cột ngày của chúng ta thành kiểu datetime\n",
    "\n",
    "Bây giờ chúng ta biết rằng cột ngày của mình không được nhận diện là ngày tháng, đã đến lúc chuyển đổi nó sao cho nó *được* nhận diện là ngày tháng. Điều này được gọi là \"phân tích ngày tháng\" vì chúng ta đang nhận vào một chuỗi và xác định các thành phần của nó.\n",
    "\n",
    "Chúng ta có thể xác định định dạng của các ngày tháng trong dữ liệu bằng một hướng dẫn gọi là [\"strftime directive\", bạn có thể tìm thêm thông tin tại liên kết này](http://strftime.org/). Ý tưởng cơ bản là bạn cần chỉ ra phần nào của ngày tháng ở đâu và dấu câu nào ở giữa chúng. Có [nhiều phần có thể có của một ngày tháng](http://strftime.org/), nhưng những phần phổ biến nhất là `%d` cho ngày, `%m` cho tháng, `%y` cho năm hai chữ số và `%Y` cho năm bốn chữ số.\n",
    "\n",
    "Một số ví dụ:\n",
    "\n",
    " * 1/17/07 có định dạng \"%m/%d/%y\"\n",
    " * 17-1-2007 có định dạng \"%d-%m-%Y\"\n",
    " \n",
    "Nhìn lại phần đầu của cột \"date\" trong bộ dữ liệu landslides, chúng ta có thể thấy rằng nó có định dạng \"tháng/ngày/năm hai chữ số\", vì vậy chúng ta có thể sử dụng cú pháp giống như ví dụ đầu tiên để phân tích các ngày tháng của mình:"
   ]
  },
  {
   "cell_type": "code",
   "execution_count": 14,
   "id": "9941bbdd",
   "metadata": {
    "execution": {
     "iopub.execute_input": "2023-04-20T18:08:50.083862Z",
     "iopub.status.busy": "2023-04-20T18:08:50.082789Z",
     "iopub.status.idle": "2023-04-20T18:08:50.097598Z",
     "shell.execute_reply": "2023-04-20T18:08:50.095970Z"
    },
    "papermill": {
     "duration": 0.025863,
     "end_time": "2023-04-20T18:08:50.100709",
     "exception": false,
     "start_time": "2023-04-20T18:08:50.074846",
     "status": "completed"
    },
    "scrolled": false,
    "tags": []
   },
   "outputs": [],
   "source": [
    "# Tạo một cột mới, date_parsed, với các ngày tháng đã được phân tích\n",
    "landslides['date_parsed'] = pd.to_datetime(landslides['date'], format=\"%m/%d/%y\")"
   ]
  },
  {
   "cell_type": "markdown",
   "id": "a02d02ef",
   "metadata": {
    "papermill": {
     "duration": 0.005351,
     "end_time": "2023-04-20T18:08:50.111884",
     "exception": false,
     "start_time": "2023-04-20T18:08:50.106533",
     "status": "completed"
    },
    "tags": []
   },
   "source": [
    "Bây giờ, khi tôi kiểm tra vài dòng đầu tiên của cột mới, tôi có thể thấy rằng kiểu dữ liệu là `datetime64`. Tôi cũng có thể thấy rằng các ngày tháng của tôi đã được sắp xếp lại một chút sao cho phù hợp với thứ tự mặc định của các đối tượng ngày tháng (năm-tháng-ngày)."
   ]
  },
  {
   "cell_type": "code",
   "execution_count": 15,
   "id": "45dbb9ec",
   "metadata": {
    "execution": {
     "iopub.execute_input": "2023-04-20T18:08:50.125534Z",
     "iopub.status.busy": "2023-04-20T18:08:50.125028Z",
     "iopub.status.idle": "2023-04-20T18:08:50.133450Z",
     "shell.execute_reply": "2023-04-20T18:08:50.132300Z"
    },
    "papermill": {
     "duration": 0.018266,
     "end_time": "2023-04-20T18:08:50.135733",
     "exception": false,
     "start_time": "2023-04-20T18:08:50.117467",
     "status": "completed"
    },
    "tags": []
   },
   "outputs": [
    {
     "data": {
      "text/plain": [
       "0   2007-03-02\n",
       "1   2007-03-22\n",
       "2   2007-04-06\n",
       "3   2007-04-14\n",
       "4   2007-04-15\n",
       "Name: date_parsed, dtype: datetime64[ns]"
      ]
     },
     "execution_count": 15,
     "metadata": {},
     "output_type": "execute_result"
    }
   ],
   "source": [
    "# In ra vài dòng đầu tiên\n",
    "landslides['date_parsed'].head()"
   ]
  },
  {
   "cell_type": "markdown",
   "id": "e2b5d5e4",
   "metadata": {
    "papermill": {
     "duration": 0.005343,
     "end_time": "2023-04-20T18:08:50.146951",
     "exception": false,
     "start_time": "2023-04-20T18:08:50.141608",
     "status": "completed"
    },
    "tags": []
   },
   "source": [
    "Bây giờ mà các ngày tháng của chúng ta đã được phân tích đúng cách, chúng ta có thể tương tác với chúng theo những cách hữu ích.\n",
    "\n",
    "___\n",
    "* **Nếu tôi gặp lỗi với nhiều định dạng ngày tháng khác nhau thì sao?** Trong khi chúng ta đã chỉ định định dạng ngày tháng ở đây, đôi khi bạn sẽ gặp lỗi khi có nhiều định dạng ngày tháng trong cùng một cột. Nếu điều đó xảy ra, bạn có thể yêu cầu pandas thử suy luận định dạng ngày tháng đúng. Bạn có thể làm điều đó như sau:\n",
    "\n",
    "`landslides['date_parsed'] = pd.to_datetime(landslides['Date'], infer_datetime_format=True)`\n",
    "\n",
    "* **Tại sao không luôn luôn sử dụng `infer_datetime_format = True`?** Có hai lý do chính để không luôn để pandas đoán định dạng thời gian. Lý do đầu tiên là pandas không phải lúc nào cũng có thể xác định đúng định dạng ngày tháng, đặc biệt nếu ai đó đã sáng tạo trong việc nhập liệu. Lý do thứ hai là việc này chậm hơn nhiều so với việc chỉ định chính xác định dạng của ngày tháng.\n",
    "\n",
    "## Chọn ngày trong tháng\n",
    "\n",
    "Bây giờ chúng ta đã có một cột ngày tháng đã phân tích, chúng ta có thể trích xuất các thông tin như ngày trong tháng mà vụ sạt lở đất đã xảy ra."
   ]
  },
  {
   "cell_type": "code",
   "execution_count": 16,
   "id": "442f585a",
   "metadata": {
    "execution": {
     "iopub.execute_input": "2023-04-20T18:08:50.172019Z",
     "iopub.status.busy": "2023-04-20T18:08:50.170896Z",
     "iopub.status.idle": "2023-04-20T18:08:50.181665Z",
     "shell.execute_reply": "2023-04-20T18:08:50.180399Z"
    },
    "papermill": {
     "duration": 0.020779,
     "end_time": "2023-04-20T18:08:50.184423",
     "exception": false,
     "start_time": "2023-04-20T18:08:50.163644",
     "status": "completed"
    },
    "tags": []
   },
   "outputs": [
    {
     "data": {
      "text/plain": [
       "0     2.0\n",
       "1    22.0\n",
       "2     6.0\n",
       "3    14.0\n",
       "4    15.0\n",
       "Name: date_parsed, dtype: float64"
      ]
     },
     "execution_count": 16,
     "metadata": {},
     "output_type": "execute_result"
    }
   ],
   "source": [
    "# Lấy ngày trong tháng từ cột date_parsed\n",
    "day_of_month_landslides = landslides['date_parsed'].dt.day\n",
    "day_of_month_landslides.head()"
   ]
  },
  {
   "cell_type": "markdown",
   "id": "5d564f24",
   "metadata": {
    "papermill": {
     "duration": 0.005525,
     "end_time": "2023-04-20T18:08:50.195906",
     "exception": false,
     "start_time": "2023-04-20T18:08:50.190381",
     "status": "completed"
    },
    "tags": []
   },
   "source": [
    "Nếu chúng ta thử lấy thông tin tương tự từ cột \"date\" gốc, chúng ta sẽ gặp lỗi: `AttributeError: Can only use .dt accessor with datetimelike values`. Điều này là vì `dt.day` không biết cách xử lý một cột có kiểu dữ liệu \"object\". Mặc dù dataframe của chúng ta chứa các giá trị ngày tháng, nhưng chúng ta phải phân tích chúng trước khi có thể tương tác với chúng một cách hữu ích.\n",
    "\n",
    "## Vẽ biểu đồ ngày trong tháng để kiểm tra việc phân tích ngày tháng\n",
    "\n",
    "Một trong những nguy hiểm lớn nhất khi phân tích ngày tháng là nhầm lẫn giữa tháng và ngày. Hàm `to_datetime()` có các thông báo lỗi rất hữu ích, nhưng không có gì là thừa khi kiểm tra lại rằng các ngày trong tháng mà chúng ta đã trích xuất có hợp lý không.\n",
    "\n",
    "Để làm điều này, hãy vẽ một biểu đồ histogram về các ngày trong tháng. Chúng ta mong đợi rằng nó sẽ có giá trị trong khoảng từ 1 đến 31 và, vì không có lý do gì để cho rằng các vụ sạt lở đất xảy ra nhiều hơn vào những ngày nhất định trong tháng, phân bố của chúng sẽ tương đối đều. (Với một sự giảm sút vào ngày 31 vì không phải tháng nào cũng có 31 ngày.) Hãy xem liệu điều đó có đúng không:"
   ]
  },
  {
   "cell_type": "code",
   "execution_count": 17,
   "id": "47f6672d",
   "metadata": {
    "execution": {
     "iopub.execute_input": "2023-04-20T18:08:50.221481Z",
     "iopub.status.busy": "2023-04-20T18:08:50.221010Z",
     "iopub.status.idle": "2023-04-20T18:08:50.552652Z",
     "shell.execute_reply": "2023-04-20T18:08:50.551123Z"
    },
    "papermill": {
     "duration": 0.342021,
     "end_time": "2023-04-20T18:08:50.555451",
     "exception": false,
     "start_time": "2023-04-20T18:08:50.213430",
     "status": "completed"
    },
    "tags": []
   },
   "outputs": [
    {
     "data": {
      "image/png": "[encoded data removed]",
      "text/plain": [
       "<Figure size 640x480 with 1 Axes>"
      ]
     },
     "metadata": {},
     "output_type": "display_data"
    }
   ],
   "source": [
    "# Loại bỏ các giá trị NA\n",
    "day_of_month_landslides = day_of_month_landslides.dropna()\n",
    "\n",
    "# Vẽ biểu đồ ngày trong tháng\n",
    "sns.histplot(day_of_month_landslides, kde=False, bins=31);"
   ]
  },
  {
   "cell_type": "markdown",
   "id": "a9cfd365",
   "metadata": {
    "papermill": {
     "duration": 0.006293,
     "end_time": "2023-04-20T18:08:50.568317",
     "exception": false,
     "start_time": "2023-04-20T18:08:50.562024",
     "status": "completed"
    },
    "tags": []
   },
   "source": [
    "Đúng vậy, có vẻ như chúng ta đã phân tích ngày tháng đúng cách và biểu đồ này có ý nghĩa hợp lý với tôi.\n",
    "\n",
    "## Your turn\n",
    "\n",
    "Write code to [**parse the dates**](https://www.kaggle.com/kernels/fork/10824403) in a dataset of worldwide earthquakes."
   ]
  },
  {
   "cell_type": "markdown",
   "id": "a3fac104",
   "metadata": {
    "papermill": {
     "duration": 0.006324,
     "end_time": "2023-04-20T18:08:50.581330",
     "exception": false,
     "start_time": "2023-04-20T18:08:50.575006",
     "status": "completed"
    },
    "tags": []
   },
   "source": [
    "---\n",
    "\n",
    "\n",
    "\n",
    "\n",
    "*Have questions or comments? Visit the [course discussion forum](https://www.kaggle.com/learn/data-cleaning/discussion) to chat with other learners.*"
   ]
  }
 ],
 "metadata": {
  "kernelspec": {
   "display_name": "Python 3",
   "language": "python",
   "name": "python3"
  },
  "language_info": {
   "codemirror_mode": {
    "name": "ipython",
    "version": 3
   },
   "file_extension": ".py",
   "mimetype": "text/x-python",
   "name": "python",
   "nbconvert_exporter": "python",
   "pygments_lexer": "ipython3",
   "version": "3.11.9"
  },
  "papermill": {
   "default_parameters": {},
   "duration": 13.37887,
   "end_time": "2023-04-20T18:08:51.311447",
   "environment_variables": {},
   "exception": null,
   "input_path": "__notebook__.ipynb",
   "output_path": "__notebook__.ipynb",
   "parameters": {},
   "start_time": "2023-04-20T18:08:37.932577",
   "version": "2.4.0"
  }
 },
 "nbformat": 4,
 "nbformat_minor": 5
}
