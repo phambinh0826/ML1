{
 "cells": [
  {
   "cell_type": "markdown",
   "id": "e25e1627",
   "metadata": {
    "papermill": {
     "duration": 0.006052,
     "end_time": "2023-04-20T18:09:04.969489",
     "exception": false,
     "start_time": "2023-04-20T18:09:04.963437",
     "status": "completed"
    },
    "tags": []
   },
   "source": [
    "# Lecture 1 - Handling Missing Values\n",
    "Loại bỏ giá trị thiếu, hoặc điền chúng vào bằng một quy trình tự động.\n",
    "\n",
    "## Xem qua dữ liệu lần đầu\n",
    "\n",
    "Điều đầu tiên chúng ta cần làm là tải các thư viện và bộ dữ liệu mà chúng ta sẽ sử dụng.\n",
    "\n",
    "Để minh họa, chúng ta sẽ sử dụng một bộ dữ liệu về các sự kiện đã xảy ra trong các trận đấu Bóng bầu dục Mỹ. Trong [**bài tập tiếp theo**](https://www.kaggle.com/kernels/fork/10824396), bạn sẽ áp dụng các kỹ năng mới của mình vào một bộ dữ liệu về giấy phép xây dựng đã được cấp ở San Francisco."
   ]
  },
  {
   "cell_type": "code",
   "execution_count": 1,
   "id": "b913ce76",
   "metadata": {
    "execution": {
     "iopub.execute_input": "2023-04-20T18:09:04.981646Z",
     "iopub.status.busy": "2023-04-20T18:09:04.981243Z",
     "iopub.status.idle": "2023-04-20T18:09:18.794507Z",
     "shell.execute_reply": "2023-04-20T18:09:18.793071Z"
    },
    "papermill": {
     "duration": 13.823169,
     "end_time": "2023-04-20T18:09:18.797730",
     "exception": false,
     "start_time": "2023-04-20T18:09:04.974561",
     "status": "completed"
    },
    "tags": []
   },
   "outputs": [
    {
     "name": "stderr",
     "output_type": "stream",
     "text": [
      "C:\\Users\\minh PC\\AppData\\Local\\Temp\\ipykernel_4708\\2378803584.py:6: DtypeWarning: Columns (25,51) have mixed types. Specify dtype option on import or set low_memory=False.\n",
      "  nfl_data = pd.read_csv(\"NFL Play by Play 2009-2017 (v4).csv\")\n"
     ]
    }
   ],
   "source": [
    "# Các module chúng ta sẽ sử dụng\n",
    "import pandas as pd\n",
    "import numpy as np\n",
    "\n",
    "# Đọc toàn bộ dữ liệu của chúng ta\n",
    "nfl_data = pd.read_csv(\"NFL Play by Play 2009-2017 (v4).csv\")\n",
    "\n",
    "# Đặt seed để đảm bảo tính tái tạo\n",
    "np.random.seed(0)"
   ]
  },
  {
   "cell_type": "markdown",
   "id": "34b52820",
   "metadata": {
    "papermill": {
     "duration": 0.004968,
     "end_time": "2023-04-20T18:09:18.807995",
     "exception": false,
     "start_time": "2023-04-20T18:09:18.803027",
     "status": "completed"
    },
    "tags": []
   },
   "source": [
    "Điều đầu tiên cần làm khi bạn nhận được một bộ dữ liệu mới là xem qua một phần của nó. Điều này giúp bạn xác nhận rằng dữ liệu đã được đọc đúng và cung cấp một cái nhìn tổng quan về dữ liệu. Trong trường hợp này, hãy kiểm tra xem có giá trị thiếu nào không, những giá trị này sẽ được biểu diễn bằng `NaN` hoặc `None`."
   ]
  },
  {
   "cell_type": "code",
   "execution_count": 2,
   "id": "a44bd49a",
   "metadata": {
    "execution": {
     "iopub.execute_input": "2023-04-20T18:09:18.820534Z",
     "iopub.status.busy": "2023-04-20T18:09:18.820067Z",
     "iopub.status.idle": "2023-04-20T18:09:18.868485Z",
     "shell.execute_reply": "2023-04-20T18:09:18.867204Z"
    },
    "papermill": {
     "duration": 0.058044,
     "end_time": "2023-04-20T18:09:18.871125",
     "exception": false,
     "start_time": "2023-04-20T18:09:18.813081",
     "status": "completed"
    },
    "tags": []
   },
   "outputs": [
    {
     "data": {
      "text/html": [
       "<div>\n",
       "<style scoped>\n",
       "    .dataframe tbody tr th:only-of-type {\n",
       "        vertical-align: middle;\n",
       "    }\n",
       "\n",
       "    .dataframe tbody tr th {\n",
       "        vertical-align: top;\n",
       "    }\n",
       "\n",
       "    .dataframe thead th {\n",
       "        text-align: right;\n",
       "    }\n",
       "</style>\n",
       "<table border=\"1\" class=\"dataframe\">\n",
       "  <thead>\n",
       "    <tr style=\"text-align: right;\">\n",
       "      <th></th>\n",
       "      <th>Date</th>\n",
       "      <th>GameID</th>\n",
       "      <th>Drive</th>\n",
       "      <th>qtr</th>\n",
       "      <th>down</th>\n",
       "      <th>time</th>\n",
       "      <th>TimeUnder</th>\n",
       "      <th>TimeSecs</th>\n",
       "      <th>PlayTimeDiff</th>\n",
       "      <th>SideofField</th>\n",
       "      <th>...</th>\n",
       "      <th>yacEPA</th>\n",
       "      <th>Home_WP_pre</th>\n",
       "      <th>Away_WP_pre</th>\n",
       "      <th>Home_WP_post</th>\n",
       "      <th>Away_WP_post</th>\n",
       "      <th>Win_Prob</th>\n",
       "      <th>WPA</th>\n",
       "      <th>airWPA</th>\n",
       "      <th>yacWPA</th>\n",
       "      <th>Season</th>\n",
       "    </tr>\n",
       "  </thead>\n",
       "  <tbody>\n",
       "    <tr>\n",
       "      <th>0</th>\n",
       "      <td>2009-09-10</td>\n",
       "      <td>2009091000</td>\n",
       "      <td>1</td>\n",
       "      <td>1</td>\n",
       "      <td>NaN</td>\n",
       "      <td>15:00</td>\n",
       "      <td>15</td>\n",
       "      <td>3600.0</td>\n",
       "      <td>0.0</td>\n",
       "      <td>TEN</td>\n",
       "      <td>...</td>\n",
       "      <td>NaN</td>\n",
       "      <td>0.485675</td>\n",
       "      <td>0.514325</td>\n",
       "      <td>0.546433</td>\n",
       "      <td>0.453567</td>\n",
       "      <td>0.485675</td>\n",
       "      <td>0.060758</td>\n",
       "      <td>NaN</td>\n",
       "      <td>NaN</td>\n",
       "      <td>2009</td>\n",
       "    </tr>\n",
       "    <tr>\n",
       "      <th>1</th>\n",
       "      <td>2009-09-10</td>\n",
       "      <td>2009091000</td>\n",
       "      <td>1</td>\n",
       "      <td>1</td>\n",
       "      <td>1.0</td>\n",
       "      <td>14:53</td>\n",
       "      <td>15</td>\n",
       "      <td>3593.0</td>\n",
       "      <td>7.0</td>\n",
       "      <td>PIT</td>\n",
       "      <td>...</td>\n",
       "      <td>1.146076</td>\n",
       "      <td>0.546433</td>\n",
       "      <td>0.453567</td>\n",
       "      <td>0.551088</td>\n",
       "      <td>0.448912</td>\n",
       "      <td>0.546433</td>\n",
       "      <td>0.004655</td>\n",
       "      <td>-0.032244</td>\n",
       "      <td>0.036899</td>\n",
       "      <td>2009</td>\n",
       "    </tr>\n",
       "    <tr>\n",
       "      <th>2</th>\n",
       "      <td>2009-09-10</td>\n",
       "      <td>2009091000</td>\n",
       "      <td>1</td>\n",
       "      <td>1</td>\n",
       "      <td>2.0</td>\n",
       "      <td>14:16</td>\n",
       "      <td>15</td>\n",
       "      <td>3556.0</td>\n",
       "      <td>37.0</td>\n",
       "      <td>PIT</td>\n",
       "      <td>...</td>\n",
       "      <td>NaN</td>\n",
       "      <td>0.551088</td>\n",
       "      <td>0.448912</td>\n",
       "      <td>0.510793</td>\n",
       "      <td>0.489207</td>\n",
       "      <td>0.551088</td>\n",
       "      <td>-0.040295</td>\n",
       "      <td>NaN</td>\n",
       "      <td>NaN</td>\n",
       "      <td>2009</td>\n",
       "    </tr>\n",
       "    <tr>\n",
       "      <th>3</th>\n",
       "      <td>2009-09-10</td>\n",
       "      <td>2009091000</td>\n",
       "      <td>1</td>\n",
       "      <td>1</td>\n",
       "      <td>3.0</td>\n",
       "      <td>13:35</td>\n",
       "      <td>14</td>\n",
       "      <td>3515.0</td>\n",
       "      <td>41.0</td>\n",
       "      <td>PIT</td>\n",
       "      <td>...</td>\n",
       "      <td>-5.031425</td>\n",
       "      <td>0.510793</td>\n",
       "      <td>0.489207</td>\n",
       "      <td>0.461217</td>\n",
       "      <td>0.538783</td>\n",
       "      <td>0.510793</td>\n",
       "      <td>-0.049576</td>\n",
       "      <td>0.106663</td>\n",
       "      <td>-0.156239</td>\n",
       "      <td>2009</td>\n",
       "    </tr>\n",
       "    <tr>\n",
       "      <th>4</th>\n",
       "      <td>2009-09-10</td>\n",
       "      <td>2009091000</td>\n",
       "      <td>1</td>\n",
       "      <td>1</td>\n",
       "      <td>4.0</td>\n",
       "      <td>13:27</td>\n",
       "      <td>14</td>\n",
       "      <td>3507.0</td>\n",
       "      <td>8.0</td>\n",
       "      <td>PIT</td>\n",
       "      <td>...</td>\n",
       "      <td>NaN</td>\n",
       "      <td>0.461217</td>\n",
       "      <td>0.538783</td>\n",
       "      <td>0.558929</td>\n",
       "      <td>0.441071</td>\n",
       "      <td>0.461217</td>\n",
       "      <td>0.097712</td>\n",
       "      <td>NaN</td>\n",
       "      <td>NaN</td>\n",
       "      <td>2009</td>\n",
       "    </tr>\n",
       "  </tbody>\n",
       "</table>\n",
       "<p>5 rows × 102 columns</p>\n",
       "</div>"
      ],
      "text/plain": [
       "         Date      GameID  Drive  qtr  down   time  TimeUnder  TimeSecs  \\\n",
       "0  2009-09-10  2009091000      1    1   NaN  15:00         15    3600.0   \n",
       "1  2009-09-10  2009091000      1    1   1.0  14:53         15    3593.0   \n",
       "2  2009-09-10  2009091000      1    1   2.0  14:16         15    3556.0   \n",
       "3  2009-09-10  2009091000      1    1   3.0  13:35         14    3515.0   \n",
       "4  2009-09-10  2009091000      1    1   4.0  13:27         14    3507.0   \n",
       "\n",
       "   PlayTimeDiff SideofField  ...    yacEPA  Home_WP_pre  Away_WP_pre  \\\n",
       "0           0.0         TEN  ...       NaN     0.485675     0.514325   \n",
       "1           7.0         PIT  ...  1.146076     0.546433     0.453567   \n",
       "2          37.0         PIT  ...       NaN     0.551088     0.448912   \n",
       "3          41.0         PIT  ... -5.031425     0.510793     0.489207   \n",
       "4           8.0         PIT  ...       NaN     0.461217     0.538783   \n",
       "\n",
       "   Home_WP_post  Away_WP_post  Win_Prob       WPA    airWPA    yacWPA  Season  \n",
       "0      0.546433      0.453567  0.485675  0.060758       NaN       NaN    2009  \n",
       "1      0.551088      0.448912  0.546433  0.004655 -0.032244  0.036899    2009  \n",
       "2      0.510793      0.489207  0.551088 -0.040295       NaN       NaN    2009  \n",
       "3      0.461217      0.538783  0.510793 -0.049576  0.106663 -0.156239    2009  \n",
       "4      0.558929      0.441071  0.461217  0.097712       NaN       NaN    2009  \n",
       "\n",
       "[5 rows x 102 columns]"
      ]
     },
     "execution_count": 2,
     "metadata": {},
     "output_type": "execute_result"
    }
   ],
   "source": [
    "# Xem năm dòng đầu tiên của tệp nfl_data.\n",
    "# Tôi có thể thấy một vài dữ liệu thiếu ngay lập tức!\n",
    "nfl_data.head()"
   ]
  },
  {
   "cell_type": "markdown",
   "id": "df5cdbd7",
   "metadata": {
    "papermill": {
     "duration": 0.005048,
     "end_time": "2023-04-20T18:09:18.881681",
     "exception": false,
     "start_time": "2023-04-20T18:09:18.876633",
     "status": "completed"
    },
    "tags": []
   },
   "source": [
    "Đúng vậy, có vẻ như có một số giá trị thiếu.\n",
    "\n",
    "## Chúng ta có bao nhiêu điểm dữ liệu thiếu?\n",
    "\n",
    "Ok, bây giờ chúng ta đã biết là có một số giá trị thiếu. Hãy cùng xem chúng ta có bao nhiêu giá trị thiếu trong mỗi cột.\n"
   ]
  },
  {
   "cell_type": "code",
   "execution_count": 3,
   "id": "9495a137",
   "metadata": {
    "execution": {
     "iopub.execute_input": "2023-04-20T18:09:18.894572Z",
     "iopub.status.busy": "2023-04-20T18:09:18.894029Z",
     "iopub.status.idle": "2023-04-20T18:09:19.586685Z",
     "shell.execute_reply": "2023-04-20T18:09:19.585359Z"
    },
    "papermill": {
     "duration": 0.702261,
     "end_time": "2023-04-20T18:09:19.589264",
     "exception": false,
     "start_time": "2023-04-20T18:09:18.887003",
     "status": "completed"
    },
    "tags": []
   },
   "outputs": [
    {
     "data": {
      "text/plain": [
       "Date                0\n",
       "GameID              0\n",
       "Drive               0\n",
       "qtr                 0\n",
       "down            61154\n",
       "time              224\n",
       "TimeUnder           0\n",
       "TimeSecs          224\n",
       "PlayTimeDiff      444\n",
       "SideofField       528\n",
       "dtype: int64"
      ]
     },
     "execution_count": 3,
     "metadata": {},
     "output_type": "execute_result"
    }
   ],
   "source": [
    "# Lấy số lượng điểm dữ liệu thiếu theo từng cột\n",
    "missing_values_count = nfl_data.isnull().sum()\n",
    "\n",
    "# Xem số lượng điểm dữ liệu thiếu trong mười cột đầu tiên\n",
    "missing_values_count[0:10]"
   ]
  },
  {
   "cell_type": "markdown",
   "id": "223da332",
   "metadata": {
    "papermill": {
     "duration": 0.005277,
     "end_time": "2023-04-20T18:09:19.600146",
     "exception": false,
     "start_time": "2023-04-20T18:09:19.594869",
     "status": "completed"
    },
    "tags": []
   },
   "source": [
    "Có vẻ như đó là một con số khá lớn! Sẽ rất hữu ích nếu chúng ta xem xét tỷ lệ phần trăm các giá trị bị thiếu trong bộ dữ liệu của mình để có cái nhìn rõ hơn về quy mô của vấn đề này:\n"
   ]
  },
  {
   "cell_type": "code",
   "execution_count": 4,
   "id": "ab1762e1",
   "metadata": {
    "execution": {
     "iopub.execute_input": "2023-04-20T18:09:19.613400Z",
     "iopub.status.busy": "2023-04-20T18:09:19.612986Z",
     "iopub.status.idle": "2023-04-20T18:09:19.619462Z",
     "shell.execute_reply": "2023-04-20T18:09:19.618483Z"
    },
    "papermill": {
     "duration": 0.016219,
     "end_time": "2023-04-20T18:09:19.621970",
     "exception": false,
     "start_time": "2023-04-20T18:09:19.605751",
     "status": "completed"
    },
    "tags": []
   },
   "outputs": [
    {
     "name": "stdout",
     "output_type": "stream",
     "text": [
      "27.66722370547874\n"
     ]
    }
   ],
   "source": [
    "# Tổng số giá trị thiếu là bao nhiêu?\n",
    "total_cells = np.product(nfl_data.shape)\n",
    "total_missing = missing_values_count.sum()\n",
    "\n",
    "# Tỷ lệ phần trăm dữ liệu bị thiếu\n",
    "percent_missing = (total_missing/total_cells) * 100\n",
    "print(percent_missing)"
   ]
  },
  {
   "cell_type": "markdown",
   "id": "4ab9dbc8",
   "metadata": {
    "papermill": {
     "duration": 0.005501,
     "end_time": "2023-04-20T18:09:19.633168",
     "exception": false,
     "start_time": "2023-04-20T18:09:19.627667",
     "status": "completed"
    },
    "tags": []
   },
   "source": [
    "Wow, gần một phần tư số ô trong bộ dữ liệu này là trống! Ở bước tiếp theo, chúng ta sẽ xem xét kỹ hơn một số cột có giá trị thiếu và cố gắng tìm hiểu xem có vấn đề gì với chúng.\n",
    "\n",
    "## Tìm hiểu lý do dữ liệu bị thiếu\n",
    "\n",
    "Đây là bước mà chúng ta sẽ đi vào phần khoa học dữ liệu mà tôi thích gọi là \"trực giác dữ liệu\", có nghĩa là \"thực sự nhìn vào dữ liệu của bạn và cố gắng tìm hiểu lý do tại sao nó lại như vậy và điều đó sẽ ảnh hưởng thế nào đến phân tích của bạn\". Đây có thể là một phần khá gây bực bội trong khoa học dữ liệu, đặc biệt là nếu bạn mới gia nhập lĩnh vực này và chưa có nhiều kinh nghiệm. Để xử lý các giá trị thiếu, bạn sẽ cần phải sử dụng trực giác của mình để tìm hiểu lý do tại sao giá trị đó bị thiếu. Một trong những câu hỏi quan trọng nhất bạn có thể tự hỏi để giúp tìm ra điều này là:\n",
    "\n",
    "> **Liệu giá trị này bị thiếu vì nó không được ghi lại hay vì nó không tồn tại?**\n",
    "\n",
    "Nếu giá trị bị thiếu vì nó không tồn tại (như chiều cao của đứa trẻ lớn nhất của một người không có con) thì sẽ không hợp lý khi cố gắng đoán giá trị đó có thể là gì. Những giá trị này bạn có thể muốn giữ lại là `NaN`. Ngược lại, nếu giá trị bị thiếu vì nó chưa được ghi lại, thì bạn có thể cố gắng đoán nó có thể là gì dựa trên các giá trị khác trong cột và hàng đó. Đây được gọi là **làm đầy dữ liệu (imputation)**, và chúng ta sẽ học cách làm điều đó trong bước tiếp theo! :)\n",
    "\n",
    "Hãy cùng làm một ví dụ. Nhìn vào số lượng giá trị thiếu trong dataframe `nfl_data`, tôi nhận thấy rằng cột \"TimesSec\" có rất nhiều giá trị thiếu:\n"
   ]
  },
  {
   "cell_type": "code",
   "execution_count": 5,
   "id": "6584eb00",
   "metadata": {
    "execution": {
     "iopub.execute_input": "2023-04-20T18:09:19.646600Z",
     "iopub.status.busy": "2023-04-20T18:09:19.646148Z",
     "iopub.status.idle": "2023-04-20T18:09:19.655474Z",
     "shell.execute_reply": "2023-04-20T18:09:19.654186Z"
    },
    "papermill": {
     "duration": 0.019087,
     "end_time": "2023-04-20T18:09:19.657885",
     "exception": false,
     "start_time": "2023-04-20T18:09:19.638798",
     "status": "completed"
    },
    "tags": []
   },
   "outputs": [
    {
     "data": {
      "text/plain": [
       "Date                0\n",
       "GameID              0\n",
       "Drive               0\n",
       "qtr                 0\n",
       "down            61154\n",
       "time              224\n",
       "TimeUnder           0\n",
       "TimeSecs          224\n",
       "PlayTimeDiff      444\n",
       "SideofField       528\n",
       "dtype: int64"
      ]
     },
     "execution_count": 5,
     "metadata": {},
     "output_type": "execute_result"
    }
   ],
   "source": [
    "# Xem số lượng điểm dữ liệu thiếu trong mười cột đầu tiên\n",
    "missing_values_count[0:10]"
   ]
  },
  {
   "cell_type": "markdown",
   "id": "fc3a648d",
   "metadata": {
    "papermill": {
     "duration": 0.005815,
     "end_time": "2023-04-20T18:09:19.669742",
     "exception": false,
     "start_time": "2023-04-20T18:09:19.663927",
     "status": "completed"
    },
    "tags": []
   },
   "source": [
    "Bằng cách xem qua [tài liệu](https://www.kaggle.com/maxhorowitz/nflplaybyplay2009to2016), tôi có thể thấy rằng cột này chứa thông tin về số giây còn lại trong trận đấu khi pha chơi được thực hiện. Điều này có nghĩa là các giá trị này có thể bị thiếu vì chúng không được ghi lại, thay vì vì chúng không tồn tại. Vì vậy, sẽ hợp lý hơn nếu chúng ta cố gắng đoán giá trị của chúng thay vì chỉ để chúng là NA.\n",
    "\n",
    "Mặt khác, có những trường khác, như \"PenalizedTeam\", cũng có rất nhiều giá trị thiếu. Tuy nhiên, trong trường hợp này, trường này bị thiếu vì nếu không có phạt, thì không hợp lý để nói *đội nào* bị phạt. Đối với cột này, sẽ hợp lý hơn nếu để trống hoặc thêm một giá trị thứ ba như \"neither\" và sử dụng nó để thay thế các giá trị NA.\n",
    "\n",
    "> **Mẹo:** Đây là một nơi tuyệt vời để đọc tài liệu bộ dữ liệu nếu bạn chưa làm vậy! Nếu bạn đang làm việc với bộ dữ liệu được lấy từ người khác, bạn cũng có thể thử liên hệ với họ để có thêm thông tin.\n",
    "\n",
    "Nếu bạn đang làm phân tích dữ liệu rất cẩn thận, đây là lúc bạn sẽ xem xét từng cột một để tìm ra chiến lược tốt nhất để điền các giá trị thiếu. Trong phần còn lại của notebook này, chúng ta sẽ đề cập đến một số kỹ thuật \"nhanh và bẩn\" có thể giúp bạn với các giá trị thiếu, nhưng có thể cũng sẽ loại bỏ một số thông tin hữu ích hoặc thêm một số nhiễu vào dữ liệu của bạn.\n",
    "\n",
    "## Loại bỏ giá trị thiếu\n",
    "\n",
    "Nếu bạn đang vội hoặc không có lý do để tìm hiểu tại sao giá trị của bạn bị thiếu, một lựa chọn bạn có là chỉ cần loại bỏ bất kỳ hàng hoặc cột nào chứa giá trị thiếu. (Lưu ý: Tôi không thường xuyên khuyến khích phương pháp này cho các dự án quan trọng! Thường thì việc dành thời gian để xem xét dữ liệu của bạn và thực sự nhìn vào tất cả các cột có giá trị thiếu một cách kỹ lưỡng sẽ đáng giá hơn.)\n",
    "\n",
    "Nếu bạn chắc chắn muốn loại bỏ các hàng có giá trị thiếu, pandas có một hàm tiện dụng, `dropna()`, để giúp bạn làm điều này. Hãy thử nó với bộ dữ liệu NFL của chúng ta!\n"
   ]
  },
  {
   "cell_type": "code",
   "execution_count": 6,
   "id": "b9959f96",
   "metadata": {
    "execution": {
     "iopub.execute_input": "2023-04-20T18:09:19.684594Z",
     "iopub.status.busy": "2023-04-20T18:09:19.684155Z",
     "iopub.status.idle": "2023-04-20T18:09:20.411117Z",
     "shell.execute_reply": "2023-04-20T18:09:20.409506Z"
    },
    "papermill": {
     "duration": 0.73851,
     "end_time": "2023-04-20T18:09:20.414122",
     "exception": false,
     "start_time": "2023-04-20T18:09:19.675612",
     "status": "completed"
    },
    "tags": []
   },
   "outputs": [
    {
     "data": {
      "text/html": [
       "<div>\n",
       "<style scoped>\n",
       "    .dataframe tbody tr th:only-of-type {\n",
       "        vertical-align: middle;\n",
       "    }\n",
       "\n",
       "    .dataframe tbody tr th {\n",
       "        vertical-align: top;\n",
       "    }\n",
       "\n",
       "    .dataframe thead th {\n",
       "        text-align: right;\n",
       "    }\n",
       "</style>\n",
       "<table border=\"1\" class=\"dataframe\">\n",
       "  <thead>\n",
       "    <tr style=\"text-align: right;\">\n",
       "      <th></th>\n",
       "      <th>Date</th>\n",
       "      <th>GameID</th>\n",
       "      <th>Drive</th>\n",
       "      <th>qtr</th>\n",
       "      <th>down</th>\n",
       "      <th>time</th>\n",
       "      <th>TimeUnder</th>\n",
       "      <th>TimeSecs</th>\n",
       "      <th>PlayTimeDiff</th>\n",
       "      <th>SideofField</th>\n",
       "      <th>...</th>\n",
       "      <th>yacEPA</th>\n",
       "      <th>Home_WP_pre</th>\n",
       "      <th>Away_WP_pre</th>\n",
       "      <th>Home_WP_post</th>\n",
       "      <th>Away_WP_post</th>\n",
       "      <th>Win_Prob</th>\n",
       "      <th>WPA</th>\n",
       "      <th>airWPA</th>\n",
       "      <th>yacWPA</th>\n",
       "      <th>Season</th>\n",
       "    </tr>\n",
       "  </thead>\n",
       "  <tbody>\n",
       "  </tbody>\n",
       "</table>\n",
       "<p>0 rows × 102 columns</p>\n",
       "</div>"
      ],
      "text/plain": [
       "Empty DataFrame\n",
       "Columns: [Date, GameID, Drive, qtr, down, time, TimeUnder, TimeSecs, PlayTimeDiff, SideofField, yrdln, yrdline100, ydstogo, ydsnet, GoalToGo, FirstDown, posteam, DefensiveTeam, desc, PlayAttempted, Yards.Gained, sp, Touchdown, ExPointResult, TwoPointConv, DefTwoPoint, Safety, Onsidekick, PuntResult, PlayType, Passer, Passer_ID, PassAttempt, PassOutcome, PassLength, AirYards, YardsAfterCatch, QBHit, PassLocation, InterceptionThrown, Interceptor, Rusher, Rusher_ID, RushAttempt, RunLocation, RunGap, Receiver, Receiver_ID, Reception, ReturnResult, Returner, BlockingPlayer, Tackler1, Tackler2, FieldGoalResult, FieldGoalDistance, Fumble, RecFumbTeam, RecFumbPlayer, Sack, Challenge.Replay, ChalReplayResult, Accepted.Penalty, PenalizedTeam, PenaltyType, PenalizedPlayer, Penalty.Yards, PosTeamScore, DefTeamScore, ScoreDiff, AbsScoreDiff, HomeTeam, AwayTeam, Timeout_Indicator, Timeout_Team, posteam_timeouts_pre, HomeTimeouts_Remaining_Pre, AwayTimeouts_Remaining_Pre, HomeTimeouts_Remaining_Post, AwayTimeouts_Remaining_Post, No_Score_Prob, Opp_Field_Goal_Prob, Opp_Safety_Prob, Opp_Touchdown_Prob, Field_Goal_Prob, Safety_Prob, Touchdown_Prob, ExPoint_Prob, TwoPoint_Prob, ExpPts, EPA, airEPA, yacEPA, Home_WP_pre, Away_WP_pre, Home_WP_post, Away_WP_post, Win_Prob, WPA, airWPA, ...]\n",
       "Index: []\n",
       "\n",
       "[0 rows x 102 columns]"
      ]
     },
     "execution_count": 6,
     "metadata": {},
     "output_type": "execute_result"
    }
   ],
   "source": [
    "# Loại bỏ tất cả các hàng chứa giá trị thiếu\n",
    "nfl_data.dropna()"
   ]
  },
  {
   "cell_type": "markdown",
   "id": "69219fc0",
   "metadata": {
    "papermill": {
     "duration": 0.006003,
     "end_time": "2023-04-20T18:09:20.426600",
     "exception": false,
     "start_time": "2023-04-20T18:09:20.420597",
     "status": "completed"
    },
    "tags": []
   },
   "source": [
    "Ôi không, có vẻ như điều đó đã xóa hết toàn bộ dữ liệu của chúng ta! 😱 Điều này xảy ra vì mỗi hàng trong bộ dữ liệu của chúng ta đều có ít nhất một giá trị thiếu. Có thể chúng ta sẽ gặp may hơn nếu loại bỏ tất cả các *cột* có ít nhất một giá trị thiếu thay vì loại bỏ các hàng.\n"
   ]
  },
  {
   "cell_type": "code",
   "execution_count": 7,
   "id": "861b0b50",
   "metadata": {
    "execution": {
     "iopub.execute_input": "2023-04-20T18:09:20.440801Z",
     "iopub.status.busy": "2023-04-20T18:09:20.440385Z",
     "iopub.status.idle": "2023-04-20T18:09:21.212664Z",
     "shell.execute_reply": "2023-04-20T18:09:21.211143Z"
    },
    "papermill": {
     "duration": 0.78309,
     "end_time": "2023-04-20T18:09:21.215825",
     "exception": false,
     "start_time": "2023-04-20T18:09:20.432735",
     "status": "completed"
    },
    "tags": []
   },
   "outputs": [
    {
     "data": {
      "text/html": [
       "<div>\n",
       "<style scoped>\n",
       "    .dataframe tbody tr th:only-of-type {\n",
       "        vertical-align: middle;\n",
       "    }\n",
       "\n",
       "    .dataframe tbody tr th {\n",
       "        vertical-align: top;\n",
       "    }\n",
       "\n",
       "    .dataframe thead th {\n",
       "        text-align: right;\n",
       "    }\n",
       "</style>\n",
       "<table border=\"1\" class=\"dataframe\">\n",
       "  <thead>\n",
       "    <tr style=\"text-align: right;\">\n",
       "      <th></th>\n",
       "      <th>Date</th>\n",
       "      <th>GameID</th>\n",
       "      <th>Drive</th>\n",
       "      <th>qtr</th>\n",
       "      <th>TimeUnder</th>\n",
       "      <th>ydstogo</th>\n",
       "      <th>ydsnet</th>\n",
       "      <th>PlayAttempted</th>\n",
       "      <th>Yards.Gained</th>\n",
       "      <th>sp</th>\n",
       "      <th>...</th>\n",
       "      <th>AwayTeam</th>\n",
       "      <th>Timeout_Indicator</th>\n",
       "      <th>posteam_timeouts_pre</th>\n",
       "      <th>HomeTimeouts_Remaining_Pre</th>\n",
       "      <th>AwayTimeouts_Remaining_Pre</th>\n",
       "      <th>HomeTimeouts_Remaining_Post</th>\n",
       "      <th>AwayTimeouts_Remaining_Post</th>\n",
       "      <th>ExPoint_Prob</th>\n",
       "      <th>TwoPoint_Prob</th>\n",
       "      <th>Season</th>\n",
       "    </tr>\n",
       "  </thead>\n",
       "  <tbody>\n",
       "    <tr>\n",
       "      <th>0</th>\n",
       "      <td>2009-09-10</td>\n",
       "      <td>2009091000</td>\n",
       "      <td>1</td>\n",
       "      <td>1</td>\n",
       "      <td>15</td>\n",
       "      <td>0</td>\n",
       "      <td>0</td>\n",
       "      <td>1</td>\n",
       "      <td>39</td>\n",
       "      <td>0</td>\n",
       "      <td>...</td>\n",
       "      <td>TEN</td>\n",
       "      <td>0</td>\n",
       "      <td>3</td>\n",
       "      <td>3</td>\n",
       "      <td>3</td>\n",
       "      <td>3</td>\n",
       "      <td>3</td>\n",
       "      <td>0.0</td>\n",
       "      <td>0.0</td>\n",
       "      <td>2009</td>\n",
       "    </tr>\n",
       "    <tr>\n",
       "      <th>1</th>\n",
       "      <td>2009-09-10</td>\n",
       "      <td>2009091000</td>\n",
       "      <td>1</td>\n",
       "      <td>1</td>\n",
       "      <td>15</td>\n",
       "      <td>10</td>\n",
       "      <td>5</td>\n",
       "      <td>1</td>\n",
       "      <td>5</td>\n",
       "      <td>0</td>\n",
       "      <td>...</td>\n",
       "      <td>TEN</td>\n",
       "      <td>0</td>\n",
       "      <td>3</td>\n",
       "      <td>3</td>\n",
       "      <td>3</td>\n",
       "      <td>3</td>\n",
       "      <td>3</td>\n",
       "      <td>0.0</td>\n",
       "      <td>0.0</td>\n",
       "      <td>2009</td>\n",
       "    </tr>\n",
       "    <tr>\n",
       "      <th>2</th>\n",
       "      <td>2009-09-10</td>\n",
       "      <td>2009091000</td>\n",
       "      <td>1</td>\n",
       "      <td>1</td>\n",
       "      <td>15</td>\n",
       "      <td>5</td>\n",
       "      <td>2</td>\n",
       "      <td>1</td>\n",
       "      <td>-3</td>\n",
       "      <td>0</td>\n",
       "      <td>...</td>\n",
       "      <td>TEN</td>\n",
       "      <td>0</td>\n",
       "      <td>3</td>\n",
       "      <td>3</td>\n",
       "      <td>3</td>\n",
       "      <td>3</td>\n",
       "      <td>3</td>\n",
       "      <td>0.0</td>\n",
       "      <td>0.0</td>\n",
       "      <td>2009</td>\n",
       "    </tr>\n",
       "    <tr>\n",
       "      <th>3</th>\n",
       "      <td>2009-09-10</td>\n",
       "      <td>2009091000</td>\n",
       "      <td>1</td>\n",
       "      <td>1</td>\n",
       "      <td>14</td>\n",
       "      <td>8</td>\n",
       "      <td>2</td>\n",
       "      <td>1</td>\n",
       "      <td>0</td>\n",
       "      <td>0</td>\n",
       "      <td>...</td>\n",
       "      <td>TEN</td>\n",
       "      <td>0</td>\n",
       "      <td>3</td>\n",
       "      <td>3</td>\n",
       "      <td>3</td>\n",
       "      <td>3</td>\n",
       "      <td>3</td>\n",
       "      <td>0.0</td>\n",
       "      <td>0.0</td>\n",
       "      <td>2009</td>\n",
       "    </tr>\n",
       "    <tr>\n",
       "      <th>4</th>\n",
       "      <td>2009-09-10</td>\n",
       "      <td>2009091000</td>\n",
       "      <td>1</td>\n",
       "      <td>1</td>\n",
       "      <td>14</td>\n",
       "      <td>8</td>\n",
       "      <td>2</td>\n",
       "      <td>1</td>\n",
       "      <td>0</td>\n",
       "      <td>0</td>\n",
       "      <td>...</td>\n",
       "      <td>TEN</td>\n",
       "      <td>0</td>\n",
       "      <td>3</td>\n",
       "      <td>3</td>\n",
       "      <td>3</td>\n",
       "      <td>3</td>\n",
       "      <td>3</td>\n",
       "      <td>0.0</td>\n",
       "      <td>0.0</td>\n",
       "      <td>2009</td>\n",
       "    </tr>\n",
       "  </tbody>\n",
       "</table>\n",
       "<p>5 rows × 37 columns</p>\n",
       "</div>"
      ],
      "text/plain": [
       "         Date      GameID  Drive  qtr  TimeUnder  ydstogo  ydsnet  \\\n",
       "0  2009-09-10  2009091000      1    1         15        0       0   \n",
       "1  2009-09-10  2009091000      1    1         15       10       5   \n",
       "2  2009-09-10  2009091000      1    1         15        5       2   \n",
       "3  2009-09-10  2009091000      1    1         14        8       2   \n",
       "4  2009-09-10  2009091000      1    1         14        8       2   \n",
       "\n",
       "   PlayAttempted  Yards.Gained  sp  ...  AwayTeam  Timeout_Indicator  \\\n",
       "0              1            39   0  ...       TEN                  0   \n",
       "1              1             5   0  ...       TEN                  0   \n",
       "2              1            -3   0  ...       TEN                  0   \n",
       "3              1             0   0  ...       TEN                  0   \n",
       "4              1             0   0  ...       TEN                  0   \n",
       "\n",
       "   posteam_timeouts_pre HomeTimeouts_Remaining_Pre  \\\n",
       "0                     3                          3   \n",
       "1                     3                          3   \n",
       "2                     3                          3   \n",
       "3                     3                          3   \n",
       "4                     3                          3   \n",
       "\n",
       "   AwayTimeouts_Remaining_Pre  HomeTimeouts_Remaining_Post  \\\n",
       "0                           3                            3   \n",
       "1                           3                            3   \n",
       "2                           3                            3   \n",
       "3                           3                            3   \n",
       "4                           3                            3   \n",
       "\n",
       "   AwayTimeouts_Remaining_Post  ExPoint_Prob  TwoPoint_Prob  Season  \n",
       "0                            3           0.0            0.0    2009  \n",
       "1                            3           0.0            0.0    2009  \n",
       "2                            3           0.0            0.0    2009  \n",
       "3                            3           0.0            0.0    2009  \n",
       "4                            3           0.0            0.0    2009  \n",
       "\n",
       "[5 rows x 37 columns]"
      ]
     },
     "execution_count": 7,
     "metadata": {},
     "output_type": "execute_result"
    }
   ],
   "source": [
    "# Loại bỏ tất cả các cột có ít nhất một giá trị thiếu\n",
    "columns_with_na_dropped = nfl_data.dropna(axis=1)\n",
    "columns_with_na_dropped.head()"
   ]
  },
  {
   "cell_type": "code",
   "execution_count": 8,
   "id": "93c1c038",
   "metadata": {
    "execution": {
     "iopub.execute_input": "2023-04-20T18:09:21.231107Z",
     "iopub.status.busy": "2023-04-20T18:09:21.230671Z",
     "iopub.status.idle": "2023-04-20T18:09:21.236677Z",
     "shell.execute_reply": "2023-04-20T18:09:21.235659Z"
    },
    "papermill": {
     "duration": 0.016719,
     "end_time": "2023-04-20T18:09:21.239377",
     "exception": false,
     "start_time": "2023-04-20T18:09:21.222658",
     "status": "completed"
    },
    "tags": []
   },
   "outputs": [
    {
     "name": "stdout",
     "output_type": "stream",
     "text": [
      "Columns in original dataset: 102 \n",
      "\n",
      "Columns with na's dropped: 37\n"
     ]
    }
   ],
   "source": [
    "# Chúng ta đã mất bao nhiêu dữ liệu?\n",
    "print(\"Columns in original dataset: %d \\n\" % nfl_data.shape[1])\n",
    "print(\"Columns with na's dropped: %d\" % columns_with_na_dropped.shape[1])"
   ]
  },
  {
   "cell_type": "markdown",
   "id": "4741945e",
   "metadata": {
    "papermill": {
     "duration": 0.006425,
     "end_time": "2023-04-20T18:09:21.252538",
     "exception": false,
     "start_time": "2023-04-20T18:09:21.246113",
     "status": "completed"
    },
    "tags": []
   },
   "source": [
    "Chúng ta đã mất khá nhiều dữ liệu, nhưng ở thời điểm này, chúng ta đã thành công trong việc loại bỏ tất cả các giá trị `NaN` khỏi dữ liệu của mình.\n",
    "\n",
    "## Điền giá trị thiếu tự động\n",
    "\n",
    "Một lựa chọn khác là cố gắng điền các giá trị thiếu. Đối với phần tiếp theo, tôi sẽ lấy một phần nhỏ của dữ liệu NFL để nó có thể in ra dễ dàng hơn.\n"
   ]
  },
  {
   "cell_type": "code",
   "execution_count": 9,
   "id": "a62c21cf",
   "metadata": {
    "execution": {
     "iopub.execute_input": "2023-04-20T18:09:21.269533Z",
     "iopub.status.busy": "2023-04-20T18:09:21.269064Z",
     "iopub.status.idle": "2023-04-20T18:09:21.305444Z",
     "shell.execute_reply": "2023-04-20T18:09:21.304422Z"
    },
    "papermill": {
     "duration": 0.047003,
     "end_time": "2023-04-20T18:09:21.307900",
     "exception": false,
     "start_time": "2023-04-20T18:09:21.260897",
     "status": "completed"
    },
    "tags": []
   },
   "outputs": [
    {
     "data": {
      "text/html": [
       "<div>\n",
       "<style scoped>\n",
       "    .dataframe tbody tr th:only-of-type {\n",
       "        vertical-align: middle;\n",
       "    }\n",
       "\n",
       "    .dataframe tbody tr th {\n",
       "        vertical-align: top;\n",
       "    }\n",
       "\n",
       "    .dataframe thead th {\n",
       "        text-align: right;\n",
       "    }\n",
       "</style>\n",
       "<table border=\"1\" class=\"dataframe\">\n",
       "  <thead>\n",
       "    <tr style=\"text-align: right;\">\n",
       "      <th></th>\n",
       "      <th>EPA</th>\n",
       "      <th>airEPA</th>\n",
       "      <th>yacEPA</th>\n",
       "      <th>Home_WP_pre</th>\n",
       "      <th>Away_WP_pre</th>\n",
       "      <th>Home_WP_post</th>\n",
       "      <th>Away_WP_post</th>\n",
       "      <th>Win_Prob</th>\n",
       "      <th>WPA</th>\n",
       "      <th>airWPA</th>\n",
       "      <th>yacWPA</th>\n",
       "      <th>Season</th>\n",
       "    </tr>\n",
       "  </thead>\n",
       "  <tbody>\n",
       "    <tr>\n",
       "      <th>0</th>\n",
       "      <td>2.014474</td>\n",
       "      <td>NaN</td>\n",
       "      <td>NaN</td>\n",
       "      <td>0.485675</td>\n",
       "      <td>0.514325</td>\n",
       "      <td>0.546433</td>\n",
       "      <td>0.453567</td>\n",
       "      <td>0.485675</td>\n",
       "      <td>0.060758</td>\n",
       "      <td>NaN</td>\n",
       "      <td>NaN</td>\n",
       "      <td>2009</td>\n",
       "    </tr>\n",
       "    <tr>\n",
       "      <th>1</th>\n",
       "      <td>0.077907</td>\n",
       "      <td>-1.068169</td>\n",
       "      <td>1.146076</td>\n",
       "      <td>0.546433</td>\n",
       "      <td>0.453567</td>\n",
       "      <td>0.551088</td>\n",
       "      <td>0.448912</td>\n",
       "      <td>0.546433</td>\n",
       "      <td>0.004655</td>\n",
       "      <td>-0.032244</td>\n",
       "      <td>0.036899</td>\n",
       "      <td>2009</td>\n",
       "    </tr>\n",
       "    <tr>\n",
       "      <th>2</th>\n",
       "      <td>-1.402760</td>\n",
       "      <td>NaN</td>\n",
       "      <td>NaN</td>\n",
       "      <td>0.551088</td>\n",
       "      <td>0.448912</td>\n",
       "      <td>0.510793</td>\n",
       "      <td>0.489207</td>\n",
       "      <td>0.551088</td>\n",
       "      <td>-0.040295</td>\n",
       "      <td>NaN</td>\n",
       "      <td>NaN</td>\n",
       "      <td>2009</td>\n",
       "    </tr>\n",
       "    <tr>\n",
       "      <th>3</th>\n",
       "      <td>-1.712583</td>\n",
       "      <td>3.318841</td>\n",
       "      <td>-5.031425</td>\n",
       "      <td>0.510793</td>\n",
       "      <td>0.489207</td>\n",
       "      <td>0.461217</td>\n",
       "      <td>0.538783</td>\n",
       "      <td>0.510793</td>\n",
       "      <td>-0.049576</td>\n",
       "      <td>0.106663</td>\n",
       "      <td>-0.156239</td>\n",
       "      <td>2009</td>\n",
       "    </tr>\n",
       "    <tr>\n",
       "      <th>4</th>\n",
       "      <td>2.097796</td>\n",
       "      <td>NaN</td>\n",
       "      <td>NaN</td>\n",
       "      <td>0.461217</td>\n",
       "      <td>0.538783</td>\n",
       "      <td>0.558929</td>\n",
       "      <td>0.441071</td>\n",
       "      <td>0.461217</td>\n",
       "      <td>0.097712</td>\n",
       "      <td>NaN</td>\n",
       "      <td>NaN</td>\n",
       "      <td>2009</td>\n",
       "    </tr>\n",
       "  </tbody>\n",
       "</table>\n",
       "</div>"
      ],
      "text/plain": [
       "        EPA    airEPA    yacEPA  Home_WP_pre  Away_WP_pre  Home_WP_post  \\\n",
       "0  2.014474       NaN       NaN     0.485675     0.514325      0.546433   \n",
       "1  0.077907 -1.068169  1.146076     0.546433     0.453567      0.551088   \n",
       "2 -1.402760       NaN       NaN     0.551088     0.448912      0.510793   \n",
       "3 -1.712583  3.318841 -5.031425     0.510793     0.489207      0.461217   \n",
       "4  2.097796       NaN       NaN     0.461217     0.538783      0.558929   \n",
       "\n",
       "   Away_WP_post  Win_Prob       WPA    airWPA    yacWPA  Season  \n",
       "0      0.453567  0.485675  0.060758       NaN       NaN    2009  \n",
       "1      0.448912  0.546433  0.004655 -0.032244  0.036899    2009  \n",
       "2      0.489207  0.551088 -0.040295       NaN       NaN    2009  \n",
       "3      0.538783  0.510793 -0.049576  0.106663 -0.156239    2009  \n",
       "4      0.441071  0.461217  0.097712       NaN       NaN    2009  "
      ]
     },
     "execution_count": 9,
     "metadata": {},
     "output_type": "execute_result"
    }
   ],
   "source": [
    "# Lấy một phần nhỏ của bộ dữ liệu NFL\n",
    "subset_nfl_data = nfl_data.loc[:, 'EPA':'Season'].head()\n",
    "subset_nfl_data"
   ]
  },
  {
   "cell_type": "markdown",
   "id": "bb7ef9d8",
   "metadata": {
    "papermill": {
     "duration": 0.006699,
     "end_time": "2023-04-20T18:09:21.321804",
     "exception": false,
     "start_time": "2023-04-20T18:09:21.315105",
     "status": "completed"
    },
    "tags": []
   },
   "source": [
    "Chúng ta có thể sử dụng hàm `fillna()` của Panda để điền giá trị thiếu trong một dataframe. Một lựa chọn chúng ta có là chỉ định giá trị mà chúng ta muốn thay thế các giá trị `NaN`. Ở đây, tôi đang nói rằng tôi muốn thay thế tất cả các giá trị `NaN` bằng 0.\n"
   ]
  },
  {
   "cell_type": "code",
   "execution_count": 10,
   "id": "2c760d98",
   "metadata": {
    "execution": {
     "iopub.execute_input": "2023-04-20T18:09:21.337895Z",
     "iopub.status.busy": "2023-04-20T18:09:21.337487Z",
     "iopub.status.idle": "2023-04-20T18:09:21.356799Z",
     "shell.execute_reply": "2023-04-20T18:09:21.355212Z"
    },
    "papermill": {
     "duration": 0.030768,
     "end_time": "2023-04-20T18:09:21.359488",
     "exception": false,
     "start_time": "2023-04-20T18:09:21.328720",
     "status": "completed"
    },
    "tags": []
   },
   "outputs": [
    {
     "data": {
      "text/html": [
       "<div>\n",
       "<style scoped>\n",
       "    .dataframe tbody tr th:only-of-type {\n",
       "        vertical-align: middle;\n",
       "    }\n",
       "\n",
       "    .dataframe tbody tr th {\n",
       "        vertical-align: top;\n",
       "    }\n",
       "\n",
       "    .dataframe thead th {\n",
       "        text-align: right;\n",
       "    }\n",
       "</style>\n",
       "<table border=\"1\" class=\"dataframe\">\n",
       "  <thead>\n",
       "    <tr style=\"text-align: right;\">\n",
       "      <th></th>\n",
       "      <th>EPA</th>\n",
       "      <th>airEPA</th>\n",
       "      <th>yacEPA</th>\n",
       "      <th>Home_WP_pre</th>\n",
       "      <th>Away_WP_pre</th>\n",
       "      <th>Home_WP_post</th>\n",
       "      <th>Away_WP_post</th>\n",
       "      <th>Win_Prob</th>\n",
       "      <th>WPA</th>\n",
       "      <th>airWPA</th>\n",
       "      <th>yacWPA</th>\n",
       "      <th>Season</th>\n",
       "    </tr>\n",
       "  </thead>\n",
       "  <tbody>\n",
       "    <tr>\n",
       "      <th>0</th>\n",
       "      <td>2.014474</td>\n",
       "      <td>0.000000</td>\n",
       "      <td>0.000000</td>\n",
       "      <td>0.485675</td>\n",
       "      <td>0.514325</td>\n",
       "      <td>0.546433</td>\n",
       "      <td>0.453567</td>\n",
       "      <td>0.485675</td>\n",
       "      <td>0.060758</td>\n",
       "      <td>0.000000</td>\n",
       "      <td>0.000000</td>\n",
       "      <td>2009</td>\n",
       "    </tr>\n",
       "    <tr>\n",
       "      <th>1</th>\n",
       "      <td>0.077907</td>\n",
       "      <td>-1.068169</td>\n",
       "      <td>1.146076</td>\n",
       "      <td>0.546433</td>\n",
       "      <td>0.453567</td>\n",
       "      <td>0.551088</td>\n",
       "      <td>0.448912</td>\n",
       "      <td>0.546433</td>\n",
       "      <td>0.004655</td>\n",
       "      <td>-0.032244</td>\n",
       "      <td>0.036899</td>\n",
       "      <td>2009</td>\n",
       "    </tr>\n",
       "    <tr>\n",
       "      <th>2</th>\n",
       "      <td>-1.402760</td>\n",
       "      <td>0.000000</td>\n",
       "      <td>0.000000</td>\n",
       "      <td>0.551088</td>\n",
       "      <td>0.448912</td>\n",
       "      <td>0.510793</td>\n",
       "      <td>0.489207</td>\n",
       "      <td>0.551088</td>\n",
       "      <td>-0.040295</td>\n",
       "      <td>0.000000</td>\n",
       "      <td>0.000000</td>\n",
       "      <td>2009</td>\n",
       "    </tr>\n",
       "    <tr>\n",
       "      <th>3</th>\n",
       "      <td>-1.712583</td>\n",
       "      <td>3.318841</td>\n",
       "      <td>-5.031425</td>\n",
       "      <td>0.510793</td>\n",
       "      <td>0.489207</td>\n",
       "      <td>0.461217</td>\n",
       "      <td>0.538783</td>\n",
       "      <td>0.510793</td>\n",
       "      <td>-0.049576</td>\n",
       "      <td>0.106663</td>\n",
       "      <td>-0.156239</td>\n",
       "      <td>2009</td>\n",
       "    </tr>\n",
       "    <tr>\n",
       "      <th>4</th>\n",
       "      <td>2.097796</td>\n",
       "      <td>0.000000</td>\n",
       "      <td>0.000000</td>\n",
       "      <td>0.461217</td>\n",
       "      <td>0.538783</td>\n",
       "      <td>0.558929</td>\n",
       "      <td>0.441071</td>\n",
       "      <td>0.461217</td>\n",
       "      <td>0.097712</td>\n",
       "      <td>0.000000</td>\n",
       "      <td>0.000000</td>\n",
       "      <td>2009</td>\n",
       "    </tr>\n",
       "  </tbody>\n",
       "</table>\n",
       "</div>"
      ],
      "text/plain": [
       "        EPA    airEPA    yacEPA  Home_WP_pre  Away_WP_pre  Home_WP_post  \\\n",
       "0  2.014474  0.000000  0.000000     0.485675     0.514325      0.546433   \n",
       "1  0.077907 -1.068169  1.146076     0.546433     0.453567      0.551088   \n",
       "2 -1.402760  0.000000  0.000000     0.551088     0.448912      0.510793   \n",
       "3 -1.712583  3.318841 -5.031425     0.510793     0.489207      0.461217   \n",
       "4  2.097796  0.000000  0.000000     0.461217     0.538783      0.558929   \n",
       "\n",
       "   Away_WP_post  Win_Prob       WPA    airWPA    yacWPA  Season  \n",
       "0      0.453567  0.485675  0.060758  0.000000  0.000000    2009  \n",
       "1      0.448912  0.546433  0.004655 -0.032244  0.036899    2009  \n",
       "2      0.489207  0.551088 -0.040295  0.000000  0.000000    2009  \n",
       "3      0.538783  0.510793 -0.049576  0.106663 -0.156239    2009  \n",
       "4      0.441071  0.461217  0.097712  0.000000  0.000000    2009  "
      ]
     },
     "execution_count": 10,
     "metadata": {},
     "output_type": "execute_result"
    }
   ],
   "source": [
    "# Thay thế tất cả các giá trị NA bằng 0\n",
    "subset_nfl_data.fillna(0)"
   ]
  },
  {
   "cell_type": "markdown",
   "id": "ce338040",
   "metadata": {
    "papermill": {
     "duration": 0.006921,
     "end_time": "2023-04-20T18:09:21.373994",
     "exception": false,
     "start_time": "2023-04-20T18:09:21.367073",
     "status": "completed"
    },
    "tags": []
   },
   "source": [
    "Tôi cũng có thể thông minh hơn một chút và thay thế các giá trị thiếu bằng bất kỳ giá trị nào ngay sau đó trong cùng một cột. (Điều này rất hợp lý đối với các bộ dữ liệu mà các quan sát có một thứ tự logic nhất định.)\n"
   ]
  },
  {
   "cell_type": "code",
   "execution_count": 11,
   "id": "122d056d",
   "metadata": {
    "execution": {
     "iopub.execute_input": "2023-04-20T18:09:21.391239Z",
     "iopub.status.busy": "2023-04-20T18:09:21.390781Z",
     "iopub.status.idle": "2023-04-20T18:09:21.414503Z",
     "shell.execute_reply": "2023-04-20T18:09:21.413136Z"
    },
    "papermill": {
     "duration": 0.035727,
     "end_time": "2023-04-20T18:09:21.417467",
     "exception": false,
     "start_time": "2023-04-20T18:09:21.381740",
     "status": "completed"
    },
    "tags": []
   },
   "outputs": [
    {
     "name": "stderr",
     "output_type": "stream",
     "text": [
      "C:\\Users\\minh PC\\AppData\\Local\\Temp\\ipykernel_4708\\791205422.py:3: FutureWarning: DataFrame.fillna with 'method' is deprecated and will raise in a future version. Use obj.ffill() or obj.bfill() instead.\n",
      "  subset_nfl_data.fillna(method='bfill', axis=0).fillna(0)\n"
     ]
    },
    {
     "data": {
      "text/html": [
       "<div>\n",
       "<style scoped>\n",
       "    .dataframe tbody tr th:only-of-type {\n",
       "        vertical-align: middle;\n",
       "    }\n",
       "\n",
       "    .dataframe tbody tr th {\n",
       "        vertical-align: top;\n",
       "    }\n",
       "\n",
       "    .dataframe thead th {\n",
       "        text-align: right;\n",
       "    }\n",
       "</style>\n",
       "<table border=\"1\" class=\"dataframe\">\n",
       "  <thead>\n",
       "    <tr style=\"text-align: right;\">\n",
       "      <th></th>\n",
       "      <th>EPA</th>\n",
       "      <th>airEPA</th>\n",
       "      <th>yacEPA</th>\n",
       "      <th>Home_WP_pre</th>\n",
       "      <th>Away_WP_pre</th>\n",
       "      <th>Home_WP_post</th>\n",
       "      <th>Away_WP_post</th>\n",
       "      <th>Win_Prob</th>\n",
       "      <th>WPA</th>\n",
       "      <th>airWPA</th>\n",
       "      <th>yacWPA</th>\n",
       "      <th>Season</th>\n",
       "    </tr>\n",
       "  </thead>\n",
       "  <tbody>\n",
       "    <tr>\n",
       "      <th>0</th>\n",
       "      <td>2.014474</td>\n",
       "      <td>-1.068169</td>\n",
       "      <td>1.146076</td>\n",
       "      <td>0.485675</td>\n",
       "      <td>0.514325</td>\n",
       "      <td>0.546433</td>\n",
       "      <td>0.453567</td>\n",
       "      <td>0.485675</td>\n",
       "      <td>0.060758</td>\n",
       "      <td>-0.032244</td>\n",
       "      <td>0.036899</td>\n",
       "      <td>2009</td>\n",
       "    </tr>\n",
       "    <tr>\n",
       "      <th>1</th>\n",
       "      <td>0.077907</td>\n",
       "      <td>-1.068169</td>\n",
       "      <td>1.146076</td>\n",
       "      <td>0.546433</td>\n",
       "      <td>0.453567</td>\n",
       "      <td>0.551088</td>\n",
       "      <td>0.448912</td>\n",
       "      <td>0.546433</td>\n",
       "      <td>0.004655</td>\n",
       "      <td>-0.032244</td>\n",
       "      <td>0.036899</td>\n",
       "      <td>2009</td>\n",
       "    </tr>\n",
       "    <tr>\n",
       "      <th>2</th>\n",
       "      <td>-1.402760</td>\n",
       "      <td>3.318841</td>\n",
       "      <td>-5.031425</td>\n",
       "      <td>0.551088</td>\n",
       "      <td>0.448912</td>\n",
       "      <td>0.510793</td>\n",
       "      <td>0.489207</td>\n",
       "      <td>0.551088</td>\n",
       "      <td>-0.040295</td>\n",
       "      <td>0.106663</td>\n",
       "      <td>-0.156239</td>\n",
       "      <td>2009</td>\n",
       "    </tr>\n",
       "    <tr>\n",
       "      <th>3</th>\n",
       "      <td>-1.712583</td>\n",
       "      <td>3.318841</td>\n",
       "      <td>-5.031425</td>\n",
       "      <td>0.510793</td>\n",
       "      <td>0.489207</td>\n",
       "      <td>0.461217</td>\n",
       "      <td>0.538783</td>\n",
       "      <td>0.510793</td>\n",
       "      <td>-0.049576</td>\n",
       "      <td>0.106663</td>\n",
       "      <td>-0.156239</td>\n",
       "      <td>2009</td>\n",
       "    </tr>\n",
       "    <tr>\n",
       "      <th>4</th>\n",
       "      <td>2.097796</td>\n",
       "      <td>0.000000</td>\n",
       "      <td>0.000000</td>\n",
       "      <td>0.461217</td>\n",
       "      <td>0.538783</td>\n",
       "      <td>0.558929</td>\n",
       "      <td>0.441071</td>\n",
       "      <td>0.461217</td>\n",
       "      <td>0.097712</td>\n",
       "      <td>0.000000</td>\n",
       "      <td>0.000000</td>\n",
       "      <td>2009</td>\n",
       "    </tr>\n",
       "  </tbody>\n",
       "</table>\n",
       "</div>"
      ],
      "text/plain": [
       "        EPA    airEPA    yacEPA  Home_WP_pre  Away_WP_pre  Home_WP_post  \\\n",
       "0  2.014474 -1.068169  1.146076     0.485675     0.514325      0.546433   \n",
       "1  0.077907 -1.068169  1.146076     0.546433     0.453567      0.551088   \n",
       "2 -1.402760  3.318841 -5.031425     0.551088     0.448912      0.510793   \n",
       "3 -1.712583  3.318841 -5.031425     0.510793     0.489207      0.461217   \n",
       "4  2.097796  0.000000  0.000000     0.461217     0.538783      0.558929   \n",
       "\n",
       "   Away_WP_post  Win_Prob       WPA    airWPA    yacWPA  Season  \n",
       "0      0.453567  0.485675  0.060758 -0.032244  0.036899    2009  \n",
       "1      0.448912  0.546433  0.004655 -0.032244  0.036899    2009  \n",
       "2      0.489207  0.551088 -0.040295  0.106663 -0.156239    2009  \n",
       "3      0.538783  0.510793 -0.049576  0.106663 -0.156239    2009  \n",
       "4      0.441071  0.461217  0.097712  0.000000  0.000000    2009  "
      ]
     },
     "execution_count": 11,
     "metadata": {},
     "output_type": "execute_result"
    }
   ],
   "source": [
    "# Thay thế tất cả các giá trị NA bằng giá trị ngay sau đó trong cùng một cột,\n",
    "# sau đó thay thế tất cả các giá trị NA còn lại bằng 0\n",
    "subset_nfl_data.fillna(method='bfill', axis=0).fillna(0)"
   ]
  },
  {
   "cell_type": "markdown",
   "id": "6b04b2e1",
   "metadata": {
    "papermill": {
     "duration": 0.007393,
     "end_time": "2023-04-20T18:09:21.432813",
     "exception": false,
     "start_time": "2023-04-20T18:09:21.425420",
     "status": "completed"
    },
    "tags": []
   },
   "source": [
    "## Your turn\n",
    "\n",
    "Write your own code to [**deal with missing values**](https://www.kaggle.com/kernels/fork/10824396) in a dataset of building permits issued in San Francisco."
   ]
  },
  {
   "cell_type": "markdown",
   "id": "4c630081",
   "metadata": {
    "papermill": {
     "duration": 0.007191,
     "end_time": "2023-04-20T18:09:21.447735",
     "exception": false,
     "start_time": "2023-04-20T18:09:21.440544",
     "status": "completed"
    },
    "tags": []
   },
   "source": [
    "---\n",
    "\n",
    "\n",
    "\n",
    "\n",
    "*Have questions or comments? Visit the [course discussion forum](https://www.kaggle.com/learn/data-cleaning/discussion) to chat with other learners.*"
   ]
  }
 ],
 "metadata": {
  "kernelspec": {
   "display_name": "Python 3",
   "language": "python",
   "name": "python3"
  },
  "language_info": {
   "codemirror_mode": {
    "name": "ipython",
    "version": 3
   },
   "file_extension": ".py",
   "mimetype": "text/x-python",
   "name": "python",
   "nbconvert_exporter": "python",
   "pygments_lexer": "ipython3",
   "version": "3.11.9"
  },
  "papermill": {
   "default_parameters": {},
   "duration": 28.038794,
   "end_time": "2023-04-20T18:09:21.777577",
   "environment_variables": {},
   "exception": null,
   "input_path": "__notebook__.ipynb",
   "output_path": "__notebook__.ipynb",
   "parameters": {},
   "start_time": "2023-04-20T18:08:53.738783",
   "version": "2.4.0"
  }
 },
 "nbformat": 4,
 "nbformat_minor": 5
}
