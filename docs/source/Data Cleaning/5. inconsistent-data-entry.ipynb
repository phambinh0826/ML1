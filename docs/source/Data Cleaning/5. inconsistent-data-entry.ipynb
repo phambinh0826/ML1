{
 "cells": [
  {
   "cell_type": "markdown",
   "id": "1db13514",
   "metadata": {
    "papermill": {
     "duration": 0.005938,
     "end_time": "2023-04-20T18:08:56.027275",
     "exception": false,
     "start_time": "2023-04-20T18:08:56.021337",
     "status": "completed"
    },
    "tags": []
   },
   "source": [
    "# Lecture 5 - Inconsistent Data Entry\n",
    "\n",
    "Sửa lỗi chính tả một cách hiệu quả trong dữ liệu của bạn.\n",
    "\n",
    "Trong sổ tay này, chúng ta sẽ học cách làm sạch các mục văn bản không nhất quán.\n",
    "\n",
    "Hãy bắt đầu thôi!\n"
   ]
  },
  {
   "cell_type": "markdown",
   "id": "cad07ed9",
   "metadata": {
    "papermill": {
     "duration": 0.004206,
     "end_time": "2023-04-20T18:08:56.036352",
     "exception": false,
     "start_time": "2023-04-20T18:08:56.032146",
     "status": "completed"
    },
    "tags": []
   },
   "source": [
    "## Thiết lập môi trường của chúng ta\n",
    "\n",
    "Điều đầu tiên chúng ta cần làm là tải các thư viện và bộ dữ liệu mà chúng ta sẽ sử dụng."
   ]
  },
  {
   "cell_type": "code",
   "execution_count": 19,
   "id": "1353b4d8",
   "metadata": {
    "execution": {
     "iopub.execute_input": "2023-04-20T18:08:56.048270Z",
     "iopub.status.busy": "2023-04-20T18:08:56.047783Z",
     "iopub.status.idle": "2023-04-20T18:08:56.177430Z",
     "shell.execute_reply": "2023-04-20T18:08:56.175732Z"
    },
    "papermill": {
     "duration": 0.139879,
     "end_time": "2023-04-20T18:08:56.180766",
     "exception": false,
     "start_time": "2023-04-20T18:08:56.040887",
     "status": "completed"
    },
    "tags": []
   },
   "outputs": [],
   "source": [
    "# Các mô-đun chúng ta sẽ sử dụng\n",
    "import pandas as pd\n",
    "import numpy as np\n",
    "\n",
    "# Các mô-đun hữu ích\n",
    "import fuzzywuzzy\n",
    "from fuzzywuzzy import process\n",
    "import charset_normalizer\n",
    "\n",
    "# Đọc toàn bộ dữ liệu của chúng ta\n",
    "professors = pd.read_csv(\"pakistan_intellectual_capital.csv\")\n",
    "\n",
    "# Thiết lập hạt giống để tái lập kết quả\n",
    "np.random.seed(0)"
   ]
  },
  {
   "cell_type": "markdown",
   "id": "9f8b981c",
   "metadata": {
    "papermill": {
     "duration": 0.004335,
     "end_time": "2023-04-20T18:08:56.190324",
     "exception": false,
     "start_time": "2023-04-20T18:08:56.185989",
     "status": "completed"
    },
    "tags": []
   },
   "source": [
    "## Tiến hành tiền xử lý văn bản ban đầu\n",
    "\n",
    "Chúng ta sẽ bắt đầu bằng cách nhìn qua vài dòng đầu tiên của dữ liệu.\n"
   ]
  },
  {
   "cell_type": "code",
   "execution_count": 20,
   "id": "9a9092a3",
   "metadata": {
    "execution": {
     "iopub.execute_input": "2023-04-20T18:08:56.202549Z",
     "iopub.status.busy": "2023-04-20T18:08:56.202017Z",
     "iopub.status.idle": "2023-04-20T18:08:56.240551Z",
     "shell.execute_reply": "2023-04-20T18:08:56.238930Z"
    },
    "papermill": {
     "duration": 0.048165,
     "end_time": "2023-04-20T18:08:56.243501",
     "exception": false,
     "start_time": "2023-04-20T18:08:56.195336",
     "status": "completed"
    },
    "tags": []
   },
   "outputs": [
    {
     "data": {
      "text/html": [
       "<div>\n",
       "<style scoped>\n",
       "    .dataframe tbody tr th:only-of-type {\n",
       "        vertical-align: middle;\n",
       "    }\n",
       "\n",
       "    .dataframe tbody tr th {\n",
       "        vertical-align: top;\n",
       "    }\n",
       "\n",
       "    .dataframe thead th {\n",
       "        text-align: right;\n",
       "    }\n",
       "</style>\n",
       "<table border=\"1\" class=\"dataframe\">\n",
       "  <thead>\n",
       "    <tr style=\"text-align: right;\">\n",
       "      <th></th>\n",
       "      <th>Unnamed: 0</th>\n",
       "      <th>S#</th>\n",
       "      <th>Teacher Name</th>\n",
       "      <th>University Currently Teaching</th>\n",
       "      <th>Department</th>\n",
       "      <th>Province University Located</th>\n",
       "      <th>Designation</th>\n",
       "      <th>Terminal Degree</th>\n",
       "      <th>Graduated from</th>\n",
       "      <th>Country</th>\n",
       "      <th>Year</th>\n",
       "      <th>Area of Specialization/Research Interests</th>\n",
       "      <th>Other Information</th>\n",
       "    </tr>\n",
       "  </thead>\n",
       "  <tbody>\n",
       "    <tr>\n",
       "      <th>0</th>\n",
       "      <td>2</td>\n",
       "      <td>3</td>\n",
       "      <td>Dr. Abdul Basit</td>\n",
       "      <td>University of Balochistan</td>\n",
       "      <td>Computer Science &amp; IT</td>\n",
       "      <td>Balochistan</td>\n",
       "      <td>Assistant Professor</td>\n",
       "      <td>PhD</td>\n",
       "      <td>Asian Institute of Technology</td>\n",
       "      <td>Thailand</td>\n",
       "      <td>NaN</td>\n",
       "      <td>Software Engineering &amp; DBMS</td>\n",
       "      <td>NaN</td>\n",
       "    </tr>\n",
       "    <tr>\n",
       "      <th>1</th>\n",
       "      <td>4</td>\n",
       "      <td>5</td>\n",
       "      <td>Dr. Waheed Noor</td>\n",
       "      <td>University of Balochistan</td>\n",
       "      <td>Computer Science &amp; IT</td>\n",
       "      <td>Balochistan</td>\n",
       "      <td>Assistant Professor</td>\n",
       "      <td>PhD</td>\n",
       "      <td>Asian Institute of Technology</td>\n",
       "      <td>Thailand</td>\n",
       "      <td>NaN</td>\n",
       "      <td>DBMS</td>\n",
       "      <td>NaN</td>\n",
       "    </tr>\n",
       "    <tr>\n",
       "      <th>2</th>\n",
       "      <td>5</td>\n",
       "      <td>6</td>\n",
       "      <td>Dr. Junaid Baber</td>\n",
       "      <td>University of Balochistan</td>\n",
       "      <td>Computer Science &amp; IT</td>\n",
       "      <td>Balochistan</td>\n",
       "      <td>Assistant Professor</td>\n",
       "      <td>PhD</td>\n",
       "      <td>Asian Institute of Technology</td>\n",
       "      <td>Thailand</td>\n",
       "      <td>NaN</td>\n",
       "      <td>Information processing, Multimedia mining</td>\n",
       "      <td>NaN</td>\n",
       "    </tr>\n",
       "    <tr>\n",
       "      <th>3</th>\n",
       "      <td>6</td>\n",
       "      <td>7</td>\n",
       "      <td>Dr. Maheen Bakhtyar</td>\n",
       "      <td>University of Balochistan</td>\n",
       "      <td>Computer Science &amp; IT</td>\n",
       "      <td>Balochistan</td>\n",
       "      <td>Assistant Professor</td>\n",
       "      <td>PhD</td>\n",
       "      <td>Asian Institute of Technology</td>\n",
       "      <td>Thailand</td>\n",
       "      <td>NaN</td>\n",
       "      <td>NLP, Information Retrieval, Question Answering...</td>\n",
       "      <td>NaN</td>\n",
       "    </tr>\n",
       "    <tr>\n",
       "      <th>4</th>\n",
       "      <td>24</td>\n",
       "      <td>25</td>\n",
       "      <td>Samina Azim</td>\n",
       "      <td>Sardar Bahadur Khan Women's University</td>\n",
       "      <td>Computer Science</td>\n",
       "      <td>Balochistan</td>\n",
       "      <td>Lecturer</td>\n",
       "      <td>BS</td>\n",
       "      <td>Balochistan University of Information Technolo...</td>\n",
       "      <td>Pakistan</td>\n",
       "      <td>2005.0</td>\n",
       "      <td>VLSI Electronics DLD Database</td>\n",
       "      <td>NaN</td>\n",
       "    </tr>\n",
       "  </tbody>\n",
       "</table>\n",
       "</div>"
      ],
      "text/plain": [
       "   Unnamed: 0  S#         Teacher Name  \\\n",
       "0           2   3      Dr. Abdul Basit   \n",
       "1           4   5      Dr. Waheed Noor   \n",
       "2           5   6     Dr. Junaid Baber   \n",
       "3           6   7  Dr. Maheen Bakhtyar   \n",
       "4          24  25          Samina Azim   \n",
       "\n",
       "            University Currently Teaching             Department  \\\n",
       "0               University of Balochistan  Computer Science & IT   \n",
       "1               University of Balochistan  Computer Science & IT   \n",
       "2               University of Balochistan  Computer Science & IT   \n",
       "3               University of Balochistan  Computer Science & IT   \n",
       "4  Sardar Bahadur Khan Women's University       Computer Science   \n",
       "\n",
       "  Province University Located          Designation Terminal Degree  \\\n",
       "0                 Balochistan  Assistant Professor             PhD   \n",
       "1                 Balochistan  Assistant Professor             PhD   \n",
       "2                 Balochistan  Assistant Professor             PhD   \n",
       "3                 Balochistan  Assistant Professor             PhD   \n",
       "4                 Balochistan             Lecturer              BS   \n",
       "\n",
       "                                      Graduated from   Country    Year  \\\n",
       "0                      Asian Institute of Technology  Thailand     NaN   \n",
       "1                      Asian Institute of Technology  Thailand     NaN   \n",
       "2                      Asian Institute of Technology  Thailand     NaN   \n",
       "3                      Asian Institute of Technology  Thailand     NaN   \n",
       "4  Balochistan University of Information Technolo...  Pakistan  2005.0   \n",
       "\n",
       "           Area of Specialization/Research Interests Other Information  \n",
       "0                        Software Engineering & DBMS               NaN  \n",
       "1                                               DBMS               NaN  \n",
       "2          Information processing, Multimedia mining               NaN  \n",
       "3  NLP, Information Retrieval, Question Answering...               NaN  \n",
       "4                      VLSI Electronics DLD Database               NaN  "
      ]
     },
     "execution_count": 20,
     "metadata": {},
     "output_type": "execute_result"
    }
   ],
   "source": [
    "professors.head()"
   ]
  },
  {
   "cell_type": "markdown",
   "id": "f018fe6a",
   "metadata": {
    "papermill": {
     "duration": 0.004617,
     "end_time": "2023-04-20T18:08:56.253475",
     "exception": false,
     "start_time": "2023-04-20T18:08:56.248858",
     "status": "completed"
    },
    "tags": []
   },
   "source": [
    "Giả sử chúng ta muốn làm sạch cột \"Country\" để đảm bảo không có sự không nhất quán trong việc nhập liệu. Chúng ta có thể đi qua và kiểm tra từng dòng bằng tay, dĩ nhiên, và chỉnh sửa thủ công các sự không nhất quán khi tìm thấy chúng. Tuy nhiên, có một cách hiệu quả hơn để làm việc này!"
   ]
  },
  {
   "cell_type": "code",
   "execution_count": 21,
   "id": "d01084e8",
   "metadata": {
    "execution": {
     "iopub.execute_input": "2023-04-20T18:08:56.265851Z",
     "iopub.status.busy": "2023-04-20T18:08:56.265331Z",
     "iopub.status.idle": "2023-04-20T18:08:56.280068Z",
     "shell.execute_reply": "2023-04-20T18:08:56.278201Z"
    },
    "papermill": {
     "duration": 0.025031,
     "end_time": "2023-04-20T18:08:56.283422",
     "exception": false,
     "start_time": "2023-04-20T18:08:56.258391",
     "status": "completed"
    },
    "tags": []
   },
   "outputs": [
    {
     "data": {
      "text/plain": [
       "array([' Germany', ' New Zealand', ' Sweden', ' USA', 'Australia',\n",
       "       'Austria', 'Canada', 'China', 'Finland', 'France', 'Greece',\n",
       "       'HongKong', 'Ireland', 'Italy', 'Japan', 'Macau', 'Malaysia',\n",
       "       'Mauritius', 'Netherland', 'New Zealand', 'Norway', 'Pakistan',\n",
       "       'Portugal', 'Russian Federation', 'Saudi Arabia', 'Scotland',\n",
       "       'Singapore', 'South Korea', 'SouthKorea', 'Spain', 'Sweden',\n",
       "       'Thailand', 'Turkey', 'UK', 'USA', 'USofA', 'Urbana', 'germany'],\n",
       "      dtype=object)"
      ]
     },
     "execution_count": 21,
     "metadata": {},
     "output_type": "execute_result"
    }
   ],
   "source": [
    "# Lấy tất cả các giá trị duy nhất trong cột 'Country'\n",
    "countries = professors['Country'].unique()\n",
    "\n",
    "# Sắp xếp chúng theo thứ tự bảng chữ cái và sau đó xem kỹ hơn\n",
    "countries.sort()\n",
    "countries"
   ]
  },
  {
   "cell_type": "markdown",
   "id": "8311eb03",
   "metadata": {
    "papermill": {
     "duration": 0.004953,
     "end_time": "2023-04-20T18:08:56.293920",
     "exception": false,
     "start_time": "2023-04-20T18:08:56.288967",
     "status": "completed"
    },
    "tags": []
   },
   "source": [
    "Chỉ cần nhìn vào đây, tôi có thể thấy một số vấn đề do nhập liệu không nhất quán: ví dụ như ' Germany' và 'germany', hay ' New Zealand' và 'New Zealand'.\n",
    "\n",
    "Điều đầu tiên tôi sẽ làm là chuyển tất cả thành chữ thường (tôi có thể chuyển lại nếu muốn) và loại bỏ bất kỳ khoảng trắng nào ở đầu và cuối của các ô. Các sự không nhất quán trong việc viết hoa và khoảng trắng thừa là rất phổ biến trong dữ liệu văn bản, và bạn có thể sửa khoảng 80% các sự không nhất quán trong việc nhập liệu văn bản của mình bằng cách làm điều này."
   ]
  },
  {
   "cell_type": "code",
   "execution_count": 22,
   "id": "e849fd44",
   "metadata": {
    "execution": {
     "iopub.execute_input": "2023-04-20T18:08:56.307276Z",
     "iopub.status.busy": "2023-04-20T18:08:56.306022Z",
     "iopub.status.idle": "2023-04-20T18:08:56.316020Z",
     "shell.execute_reply": "2023-04-20T18:08:56.314735Z"
    },
    "papermill": {
     "duration": 0.019501,
     "end_time": "2023-04-20T18:08:56.318674",
     "exception": false,
     "start_time": "2023-04-20T18:08:56.299173",
     "status": "completed"
    },
    "tags": []
   },
   "outputs": [],
   "source": [
    "# Chuyển tất cả thành chữ thường\n",
    "professors['Country'] = professors['Country'].str.lower()\n",
    "\n",
    "# Loại bỏ khoảng trắng thừa\n",
    "professors['Country'] = professors['Country'].str.strip()"
   ]
  },
  {
   "cell_type": "markdown",
   "id": "6752d741",
   "metadata": {
    "papermill": {
     "duration": 0.005008,
     "end_time": "2023-04-20T18:08:56.329480",
     "exception": false,
     "start_time": "2023-04-20T18:08:56.324472",
     "status": "completed"
    },
    "tags": []
   },
   "source": [
    "Tiếp theo, chúng ta sẽ xử lý các sự không nhất quán phức tạp hơn.\n",
    "\n",
    "## Sử dụng fuzzy matching để sửa các lỗi nhập liệu không nhất quán\n",
    "\n",
    "Được rồi, hãy xem lại cột 'Country' và xem liệu còn có bất kỳ công việc làm sạch dữ liệu nào cần làm nữa không."
   ]
  },
  {
   "cell_type": "code",
   "execution_count": 23,
   "id": "55953cea",
   "metadata": {
    "execution": {
     "iopub.execute_input": "2023-04-20T18:08:56.342726Z",
     "iopub.status.busy": "2023-04-20T18:08:56.342239Z",
     "iopub.status.idle": "2023-04-20T18:08:56.352333Z",
     "shell.execute_reply": "2023-04-20T18:08:56.350940Z"
    },
    "papermill": {
     "duration": 0.020356,
     "end_time": "2023-04-20T18:08:56.355287",
     "exception": false,
     "start_time": "2023-04-20T18:08:56.334931",
     "status": "completed"
    },
    "tags": []
   },
   "outputs": [
    {
     "data": {
      "text/plain": [
       "array(['australia', 'austria', 'canada', 'china', 'finland', 'france',\n",
       "       'germany', 'greece', 'hongkong', 'ireland', 'italy', 'japan',\n",
       "       'macau', 'malaysia', 'mauritius', 'netherland', 'new zealand',\n",
       "       'norway', 'pakistan', 'portugal', 'russian federation',\n",
       "       'saudi arabia', 'scotland', 'singapore', 'south korea',\n",
       "       'southkorea', 'spain', 'sweden', 'thailand', 'turkey', 'uk',\n",
       "       'urbana', 'usa', 'usofa'], dtype=object)"
      ]
     },
     "execution_count": 23,
     "metadata": {},
     "output_type": "execute_result"
    }
   ],
   "source": [
    "# Lấy tất cả các giá trị duy nhất trong cột 'Country'\n",
    "countries = professors['Country'].unique()\n",
    "\n",
    "# Sắp xếp chúng theo thứ tự bảng chữ cái và sau đó xem kỹ hơn\n",
    "countries.sort()\n",
    "countries"
   ]
  },
  {
   "cell_type": "markdown",
   "id": "b6bb31ef",
   "metadata": {
    "papermill": {
     "duration": 0.00536,
     "end_time": "2023-04-20T18:08:56.366516",
     "exception": false,
     "start_time": "2023-04-20T18:08:56.361156",
     "status": "completed"
    },
    "tags": []
   },
   "source": [
    "Có vẻ như vẫn còn một sự không nhất quán khác: 'southkorea' và 'south korea' nên là giống nhau.\n",
    "\n",
    "Chúng ta sẽ sử dụng gói [fuzzywuzzy](https://github.com/seatgeek/fuzzywuzzy) để giúp xác định các chuỗi nào gần với nhau nhất. Bộ dữ liệu này đủ nhỏ để chúng ta có thể sửa lỗi bằng tay, nhưng cách tiếp cận này không thể mở rộng tốt. (Bạn có muốn sửa một nghìn lỗi bằng tay không? Còn mười nghìn lỗi thì sao? Tự động hóa mọi thứ càng sớm càng tốt thường là một ý tưởng hay. Thêm vào đó, nó cũng thú vị!)\n",
    "\n",
    "> **Fuzzy matching:** Quá trình tự động tìm các chuỗi văn bản tương tự với chuỗi mục tiêu. Nói chung, một chuỗi được xem là \"gần hơn\" với một chuỗi khác nếu bạn cần thay đổi ít ký tự hơn khi biến đổi một chuỗi thành chuỗi kia. Vì vậy, \"apple\" và \"snapple\" chỉ cách nhau hai thay đổi (thêm \"s\" và \"n\"), trong khi \"in\" và \"on\" chỉ cách nhau một thay đổi (thay \"i\" bằng \"o\"). Bạn sẽ không thể lúc nào cũng dựa vào fuzzy matching 100%, nhưng nó thường sẽ giúp bạn tiết kiệm ít nhất một chút thời gian.\n",
    "\n",
    "Fuzzywuzzy trả về một tỷ lệ cho hai chuỗi. Tỷ lệ càng gần 100, khoảng cách chỉnh sửa giữa hai chuỗi càng nhỏ. Ở đây, chúng ta sẽ lấy mười chuỗi trong danh sách các thành phố có khoảng cách gần nhất với \"south korea\"."
   ]
  },
  {
   "cell_type": "code",
   "execution_count": 24,
   "id": "6ac0da26",
   "metadata": {
    "execution": {
     "iopub.execute_input": "2023-04-20T18:08:56.380204Z",
     "iopub.status.busy": "2023-04-20T18:08:56.379718Z",
     "iopub.status.idle": "2023-04-20T18:08:56.398765Z",
     "shell.execute_reply": "2023-04-20T18:08:56.397382Z"
    },
    "papermill": {
     "duration": 0.029482,
     "end_time": "2023-04-20T18:08:56.401582",
     "exception": false,
     "start_time": "2023-04-20T18:08:56.372100",
     "status": "completed"
    },
    "tags": []
   },
   "outputs": [
    {
     "data": {
      "text/plain": [
       "[('south korea', 100),\n",
       " ('southkorea', 48),\n",
       " ('saudi arabia', 43),\n",
       " ('norway', 35),\n",
       " ('ireland', 33),\n",
       " ('portugal', 32),\n",
       " ('singapore', 30),\n",
       " ('netherland', 29),\n",
       " ('macau', 25),\n",
       " ('usofa', 25)]"
      ]
     },
     "execution_count": 24,
     "metadata": {},
     "output_type": "execute_result"
    }
   ],
   "source": [
    "# Lấy 10 kết quả gần nhất với \"south korea\"\n",
    "matches = fuzzywuzzy.process.extract(\"south korea\", countries, limit=10, scorer=fuzzywuzzy.fuzz.token_sort_ratio)\n",
    "\n",
    "# Xem qua các kết quả\n",
    "matches"
   ]
  },
  {
   "cell_type": "markdown",
   "id": "65fe7afc",
   "metadata": {
    "papermill": {
     "duration": 0.005389,
     "end_time": "2023-04-20T18:08:56.412683",
     "exception": false,
     "start_time": "2023-04-20T18:08:56.407294",
     "status": "completed"
    },
    "tags": []
   },
   "source": [
    "Chúng ta có thể thấy rằng hai mục trong danh sách các thành phố rất gần với \"south korea\": \"south korea\" và \"southkorea\". Hãy thay thế tất cả các dòng trong cột \"Country\" có tỷ lệ > 47 bằng \"south korea\".\n",
    "\n",
    "Để làm điều này, tôi sẽ viết một hàm. (Viết một hàm chung có thể tái sử dụng là một ý tưởng hay nếu bạn nghĩ rằng mình có thể phải làm một nhiệm vụ cụ thể nhiều hơn một hoặc hai lần. Điều này giúp bạn không phải sao chép và dán mã quá thường xuyên, tiết kiệm thời gian và có thể giúp ngăn ngừa sai sót.)"
   ]
  },
  {
   "cell_type": "code",
   "execution_count": 25,
   "id": "b878c892",
   "metadata": {
    "execution": {
     "iopub.execute_input": "2023-04-20T18:08:56.426752Z",
     "iopub.status.busy": "2023-04-20T18:08:56.426233Z",
     "iopub.status.idle": "2023-04-20T18:08:56.434989Z",
     "shell.execute_reply": "2023-04-20T18:08:56.433602Z"
    },
    "papermill": {
     "duration": 0.019528,
     "end_time": "2023-04-20T18:08:56.437867",
     "exception": false,
     "start_time": "2023-04-20T18:08:56.418339",
     "status": "completed"
    },
    "tags": []
   },
   "outputs": [],
   "source": [
    "# Hàm thay thế các dòng trong cột được cung cấp của dataframe với các chuỗi khớp với chuỗi đã cung cấp có tỷ lệ lớn hơn tỷ lệ tối thiểu\n",
    "def replace_matches_in_column(df, column, string_to_match, min_ratio = 47):\n",
    "    # Lấy danh sách các chuỗi duy nhất\n",
    "    strings = df[column].unique()\n",
    "    \n",
    "    # Lấy 10 kết quả gần nhất với chuỗi nhập vào\n",
    "    matches = fuzzywuzzy.process.extract(string_to_match, strings, \n",
    "                                         limit=10, scorer=fuzzywuzzy.fuzz.token_sort_ratio)\n",
    "\n",
    "    # Chỉ lấy các kết quả có tỷ lệ > 47\n",
    "    close_matches = [matches[0] for matches in matches if matches[1] >= min_ratio]\n",
    "\n",
    "    # Lấy các dòng có các chuỗi khớp trong dataframe\n",
    "    rows_with_matches = df[column].isin(close_matches)\n",
    "\n",
    "    # Thay thế tất cả các dòng có chuỗi khớp bằng chuỗi nhập vào\n",
    "    df.loc[rows_with_matches, column] = string_to_match\n",
    "    \n",
    "    # Thông báo hàm đã thực hiện xong\n",
    "    print(\"All done!\")\n"
   ]
  },
  {
   "cell_type": "markdown",
   "id": "efdc1769",
   "metadata": {
    "papermill": {
     "duration": 0.00542,
     "end_time": "2023-04-20T18:08:56.449106",
     "exception": false,
     "start_time": "2023-04-20T18:08:56.443686",
     "status": "completed"
    },
    "tags": []
   },
   "source": [
    "Giờ chúng ta đã có một hàm, hãy thử nghiệm nó!\n"
   ]
  },
  {
   "cell_type": "code",
   "execution_count": 26,
   "id": "2ac1625b",
   "metadata": {
    "execution": {
     "iopub.execute_input": "2023-04-20T18:08:56.463211Z",
     "iopub.status.busy": "2023-04-20T18:08:56.462733Z",
     "iopub.status.idle": "2023-04-20T18:08:56.476043Z",
     "shell.execute_reply": "2023-04-20T18:08:56.474214Z"
    },
    "papermill": {
     "duration": 0.024152,
     "end_time": "2023-04-20T18:08:56.479158",
     "exception": false,
     "start_time": "2023-04-20T18:08:56.455006",
     "status": "completed"
    },
    "tags": []
   },
   "outputs": [
    {
     "name": "stdout",
     "output_type": "stream",
     "text": [
      "All done!\n"
     ]
    }
   ],
   "source": [
    "# use the function we just wrote to replace close matches to \"south korea\" with \"south korea\"\n",
    "replace_matches_in_column(df=professors, column='Country', string_to_match=\"south korea\")"
   ]
  },
  {
   "cell_type": "markdown",
   "id": "1e86dee2",
   "metadata": {
    "papermill": {
     "duration": 0.006662,
     "end_time": "2023-04-20T18:08:56.491766",
     "exception": false,
     "start_time": "2023-04-20T18:08:56.485104",
     "status": "completed"
    },
    "tags": []
   },
   "source": [
    "Và bây giờ, hãy kiểm tra lại các giá trị duy nhất trong cột \"Country\" và đảm bảo rằng chúng ta đã làm sạch \"south korea\" một cách chính xác."
   ]
  },
  {
   "cell_type": "code",
   "execution_count": 27,
   "id": "69142bc9",
   "metadata": {
    "execution": {
     "iopub.execute_input": "2023-04-20T18:08:56.506264Z",
     "iopub.status.busy": "2023-04-20T18:08:56.505737Z",
     "iopub.status.idle": "2023-04-20T18:08:56.516960Z",
     "shell.execute_reply": "2023-04-20T18:08:56.515309Z"
    },
    "papermill": {
     "duration": 0.021955,
     "end_time": "2023-04-20T18:08:56.519818",
     "exception": false,
     "start_time": "2023-04-20T18:08:56.497863",
     "status": "completed"
    },
    "tags": []
   },
   "outputs": [
    {
     "data": {
      "text/plain": [
       "array(['australia', 'austria', 'canada', 'china', 'finland', 'france',\n",
       "       'germany', 'greece', 'hongkong', 'ireland', 'italy', 'japan',\n",
       "       'macau', 'malaysia', 'mauritius', 'netherland', 'new zealand',\n",
       "       'norway', 'pakistan', 'portugal', 'russian federation',\n",
       "       'saudi arabia', 'scotland', 'singapore', 'south korea', 'spain',\n",
       "       'sweden', 'thailand', 'turkey', 'uk', 'urbana', 'usa', 'usofa'],\n",
       "      dtype=object)"
      ]
     },
     "execution_count": 27,
     "metadata": {},
     "output_type": "execute_result"
    }
   ],
   "source": [
    "# get all the unique values in the 'Country' column\n",
    "countries = professors['Country'].unique()\n",
    "\n",
    "# sort them alphabetically and then take a closer look\n",
    "countries.sort()\n",
    "countries"
   ]
  },
  {
   "cell_type": "markdown",
   "id": "d737d1c0",
   "metadata": {
    "papermill": {
     "duration": 0.005814,
     "end_time": "2023-04-20T18:08:56.531894",
     "exception": false,
     "start_time": "2023-04-20T18:08:56.526080",
     "status": "completed"
    },
    "tags": []
   },
   "source": [
    "Tuyệt vời! Giờ chúng ta chỉ còn \"south korea\" trong dataframe và chúng ta không cần phải thay đổi gì bằng tay.\n",
    "\n",
    "## Your turn!\n",
    "\n",
    "Therre are still some inconsistencies in the dataset.  [**Continue cleaning the data**](https://www.kaggle.com/kernels/fork/10824407) in a final exercise."
   ]
  },
  {
   "cell_type": "markdown",
   "id": "230bac97",
   "metadata": {
    "papermill": {
     "duration": 0.007416,
     "end_time": "2023-04-20T18:08:56.545955",
     "exception": false,
     "start_time": "2023-04-20T18:08:56.538539",
     "status": "completed"
    },
    "tags": []
   },
   "source": [
    "---\n",
    "\n",
    "\n",
    "\n",
    "\n",
    "*Have questions or comments? Visit the [course discussion forum](https://www.kaggle.com/learn/data-cleaning/discussion) to chat with other learners.*"
   ]
  }
 ],
 "metadata": {
  "kernelspec": {
   "display_name": "Python 3",
   "language": "python",
   "name": "python3"
  },
  "language_info": {
   "codemirror_mode": {
    "name": "ipython",
    "version": 3
   },
   "file_extension": ".py",
   "mimetype": "text/x-python",
   "name": "python",
   "nbconvert_exporter": "python",
   "pygments_lexer": "ipython3",
   "version": "3.11.9"
  },
  "papermill": {
   "default_parameters": {},
   "duration": 12.45024,
   "end_time": "2023-04-20T18:08:57.278511",
   "environment_variables": {},
   "exception": null,
   "input_path": "__notebook__.ipynb",
   "output_path": "__notebook__.ipynb",
   "parameters": {},
   "start_time": "2023-04-20T18:08:44.828271",
   "version": "2.4.0"
  }
 },
 "nbformat": 4,
 "nbformat_minor": 5
}
