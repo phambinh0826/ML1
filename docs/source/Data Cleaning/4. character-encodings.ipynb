{
 "cells": [
  {
   "cell_type": "markdown",
   "id": "bf94b87c",
   "metadata": {
    "papermill": {
     "duration": 0.006959,
     "end_time": "2023-04-20T18:08:46.775285",
     "exception": false,
     "start_time": "2023-04-20T18:08:46.768326",
     "status": "completed"
    },
    "tags": []
   },
   "source": [
    "# Lecture 4 - Character Encodings\n",
    "\n",
    "Tránh lỗi UnicoodeDecodeErrors khi tải tệp CSV.\n",
    "\n",
    "Trong sổ tay này, chúng ta sẽ làm việc với các mã hóa ký tự khác nhau.\n",
    "\n",
    "Hãy bắt đầu thôi!"
   ]
  },
  {
   "cell_type": "markdown",
   "id": "21c443a8",
   "metadata": {
    "papermill": {
     "duration": 0.005233,
     "end_time": "2023-04-20T18:08:46.786272",
     "exception": false,
     "start_time": "2023-04-20T18:08:46.781039",
     "status": "completed"
    },
    "tags": []
   },
   "source": [
    "## Thiết lập môi trường của chúng ta\n",
    "\n",
    "Điều đầu tiên chúng ta cần làm là tải các thư viện mà chúng ta sẽ sử dụng. Tuy nhiên, không phải là bộ dữ liệu của chúng ta, chúng ta sẽ làm điều đó sau!\n"
   ]
  },
  {
   "cell_type": "code",
   "execution_count": 20,
   "id": "479a9b60",
   "metadata": {
    "execution": {
     "iopub.execute_input": "2023-04-20T18:08:46.800758Z",
     "iopub.status.busy": "2023-04-20T18:08:46.800333Z",
     "iopub.status.idle": "2023-04-20T18:08:46.811655Z",
     "shell.execute_reply": "2023-04-20T18:08:46.810305Z"
    },
    "papermill": {
     "duration": 0.022408,
     "end_time": "2023-04-20T18:08:46.814372",
     "exception": false,
     "start_time": "2023-04-20T18:08:46.791964",
     "status": "completed"
    },
    "tags": []
   },
   "outputs": [],
   "source": [
    "# Các mô-đun chúng ta sẽ sử dụng\n",
    "import pandas as pd\n",
    "import numpy as np\n",
    "\n",
    "# Mô-đun mã hóa ký tự hữu ích\n",
    "import charset_normalizer\n",
    "\n",
    "# Thiết lập hạt giống để tái lập kết quả\n",
    "np.random.seed(0)"
   ]
  },
  {
   "cell_type": "markdown",
   "id": "10b67f08",
   "metadata": {
    "papermill": {
     "duration": 0.005257,
     "end_time": "2023-04-20T18:08:46.825217",
     "exception": false,
     "start_time": "2023-04-20T18:08:46.819960",
     "status": "completed"
    },
    "tags": []
   },
   "source": [
    "## Mã hóa là gì?\n",
    "\n",
    "**Mã hóa ký tự** là các bộ quy tắc cụ thể để ánh xạ từ các chuỗi byte nhị phân thô (trông như thế này: 0110100001101001) đến các ký tự tạo nên văn bản có thể đọc được bởi con người (như \"hi\"). Có rất nhiều mã hóa khác nhau, và nếu bạn cố gắng đọc văn bản với mã hóa khác so với mã hóa ban đầu mà nó được viết, bạn sẽ gặp phải văn bản bị rối gọi là \"mojibake\" (đọc là mo-gee-bah-kay). Đây là một ví dụ về mojibake:\n",
    "\n",
    "æ–‡å—åŒ–ã??\n",
    "\n",
    "Bạn cũng có thể gặp phải các ký tự \"không xác định\". Đó là những gì hiển thị khi không có sự ánh xạ giữa một byte cụ thể và một ký tự trong mã hóa bạn đang sử dụng để đọc chuỗi byte, và chúng trông như thế này:\n",
    "\n",
    "����������\n",
    "\n",
    "Các lỗi không khớp mã hóa ký tự ít phổ biến hơn ngày nay so với trước đây, nhưng nó vẫn là một vấn đề. Có rất nhiều mã hóa ký tự khác nhau, nhưng mã hóa chính mà bạn cần biết là UTF-8.\n",
    "\n",
    "> UTF-8 là **mã hóa văn bản** chuẩn. Tất cả mã Python đều ở định dạng UTF-8 và, lý tưởng nhất, tất cả dữ liệu của bạn cũng nên như vậy. Khi dữ liệu không phải là UTF-8, đó là khi bạn gặp phải vấn đề.\n",
    "\n",
    "Trước đây, việc xử lý mã hóa trong Python 2 khá khó khăn, nhưng may mắn là trong Python 3, nó đơn giản hơn rất nhiều. (Kaggle Notebooks chỉ sử dụng Python 3.) Có hai kiểu dữ liệu chính bạn sẽ gặp khi làm việc với văn bản trong Python 3. Một là chuỗi, đây là kiểu dữ liệu văn bản mặc định."
   ]
  },
  {
   "cell_type": "code",
   "execution_count": 21,
   "id": "5885b7e3",
   "metadata": {
    "execution": {
     "iopub.execute_input": "2023-04-20T18:08:46.838394Z",
     "iopub.status.busy": "2023-04-20T18:08:46.837963Z",
     "iopub.status.idle": "2023-04-20T18:08:46.847093Z",
     "shell.execute_reply": "2023-04-20T18:08:46.845492Z"
    },
    "papermill": {
     "duration": 0.019459,
     "end_time": "2023-04-20T18:08:46.850232",
     "exception": false,
     "start_time": "2023-04-20T18:08:46.830773",
     "status": "completed"
    },
    "tags": []
   },
   "outputs": [
    {
     "data": {
      "text/plain": [
       "str"
      ]
     },
     "execution_count": 21,
     "metadata": {},
     "output_type": "execute_result"
    }
   ],
   "source": [
    "# Bắt đầu với một chuỗi\n",
    "before = \"This is the euro symbol: €\"\n",
    "\n",
    "# Kiểm tra xem kiểu dữ liệu của nó là gì\n",
    "type(before)"
   ]
  },
  {
   "cell_type": "markdown",
   "id": "b5cdfc3f",
   "metadata": {
    "papermill": {
     "duration": 0.005407,
     "end_time": "2023-04-20T18:08:46.861651",
     "exception": false,
     "start_time": "2023-04-20T18:08:46.856244",
     "status": "completed"
    },
    "tags": []
   },
   "source": [
    "Dữ liệu còn lại là kiểu dữ liệu [bytes](https://docs.python.org/3.1/library/functions.html#bytes), đây là một chuỗi các số nguyên. Bạn có thể chuyển đổi một chuỗi thành bytes bằng cách chỉ định mã hóa mà nó đang sử dụng:"
   ]
  },
  {
   "cell_type": "code",
   "execution_count": 22,
   "id": "e403f864",
   "metadata": {
    "execution": {
     "iopub.execute_input": "2023-04-20T18:08:46.875110Z",
     "iopub.status.busy": "2023-04-20T18:08:46.874680Z",
     "iopub.status.idle": "2023-04-20T18:08:46.883351Z",
     "shell.execute_reply": "2023-04-20T18:08:46.881773Z"
    },
    "papermill": {
     "duration": 0.019167,
     "end_time": "2023-04-20T18:08:46.886501",
     "exception": false,
     "start_time": "2023-04-20T18:08:46.867334",
     "status": "completed"
    },
    "tags": []
   },
   "outputs": [
    {
     "data": {
      "text/plain": [
       "bytes"
      ]
     },
     "execution_count": 22,
     "metadata": {},
     "output_type": "execute_result"
    }
   ],
   "source": [
    "# Mã hóa nó sang một mã hóa khác, thay thế các ký tự gây ra lỗi\n",
    "after = before.encode(\"utf-8\", errors=\"replace\")\n",
    "\n",
    "# Kiểm tra kiểu dữ liệu\n",
    "type(after)"
   ]
  },
  {
   "cell_type": "markdown",
   "id": "5f29881f",
   "metadata": {
    "papermill": {
     "duration": 0.005362,
     "end_time": "2023-04-20T18:08:46.897757",
     "exception": false,
     "start_time": "2023-04-20T18:08:46.892395",
     "status": "completed"
    },
    "tags": []
   },
   "source": [
    "Nếu bạn nhìn vào một đối tượng bytes, bạn sẽ thấy nó có một chữ b phía trước, sau đó có thể là một số văn bản. Điều này là vì bytes được in ra như thể chúng là các ký tự được mã hóa trong ASCII. (ASCII là một mã hóa ký tự cũ không thực sự phù hợp để viết bất kỳ ngôn ngữ nào ngoài tiếng Anh.) Ở đây, bạn có thể thấy rằng ký hiệu euro của chúng ta đã bị thay thế bằng một số mojibake trông như \"\\xe2\\x82\\xac\" khi nó được in ra như thể đó là một chuỗi ASCII."
   ]
  },
  {
   "cell_type": "code",
   "execution_count": 23,
   "id": "3eb23997",
   "metadata": {
    "execution": {
     "iopub.execute_input": "2023-04-20T18:08:46.911342Z",
     "iopub.status.busy": "2023-04-20T18:08:46.910914Z",
     "iopub.status.idle": "2023-04-20T18:08:46.918284Z",
     "shell.execute_reply": "2023-04-20T18:08:46.916905Z"
    },
    "papermill": {
     "duration": 0.017103,
     "end_time": "2023-04-20T18:08:46.920534",
     "exception": false,
     "start_time": "2023-04-20T18:08:46.903431",
     "status": "completed"
    },
    "tags": []
   },
   "outputs": [
    {
     "data": {
      "text/plain": [
       "b'This is the euro symbol: \\xe2\\x82\\xac'"
      ]
     },
     "execution_count": 23,
     "metadata": {},
     "output_type": "execute_result"
    }
   ],
   "source": [
    "# Hãy xem các byte trông như thế nào\n",
    "after"
   ]
  },
  {
   "cell_type": "markdown",
   "id": "3aeeffaf",
   "metadata": {
    "papermill": {
     "duration": 0.005396,
     "end_time": "2023-04-20T18:08:46.931640",
     "exception": false,
     "start_time": "2023-04-20T18:08:46.926244",
     "status": "completed"
    },
    "tags": []
   },
   "source": [
    "Khi chúng ta chuyển đổi lại bytes thành chuỗi với mã hóa chính xác, chúng ta có thể thấy rằng văn bản của chúng ta đã được hiển thị đúng, điều này thật tuyệt! :)"
   ]
  },
  {
   "cell_type": "code",
   "execution_count": 24,
   "id": "301662e9",
   "metadata": {
    "execution": {
     "iopub.execute_input": "2023-04-20T18:08:46.945299Z",
     "iopub.status.busy": "2023-04-20T18:08:46.944783Z",
     "iopub.status.idle": "2023-04-20T18:08:46.951529Z",
     "shell.execute_reply": "2023-04-20T18:08:46.949827Z"
    },
    "papermill": {
     "duration": 0.016874,
     "end_time": "2023-04-20T18:08:46.954159",
     "exception": false,
     "start_time": "2023-04-20T18:08:46.937285",
     "status": "completed"
    },
    "tags": []
   },
   "outputs": [
    {
     "name": "stdout",
     "output_type": "stream",
     "text": [
      "This is the euro symbol: €\n"
     ]
    }
   ],
   "source": [
    "# Chuyển đổi nó trở lại utf-8\n",
    "print(after.decode(\"utf-8\"))"
   ]
  },
  {
   "cell_type": "markdown",
   "id": "6bc67252",
   "metadata": {
    "papermill": {
     "duration": 0.005452,
     "end_time": "2023-04-20T18:08:46.966671",
     "exception": false,
     "start_time": "2023-04-20T18:08:46.961219",
     "status": "completed"
    },
    "tags": []
   },
   "source": [
    "However, when we try to use a different encoding to map our bytes into a string, we get an error. This is because the encoding we're trying to use doesn't know what to do with the bytes we're trying to pass it. You need to tell Python the encoding that the byte string is actually supposed to be in.\n",
    "\n",
    "> You can think of different encodings as different ways of recording music. You can record the same music on a CD, cassette tape or 8-track. While the music may sound more-or-less the same, you need to use the right equipment to play the music from each recording format. The correct decoder is like a cassette player or a CD player. If you try to play a cassette in a CD player, it just won't work. "
   ]
  },
  {
   "cell_type": "code",
   "execution_count": 25,
   "id": "f5a13f44",
   "metadata": {
    "execution": {
     "iopub.execute_input": "2023-04-20T18:08:46.980909Z",
     "iopub.status.busy": "2023-04-20T18:08:46.980411Z",
     "iopub.status.idle": "2023-04-20T18:08:47.050467Z",
     "shell.execute_reply": "2023-04-20T18:08:47.048923Z"
    },
    "papermill": {
     "duration": 0.080729,
     "end_time": "2023-04-20T18:08:47.053522",
     "exception": false,
     "start_time": "2023-04-20T18:08:46.972793",
     "status": "completed"
    },
    "tags": []
   },
   "outputs": [
    {
     "ename": "UnicodeDecodeError",
     "evalue": "'ascii' codec can't decode byte 0xe2 in position 25: ordinal not in range(128)",
     "output_type": "error",
     "traceback": [
      "\u001b[31m---------------------------------------------------------------------------\u001b[39m",
      "\u001b[31mUnicodeDecodeError\u001b[39m                        Traceback (most recent call last)",
      "\u001b[36mCell\u001b[39m\u001b[36m \u001b[39m\u001b[32mIn[25]\u001b[39m\u001b[32m, line 2\u001b[39m\n\u001b[32m      1\u001b[39m \u001b[38;5;66;03m# Cố gắng giải mã các byte của chúng ta với mã hóa ascii\u001b[39;00m\n\u001b[32m----> \u001b[39m\u001b[32m2\u001b[39m \u001b[38;5;28mprint\u001b[39m(\u001b[43mafter\u001b[49m\u001b[43m.\u001b[49m\u001b[43mdecode\u001b[49m\u001b[43m(\u001b[49m\u001b[33;43m\"\u001b[39;49m\u001b[33;43mascii\u001b[39;49m\u001b[33;43m\"\u001b[39;49m\u001b[43m)\u001b[49m)\n",
      "\u001b[31mUnicodeDecodeError\u001b[39m: 'ascii' codec can't decode byte 0xe2 in position 25: ordinal not in range(128)"
     ]
    }
   ],
   "source": [
    "# Cố gắng giải mã các byte của chúng ta với mã hóa ascii\n",
    "print(after.decode(\"ascii\"))"
   ]
  },
  {
   "cell_type": "markdown",
   "id": "e7727b56",
   "metadata": {
    "papermill": {
     "duration": 0.005807,
     "end_time": "2023-04-20T18:08:47.065479",
     "exception": false,
     "start_time": "2023-04-20T18:08:47.059672",
     "status": "completed"
    },
    "tags": []
   },
   "source": [
    "Chúng ta cũng có thể gặp vấn đề nếu cố gắng sử dụng mã hóa sai để ánh xạ từ chuỗi sang bytes. Như tôi đã nói trước đây, chuỗi trong Python 3 mặc định là UTF-8, vì vậy nếu cố gắng xử lý chúng như thể chúng thuộc mã hóa khác, chúng ta sẽ gặp phải vấn đề.\n",
    "\n",
    "Ví dụ, nếu chúng ta cố gắng chuyển đổi một chuỗi thành bytes theo mã hóa ASCII bằng cách sử dụng `encode()`, chúng ta có thể yêu cầu các byte giống như khi văn bản được mã hóa bằng ASCII. Tuy nhiên, vì văn bản của chúng ta không phải là ASCII, sẽ có một số ký tự mà ASCII không thể xử lý. Chúng ta có thể tự động thay thế những ký tự mà ASCII không thể xử lý. Tuy nhiên, nếu làm vậy, bất kỳ ký tự nào không thuộc ASCII sẽ chỉ được thay thế bằng ký tự không xác định. Sau đó, khi chúng ta chuyển đổi các byte lại thành chuỗi, ký tự đó sẽ bị thay thế bằng ký tự không xác định. Phần nguy hiểm ở đây là không có cách nào để xác định ký tự đó *lẽ ra* phải là gì. Điều này có nghĩa là chúng ta có thể đã làm cho dữ liệu của mình trở nên vô dụng!"
   ]
  },
  {
   "cell_type": "code",
   "execution_count": 26,
   "id": "31214e9d",
   "metadata": {
    "execution": {
     "iopub.execute_input": "2023-04-20T18:08:47.079753Z",
     "iopub.status.busy": "2023-04-20T18:08:47.079296Z",
     "iopub.status.idle": "2023-04-20T18:08:47.086242Z",
     "shell.execute_reply": "2023-04-20T18:08:47.084867Z"
    },
    "papermill": {
     "duration": 0.017281,
     "end_time": "2023-04-20T18:08:47.088663",
     "exception": false,
     "start_time": "2023-04-20T18:08:47.071382",
     "status": "completed"
    },
    "tags": []
   },
   "outputs": [
    {
     "name": "stdout",
     "output_type": "stream",
     "text": [
      "This is the euro symbol: ?\n"
     ]
    }
   ],
   "source": [
    "# Bắt đầu với một chuỗi\n",
    "before = \"This is the euro symbol: €\"\n",
    "\n",
    "# Mã hóa nó sang một mã hóa khác, thay thế các ký tự gây ra lỗi\n",
    "after = before.encode(\"ascii\", errors = \"replace\")\n",
    "\n",
    "# Chuyển nó lại thành utf-8\n",
    "print(after.decode(\"ascii\"))\n",
    "\n",
    "# Chúng ta đã mất chuỗi byte gốc ban đầu! Nó đã bị \n",
    "# Thay thế bằng chuỗi byte gốc cho ký tự không xác định :("
   ]
  },
  {
   "cell_type": "markdown",
   "id": "6bf1855c",
   "metadata": {
    "papermill": {
     "duration": 0.006579,
     "end_time": "2023-04-20T18:08:47.101443",
     "exception": false,
     "start_time": "2023-04-20T18:08:47.094864",
     "status": "completed"
    },
    "tags": []
   },
   "source": [
    "Điều này là xấu và chúng ta muốn tránh làm như vậy! Tốt hơn nhiều nếu chuyển tất cả văn bản của chúng ta sang UTF-8 ngay khi có thể và giữ nó trong mã hóa đó. Thời điểm tốt nhất để chuyển đổi đầu vào không phải UTF-8 thành UTF-8 là khi bạn đọc các tệp, điều này chúng ta sẽ thảo luận trong phần tiếp theo.\n",
    "\n",
    "## Đọc tệp với vấn đề mã hóa\n",
    "\n",
    "Hầu hết các tệp mà bạn sẽ gặp có thể được mã hóa với UTF-8. Đây là mã hóa mà Python mong đợi mặc định, vì vậy hầu hết thời gian bạn sẽ không gặp phải vấn đề gì. Tuy nhiên, đôi khi bạn sẽ gặp phải lỗi như thế này:"
   ]
  },
  {
   "cell_type": "code",
   "execution_count": 27,
   "id": "80a7a0c7",
   "metadata": {
    "execution": {
     "iopub.execute_input": "2023-04-20T18:08:47.116055Z",
     "iopub.status.busy": "2023-04-20T18:08:47.115536Z",
     "iopub.status.idle": "2023-04-20T18:08:47.208144Z",
     "shell.execute_reply": "2023-04-20T18:08:47.206418Z"
    },
    "papermill": {
     "duration": 0.103525,
     "end_time": "2023-04-20T18:08:47.211179",
     "exception": false,
     "start_time": "2023-04-20T18:08:47.107654",
     "status": "completed"
    },
    "tags": []
   },
   "outputs": [
    {
     "ename": "UnicodeDecodeError",
     "evalue": "'utf-8' codec can't decode byte 0x99 in position 7955: invalid start byte",
     "output_type": "error",
     "traceback": [
      "\u001b[31m---------------------------------------------------------------------------\u001b[39m",
      "\u001b[31mUnicodeDecodeError\u001b[39m                        Traceback (most recent call last)",
      "\u001b[36mCell\u001b[39m\u001b[36m \u001b[39m\u001b[32mIn[27]\u001b[39m\u001b[32m, line 2\u001b[39m\n\u001b[32m      1\u001b[39m \u001b[38;5;66;03m# Cố gắng đọc một tệp không phải UTF-8\u001b[39;00m\n\u001b[32m----> \u001b[39m\u001b[32m2\u001b[39m kickstarter_2016 = \u001b[43mpd\u001b[49m\u001b[43m.\u001b[49m\u001b[43mread_csv\u001b[49m\u001b[43m(\u001b[49m\u001b[33;43m\"\u001b[39;49m\u001b[33;43mks-projects-201612.csv\u001b[39;49m\u001b[33;43m\"\u001b[39;49m\u001b[43m)\u001b[49m\n",
      "\u001b[36mFile \u001b[39m\u001b[32mc:\\Users\\minh PC\\AppData\\Local\\Programs\\Python\\Python311\\Lib\\site-packages\\pandas\\io\\parsers\\readers.py:1026\u001b[39m, in \u001b[36mread_csv\u001b[39m\u001b[34m(filepath_or_buffer, sep, delimiter, header, names, index_col, usecols, dtype, engine, converters, true_values, false_values, skipinitialspace, skiprows, skipfooter, nrows, na_values, keep_default_na, na_filter, verbose, skip_blank_lines, parse_dates, infer_datetime_format, keep_date_col, date_parser, date_format, dayfirst, cache_dates, iterator, chunksize, compression, thousands, decimal, lineterminator, quotechar, quoting, doublequote, escapechar, comment, encoding, encoding_errors, dialect, on_bad_lines, delim_whitespace, low_memory, memory_map, float_precision, storage_options, dtype_backend)\u001b[39m\n\u001b[32m   1013\u001b[39m kwds_defaults = _refine_defaults_read(\n\u001b[32m   1014\u001b[39m     dialect,\n\u001b[32m   1015\u001b[39m     delimiter,\n\u001b[32m   (...)\u001b[39m\u001b[32m   1022\u001b[39m     dtype_backend=dtype_backend,\n\u001b[32m   1023\u001b[39m )\n\u001b[32m   1024\u001b[39m kwds.update(kwds_defaults)\n\u001b[32m-> \u001b[39m\u001b[32m1026\u001b[39m \u001b[38;5;28;01mreturn\u001b[39;00m \u001b[43m_read\u001b[49m\u001b[43m(\u001b[49m\u001b[43mfilepath_or_buffer\u001b[49m\u001b[43m,\u001b[49m\u001b[43m \u001b[49m\u001b[43mkwds\u001b[49m\u001b[43m)\u001b[49m\n",
      "\u001b[36mFile \u001b[39m\u001b[32mc:\\Users\\minh PC\\AppData\\Local\\Programs\\Python\\Python311\\Lib\\site-packages\\pandas\\io\\parsers\\readers.py:620\u001b[39m, in \u001b[36m_read\u001b[39m\u001b[34m(filepath_or_buffer, kwds)\u001b[39m\n\u001b[32m    617\u001b[39m _validate_names(kwds.get(\u001b[33m\"\u001b[39m\u001b[33mnames\u001b[39m\u001b[33m\"\u001b[39m, \u001b[38;5;28;01mNone\u001b[39;00m))\n\u001b[32m    619\u001b[39m \u001b[38;5;66;03m# Create the parser.\u001b[39;00m\n\u001b[32m--> \u001b[39m\u001b[32m620\u001b[39m parser = \u001b[43mTextFileReader\u001b[49m\u001b[43m(\u001b[49m\u001b[43mfilepath_or_buffer\u001b[49m\u001b[43m,\u001b[49m\u001b[43m \u001b[49m\u001b[43m*\u001b[49m\u001b[43m*\u001b[49m\u001b[43mkwds\u001b[49m\u001b[43m)\u001b[49m\n\u001b[32m    622\u001b[39m \u001b[38;5;28;01mif\u001b[39;00m chunksize \u001b[38;5;129;01mor\u001b[39;00m iterator:\n\u001b[32m    623\u001b[39m     \u001b[38;5;28;01mreturn\u001b[39;00m parser\n",
      "\u001b[36mFile \u001b[39m\u001b[32mc:\\Users\\minh PC\\AppData\\Local\\Programs\\Python\\Python311\\Lib\\site-packages\\pandas\\io\\parsers\\readers.py:1620\u001b[39m, in \u001b[36mTextFileReader.__init__\u001b[39m\u001b[34m(self, f, engine, **kwds)\u001b[39m\n\u001b[32m   1617\u001b[39m     \u001b[38;5;28mself\u001b[39m.options[\u001b[33m\"\u001b[39m\u001b[33mhas_index_names\u001b[39m\u001b[33m\"\u001b[39m] = kwds[\u001b[33m\"\u001b[39m\u001b[33mhas_index_names\u001b[39m\u001b[33m\"\u001b[39m]\n\u001b[32m   1619\u001b[39m \u001b[38;5;28mself\u001b[39m.handles: IOHandles | \u001b[38;5;28;01mNone\u001b[39;00m = \u001b[38;5;28;01mNone\u001b[39;00m\n\u001b[32m-> \u001b[39m\u001b[32m1620\u001b[39m \u001b[38;5;28mself\u001b[39m._engine = \u001b[38;5;28;43mself\u001b[39;49m\u001b[43m.\u001b[49m\u001b[43m_make_engine\u001b[49m\u001b[43m(\u001b[49m\u001b[43mf\u001b[49m\u001b[43m,\u001b[49m\u001b[43m \u001b[49m\u001b[38;5;28;43mself\u001b[39;49m\u001b[43m.\u001b[49m\u001b[43mengine\u001b[49m\u001b[43m)\u001b[49m\n",
      "\u001b[36mFile \u001b[39m\u001b[32mc:\\Users\\minh PC\\AppData\\Local\\Programs\\Python\\Python311\\Lib\\site-packages\\pandas\\io\\parsers\\readers.py:1898\u001b[39m, in \u001b[36mTextFileReader._make_engine\u001b[39m\u001b[34m(self, f, engine)\u001b[39m\n\u001b[32m   1895\u001b[39m     \u001b[38;5;28;01mraise\u001b[39;00m \u001b[38;5;167;01mValueError\u001b[39;00m(msg)\n\u001b[32m   1897\u001b[39m \u001b[38;5;28;01mtry\u001b[39;00m:\n\u001b[32m-> \u001b[39m\u001b[32m1898\u001b[39m     \u001b[38;5;28;01mreturn\u001b[39;00m \u001b[43mmapping\u001b[49m\u001b[43m[\u001b[49m\u001b[43mengine\u001b[49m\u001b[43m]\u001b[49m\u001b[43m(\u001b[49m\u001b[43mf\u001b[49m\u001b[43m,\u001b[49m\u001b[43m \u001b[49m\u001b[43m*\u001b[49m\u001b[43m*\u001b[49m\u001b[38;5;28;43mself\u001b[39;49m\u001b[43m.\u001b[49m\u001b[43moptions\u001b[49m\u001b[43m)\u001b[49m\n\u001b[32m   1899\u001b[39m \u001b[38;5;28;01mexcept\u001b[39;00m \u001b[38;5;167;01mException\u001b[39;00m:\n\u001b[32m   1900\u001b[39m     \u001b[38;5;28;01mif\u001b[39;00m \u001b[38;5;28mself\u001b[39m.handles \u001b[38;5;129;01mis\u001b[39;00m \u001b[38;5;129;01mnot\u001b[39;00m \u001b[38;5;28;01mNone\u001b[39;00m:\n",
      "\u001b[36mFile \u001b[39m\u001b[32mc:\\Users\\minh PC\\AppData\\Local\\Programs\\Python\\Python311\\Lib\\site-packages\\pandas\\io\\parsers\\c_parser_wrapper.py:93\u001b[39m, in \u001b[36mCParserWrapper.__init__\u001b[39m\u001b[34m(self, src, **kwds)\u001b[39m\n\u001b[32m     90\u001b[39m \u001b[38;5;28;01mif\u001b[39;00m kwds[\u001b[33m\"\u001b[39m\u001b[33mdtype_backend\u001b[39m\u001b[33m\"\u001b[39m] == \u001b[33m\"\u001b[39m\u001b[33mpyarrow\u001b[39m\u001b[33m\"\u001b[39m:\n\u001b[32m     91\u001b[39m     \u001b[38;5;66;03m# Fail here loudly instead of in cython after reading\u001b[39;00m\n\u001b[32m     92\u001b[39m     import_optional_dependency(\u001b[33m\"\u001b[39m\u001b[33mpyarrow\u001b[39m\u001b[33m\"\u001b[39m)\n\u001b[32m---> \u001b[39m\u001b[32m93\u001b[39m \u001b[38;5;28mself\u001b[39m._reader = \u001b[43mparsers\u001b[49m\u001b[43m.\u001b[49m\u001b[43mTextReader\u001b[49m\u001b[43m(\u001b[49m\u001b[43msrc\u001b[49m\u001b[43m,\u001b[49m\u001b[43m \u001b[49m\u001b[43m*\u001b[49m\u001b[43m*\u001b[49m\u001b[43mkwds\u001b[49m\u001b[43m)\u001b[49m\n\u001b[32m     95\u001b[39m \u001b[38;5;28mself\u001b[39m.unnamed_cols = \u001b[38;5;28mself\u001b[39m._reader.unnamed_cols\n\u001b[32m     97\u001b[39m \u001b[38;5;66;03m# error: Cannot determine type of 'names'\u001b[39;00m\n",
      "\u001b[36mFile \u001b[39m\u001b[32mparsers.pyx:574\u001b[39m, in \u001b[36mpandas._libs.parsers.TextReader.__cinit__\u001b[39m\u001b[34m()\u001b[39m\n",
      "\u001b[36mFile \u001b[39m\u001b[32mparsers.pyx:663\u001b[39m, in \u001b[36mpandas._libs.parsers.TextReader._get_header\u001b[39m\u001b[34m()\u001b[39m\n",
      "\u001b[36mFile \u001b[39m\u001b[32mparsers.pyx:874\u001b[39m, in \u001b[36mpandas._libs.parsers.TextReader._tokenize_rows\u001b[39m\u001b[34m()\u001b[39m\n",
      "\u001b[36mFile \u001b[39m\u001b[32mparsers.pyx:891\u001b[39m, in \u001b[36mpandas._libs.parsers.TextReader._check_tokenize_status\u001b[39m\u001b[34m()\u001b[39m\n",
      "\u001b[36mFile \u001b[39m\u001b[32mparsers.pyx:2053\u001b[39m, in \u001b[36mpandas._libs.parsers.raise_parser_error\u001b[39m\u001b[34m()\u001b[39m\n",
      "\u001b[31mUnicodeDecodeError\u001b[39m: 'utf-8' codec can't decode byte 0x99 in position 7955: invalid start byte"
     ]
    }
   ],
   "source": [
    "# Cố gắng đọc một tệp không phải UTF-8\n",
    "kickstarter_2016 = pd.read_csv(\"ks-projects-201612.csv\")"
   ]
  },
  {
   "attachments": {},
   "cell_type": "markdown",
   "id": "89b505e7",
   "metadata": {
    "papermill": {
     "duration": 0.006747,
     "end_time": "2023-04-20T18:08:47.224716",
     "exception": false,
     "start_time": "2023-04-20T18:08:47.217969",
     "status": "completed"
    },
    "tags": []
   },
   "source": [
    "Lưu ý rằng chúng ta nhận được cùng một lỗi `UnicodeDecodeError` mà chúng ta gặp phải khi cố gắng giải mã các byte UTF-8 như thể chúng là ASCII! Điều này cho chúng ta biết rằng tệp này thực sự không phải là UTF-8. Tuy nhiên, chúng ta không biết mã hóa thực tế của nó là gì. Một cách để tìm ra là thử và kiểm tra một loạt các mã hóa ký tự khác nhau và xem có mã hóa nào phù hợp không. Tuy nhiên, một cách tốt hơn là sử dụng mô-đun `charset_normalizer` để thử và tự động đoán mã hóa chính xác là gì. Điều này không đảm bảo 100% chính xác, nhưng thường nhanh hơn nhiều so với việc chỉ thử đoán.\n",
    "\n",
    "Tôi sẽ chỉ xem xét mười nghìn byte đầu tiên của tệp này. Thông thường, đây là đủ để có thể đoán chính xác mã hóa và nhanh hơn nhiều so với việc cố gắng kiểm tra toàn bộ tệp. (Đặc biệt là với một tệp lớn, việc này có thể rất chậm.) Một lý do khác để chỉ xem xét phần đầu của tệp là vì chúng ta có thể thấy qua thông báo lỗi rằng vấn đề đầu tiên là ký tự thứ 11. Vì vậy, chúng ta có thể chỉ cần nhìn vào phần đầu của tệp để tìm ra vấn đề đang xảy ra."
   ]
  },
  {
   "cell_type": "code",
   "execution_count": 28,
   "id": "32dedccd",
   "metadata": {
    "execution": {
     "iopub.execute_input": "2023-04-20T18:08:47.241937Z",
     "iopub.status.busy": "2023-04-20T18:08:47.240707Z",
     "iopub.status.idle": "2023-04-20T18:08:47.310581Z",
     "shell.execute_reply": "2023-04-20T18:08:47.309265Z"
    },
    "papermill": {
     "duration": 0.081605,
     "end_time": "2023-04-20T18:08:47.313109",
     "exception": false,
     "start_time": "2023-04-20T18:08:47.231504",
     "status": "completed"
    },
    "tags": []
   },
   "outputs": [
    {
     "name": "stdout",
     "output_type": "stream",
     "text": [
      "{'encoding': 'utf-8', 'language': 'English', 'confidence': 1.0}\n"
     ]
    }
   ],
   "source": [
    "# Xem xét mười nghìn byte đầu tiên để đoán mã hóa ký tự\n",
    "with open(\"ks-projects-201801.csv\", 'rb') as rawdata:\n",
    "    result = charset_normalizer.detect(rawdata.read(10000))\n",
    "\n",
    "# Kiểm tra xem mã hóa ký tự có thể là gì\n",
    "print(result)"
   ]
  },
  {
   "attachments": {},
   "cell_type": "markdown",
   "id": "a5f57b15",
   "metadata": {
    "papermill": {
     "duration": 0.006239,
     "end_time": "2023-04-20T18:08:47.325785",
     "exception": false,
     "start_time": "2023-04-20T18:08:47.319546",
     "status": "completed"
    },
    "tags": []
   },
   "source": [
    "Vậy là `charset_normalizer` có độ tin cậy 73% rằng mã hóa đúng là \"Windows-1252\". Hãy cùng kiểm tra xem điều đó có đúng không:"
   ]
  },
  {
   "cell_type": "code",
   "execution_count": 29,
   "id": "8f1e0022",
   "metadata": {
    "execution": {
     "iopub.execute_input": "2023-04-20T18:08:47.341834Z",
     "iopub.status.busy": "2023-04-20T18:08:47.340766Z",
     "iopub.status.idle": "2023-04-20T18:08:50.004858Z",
     "shell.execute_reply": "2023-04-20T18:08:50.002951Z"
    },
    "papermill": {
     "duration": 2.674787,
     "end_time": "2023-04-20T18:08:50.007684",
     "exception": false,
     "start_time": "2023-04-20T18:08:47.332897",
     "status": "completed"
    },
    "tags": []
   },
   "outputs": [
    {
     "name": "stderr",
     "output_type": "stream",
     "text": [
      "C:\\Users\\minh PC\\AppData\\Local\\Temp\\ipykernel_12372\\900182071.py:2: DtypeWarning: Columns (13,14,15) have mixed types. Specify dtype option on import or set low_memory=False.\n",
      "  kickstarter_2016 = pd.read_csv(\"ks-projects-201612.csv\", encoding='Windows-1252')\n"
     ]
    },
    {
     "data": {
      "text/html": [
       "<div>\n",
       "<style scoped>\n",
       "    .dataframe tbody tr th:only-of-type {\n",
       "        vertical-align: middle;\n",
       "    }\n",
       "\n",
       "    .dataframe tbody tr th {\n",
       "        vertical-align: top;\n",
       "    }\n",
       "\n",
       "    .dataframe thead th {\n",
       "        text-align: right;\n",
       "    }\n",
       "</style>\n",
       "<table border=\"1\" class=\"dataframe\">\n",
       "  <thead>\n",
       "    <tr style=\"text-align: right;\">\n",
       "      <th></th>\n",
       "      <th>ID</th>\n",
       "      <th>name</th>\n",
       "      <th>category</th>\n",
       "      <th>main_category</th>\n",
       "      <th>currency</th>\n",
       "      <th>deadline</th>\n",
       "      <th>goal</th>\n",
       "      <th>launched</th>\n",
       "      <th>pledged</th>\n",
       "      <th>state</th>\n",
       "      <th>backers</th>\n",
       "      <th>country</th>\n",
       "      <th>usd pledged</th>\n",
       "      <th>Unnamed: 13</th>\n",
       "      <th>Unnamed: 14</th>\n",
       "      <th>Unnamed: 15</th>\n",
       "      <th>Unnamed: 16</th>\n",
       "    </tr>\n",
       "  </thead>\n",
       "  <tbody>\n",
       "    <tr>\n",
       "      <th>0</th>\n",
       "      <td>1000002330</td>\n",
       "      <td>The Songs of Adelaide &amp; Abullah</td>\n",
       "      <td>Poetry</td>\n",
       "      <td>Publishing</td>\n",
       "      <td>GBP</td>\n",
       "      <td>2015-10-09 11:36:00</td>\n",
       "      <td>1000</td>\n",
       "      <td>2015-08-11 12:12:28</td>\n",
       "      <td>0</td>\n",
       "      <td>failed</td>\n",
       "      <td>0</td>\n",
       "      <td>GB</td>\n",
       "      <td>0</td>\n",
       "      <td>NaN</td>\n",
       "      <td>NaN</td>\n",
       "      <td>NaN</td>\n",
       "      <td>NaN</td>\n",
       "    </tr>\n",
       "    <tr>\n",
       "      <th>1</th>\n",
       "      <td>1000004038</td>\n",
       "      <td>Where is Hank?</td>\n",
       "      <td>Narrative Film</td>\n",
       "      <td>Film &amp; Video</td>\n",
       "      <td>USD</td>\n",
       "      <td>2013-02-26 00:20:50</td>\n",
       "      <td>45000</td>\n",
       "      <td>2013-01-12 00:20:50</td>\n",
       "      <td>220</td>\n",
       "      <td>failed</td>\n",
       "      <td>3</td>\n",
       "      <td>US</td>\n",
       "      <td>220</td>\n",
       "      <td>NaN</td>\n",
       "      <td>NaN</td>\n",
       "      <td>NaN</td>\n",
       "      <td>NaN</td>\n",
       "    </tr>\n",
       "    <tr>\n",
       "      <th>2</th>\n",
       "      <td>1000007540</td>\n",
       "      <td>ToshiCapital Rekordz Needs Help to Complete Album</td>\n",
       "      <td>Music</td>\n",
       "      <td>Music</td>\n",
       "      <td>USD</td>\n",
       "      <td>2012-04-16 04:24:11</td>\n",
       "      <td>5000</td>\n",
       "      <td>2012-03-17 03:24:11</td>\n",
       "      <td>1</td>\n",
       "      <td>failed</td>\n",
       "      <td>1</td>\n",
       "      <td>US</td>\n",
       "      <td>1</td>\n",
       "      <td>NaN</td>\n",
       "      <td>NaN</td>\n",
       "      <td>NaN</td>\n",
       "      <td>NaN</td>\n",
       "    </tr>\n",
       "    <tr>\n",
       "      <th>3</th>\n",
       "      <td>1000011046</td>\n",
       "      <td>Community Film Project: The Art of Neighborhoo...</td>\n",
       "      <td>Film &amp; Video</td>\n",
       "      <td>Film &amp; Video</td>\n",
       "      <td>USD</td>\n",
       "      <td>2015-08-29 01:00:00</td>\n",
       "      <td>19500</td>\n",
       "      <td>2015-07-04 08:35:03</td>\n",
       "      <td>1283</td>\n",
       "      <td>canceled</td>\n",
       "      <td>14</td>\n",
       "      <td>US</td>\n",
       "      <td>1283</td>\n",
       "      <td>NaN</td>\n",
       "      <td>NaN</td>\n",
       "      <td>NaN</td>\n",
       "      <td>NaN</td>\n",
       "    </tr>\n",
       "    <tr>\n",
       "      <th>4</th>\n",
       "      <td>1000014025</td>\n",
       "      <td>Monarch Espresso Bar</td>\n",
       "      <td>Restaurants</td>\n",
       "      <td>Food</td>\n",
       "      <td>USD</td>\n",
       "      <td>2016-04-01 13:38:27</td>\n",
       "      <td>50000</td>\n",
       "      <td>2016-02-26 13:38:27</td>\n",
       "      <td>52375</td>\n",
       "      <td>successful</td>\n",
       "      <td>224</td>\n",
       "      <td>US</td>\n",
       "      <td>52375</td>\n",
       "      <td>NaN</td>\n",
       "      <td>NaN</td>\n",
       "      <td>NaN</td>\n",
       "      <td>NaN</td>\n",
       "    </tr>\n",
       "  </tbody>\n",
       "</table>\n",
       "</div>"
      ],
      "text/plain": [
       "          ID                                               name   \\\n",
       "0  1000002330                    The Songs of Adelaide & Abullah   \n",
       "1  1000004038                                     Where is Hank?   \n",
       "2  1000007540  ToshiCapital Rekordz Needs Help to Complete Album   \n",
       "3  1000011046  Community Film Project: The Art of Neighborhoo...   \n",
       "4  1000014025                               Monarch Espresso Bar   \n",
       "\n",
       "        category  main_category  currency             deadline   goal   \\\n",
       "0          Poetry     Publishing       GBP  2015-10-09 11:36:00   1000   \n",
       "1  Narrative Film   Film & Video       USD  2013-02-26 00:20:50  45000   \n",
       "2           Music          Music       USD  2012-04-16 04:24:11   5000   \n",
       "3    Film & Video   Film & Video       USD  2015-08-29 01:00:00  19500   \n",
       "4     Restaurants           Food       USD  2016-04-01 13:38:27  50000   \n",
       "\n",
       "             launched  pledged       state  backers  country  usd pledged   \\\n",
       "0  2015-08-11 12:12:28        0      failed        0       GB            0   \n",
       "1  2013-01-12 00:20:50      220      failed        3       US          220   \n",
       "2  2012-03-17 03:24:11        1      failed        1       US            1   \n",
       "3  2015-07-04 08:35:03     1283    canceled       14       US         1283   \n",
       "4  2016-02-26 13:38:27    52375  successful      224       US        52375   \n",
       "\n",
       "  Unnamed: 13 Unnamed: 14 Unnamed: 15  Unnamed: 16  \n",
       "0         NaN         NaN         NaN          NaN  \n",
       "1         NaN         NaN         NaN          NaN  \n",
       "2         NaN         NaN         NaN          NaN  \n",
       "3         NaN         NaN         NaN          NaN  \n",
       "4         NaN         NaN         NaN          NaN  "
      ]
     },
     "execution_count": 29,
     "metadata": {},
     "output_type": "execute_result"
    }
   ],
   "source": [
    "# Đọc tệp với mã hóa được phát hiện bởi charset_normalizer\n",
    "kickstarter_2016 = pd.read_csv(\"ks-projects-201612.csv\", encoding='Windows-1252')\n",
    "\n",
    "# Xem vài dòng đầu tiên\n",
    "kickstarter_2016.head()"
   ]
  },
  {
   "attachments": {},
   "cell_type": "markdown",
   "id": "b5c5c650",
   "metadata": {
    "papermill": {
     "duration": 0.006959,
     "end_time": "2023-04-20T18:08:50.022390",
     "exception": false,
     "start_time": "2023-04-20T18:08:50.015431",
     "status": "completed"
    },
    "tags": []
   },
   "source": [
    "Đúng rồi, có vẻ như `charset_normalizer` đã đúng! Tệp đã được đọc mà không gặp vấn đề gì (mặc dù chúng ta nhận được cảnh báo về kiểu dữ liệu) và khi xem qua vài dòng đầu tiên, nó có vẻ ổn.\n",
    "\n",
    "> **Nếu mã hóa mà charset_normalizer đoán không đúng thì sao?** Vì `charset_normalizer` cơ bản chỉ là một công cụ đoán, đôi khi nó sẽ đoán sai mã hóa. Một điều bạn có thể thử là xem xét nhiều hoặc ít phần của tệp và xem có kết quả khác nhau không, rồi thử lại với kết quả đó.\n",
    "\n",
    "## Lưu tệp của bạn với mã hóa UTF-8\n",
    "\n",
    "Cuối cùng, sau khi đã trải qua tất cả các bước để đưa tệp của bạn về UTF-8, bạn có thể muốn giữ nó ở mã hóa đó. Cách dễ nhất để làm điều đó là lưu tệp của bạn với mã hóa UTF-8. Tin vui là, vì UTF-8 là mã hóa chuẩn trong Python, khi bạn lưu tệp, nó sẽ được lưu với mã hóa UTF-8 mặc định:"
   ]
  },
  {
   "cell_type": "code",
   "execution_count": 30,
   "id": "859c76ba",
   "metadata": {
    "execution": {
     "iopub.execute_input": "2023-04-20T18:08:50.040060Z",
     "iopub.status.busy": "2023-04-20T18:08:50.038631Z",
     "iopub.status.idle": "2023-04-20T18:08:52.278482Z",
     "shell.execute_reply": "2023-04-20T18:08:52.276872Z"
    },
    "papermill": {
     "duration": 2.252257,
     "end_time": "2023-04-20T18:08:52.281822",
     "exception": false,
     "start_time": "2023-04-20T18:08:50.029565",
     "status": "completed"
    },
    "tags": []
   },
   "outputs": [],
   "source": [
    "# Lưu tệp của bạn (mặc định sẽ được lưu dưới dạng UTF-8!)\n",
    "kickstarter_2016.to_csv(\"ks-projects-201801-utf8.csv\")"
   ]
  },
  {
   "cell_type": "markdown",
   "id": "77b8412a",
   "metadata": {
    "papermill": {
     "duration": 0.007175,
     "end_time": "2023-04-20T18:08:52.296978",
     "exception": false,
     "start_time": "2023-04-20T18:08:52.289803",
     "status": "completed"
    },
    "tags": []
   },
   "source": [
    "Pretty easy, huh? :)\n",
    "\n",
    "## Your turn! \n",
    "\n",
    "[**Deepen your understanding**](https://www.kaggle.com/kernels/fork/10824401) with a dataset of fatal police shootings in the US. "
   ]
  },
  {
   "cell_type": "markdown",
   "id": "67885e95",
   "metadata": {
    "papermill": {
     "duration": 0.00709,
     "end_time": "2023-04-20T18:08:52.311896",
     "exception": false,
     "start_time": "2023-04-20T18:08:52.304806",
     "status": "completed"
    },
    "tags": []
   },
   "source": [
    "---\n",
    "\n",
    "\n",
    "\n",
    "\n",
    "*Have questions or comments? Visit the [course discussion forum](https://www.kaggle.com/learn/data-cleaning/discussion) to chat with other learners.*"
   ]
  }
 ],
 "metadata": {
  "kernelspec": {
   "display_name": "Python 3",
   "language": "python",
   "name": "python3"
  },
  "language_info": {
   "codemirror_mode": {
    "name": "ipython",
    "version": 3
   },
   "file_extension": ".py",
   "mimetype": "text/x-python",
   "name": "python",
   "nbconvert_exporter": "python",
   "pygments_lexer": "ipython3",
   "version": "3.11.9"
  },
  "papermill": {
   "default_parameters": {},
   "duration": 17.519221,
   "end_time": "2023-04-20T18:08:53.345453",
   "environment_variables": {},
   "exception": null,
   "input_path": "__notebook__.ipynb",
   "output_path": "__notebook__.ipynb",
   "parameters": {},
   "start_time": "2023-04-20T18:08:35.826232",
   "version": "2.4.0"
  }
 },
 "nbformat": 4,
 "nbformat_minor": 5
}
