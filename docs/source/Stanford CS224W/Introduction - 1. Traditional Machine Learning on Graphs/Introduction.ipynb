{
 "cells": [
  {
   "cell_type": "markdown",
   "metadata": {},
   "source": [
    "# Introduction"
   ]
  },
  {
   "cell_type": "markdown",
   "metadata": {},
   "source": [
    "## 0.1 Why Graphs?"
   ]
  },
  {
   "cell_type": "markdown",
   "metadata": {},
   "source": [
    "Graphs are a general language for describing and analyzing entities with relations and\n",
    "interactions.\n",
    "\n",
    "Applications:\n",
    "- Molecules: Vertices are atoms and edges are bonds\n",
    "- Event Graphs\n",
    "- Computer Networks\n",
    "- Disease Pathways\n",
    "- Code Graphs\n",
    "\n",
    "Complex domains have a rich relational structure which can be represented as a relational\n",
    "graph. By explicitly modeling relationships we achieve a better performance with lower\n",
    "modeling capacity.\n",
    "\n",
    "The Modern ML Toolbox processes tensors, e.g. images (2D), text/speech (1D). Modern\n",
    "deep learning toolbox is designed for simple sequences and grids. Not everything can be\n",
    "represented as a sequence of a grid. How can we develop neural networks that are much\n",
    "more broadly applicable? We can use graphs. Graphs connect things.\n",
    "- Graph neural network is the 3rd most popular keyword in ICLR ’22.\n",
    "- Graph learning is also very difficult due to the complex and less structured nature of\n",
    "graphs.\n",
    "- Graph learning is also associated with representation learning. In some cases it may\n",
    "be possible to learn a d-dimensional embedding for each node in the graph such that\n",
    "similar nodes have closer embeddings."
   ]
  },
  {
   "cell_type": "markdown",
   "metadata": {},
   "source": [
    "A number of different tasks can be executed on graph data.\n",
    "- **Node level prediction:** to characterize the structure and position of a node in the\n",
    "network.\n",
    "  - Example: In Protein folding, each atom is a node and the task is to predict the\n",
    "coordinate of the node. predicted.\n",
    "- **Edge/Link level prediction:** Predicting property for a pair of nodes. This can be\n",
    "either trying to find missing links or finding new links as time progresses\n",
    "  - Example: Graph-based recommender systems and drug side effects.\n",
    "- **Graph level prediction:** Predict for an entire subgraph or graph\n",
    "  - Examples: traffic prediction, drug discovery, physics simulation, and weather\n",
    "forecasting"
   ]
  },
  {
   "cell_type": "markdown",
   "metadata": {},
   "source": [
    "![f1](f1.jpeg)\n",
    "\n",
    "> Figure 0.1: When a machine learning model is applied to a graph, each node defines its own\n",
    "computational graph in its neighbourhood."
   ]
  },
  {
   "cell_type": "markdown",
   "metadata": {},
   "source": [
    "## 0.2 Choice of Graph Embeddings"
   ]
  },
  {
   "cell_type": "markdown",
   "metadata": {},
   "source": [
    "A graph has several components:\n",
    "- **Objects N**: Nodes, vertices\n",
    "- **Interactions E**: Edges, links\n",
    "- **Systems G(N,E)**: Networks, graphs\n",
    "\n",
    "Sometimes there is a ubiquitous representation in a particular case. Sometimes there is not. The choice of representation determines what information can be mined from the graph. A graph may also have some other properties:\n",
    "- Undirected/Directed edges\n",
    "- Allow/Disallow self-loop\n",
    "- Allow/Disallow multi-graphs (multiple edges between nodes)\n",
    "- **Heterogeneous Graphs**: A graph $G = (V, E, T, R, \\tau, \\phi)$ where nodes have types $\\tau(v) : T$ and edges have types $\\phi(e) : R$.\n",
    "\n",
    "Many graphs are heterogeneous. For example, drug-protein interaction graph is heterogeneous.\n",
    "- **Bipartite Graphs**: e.g., Author-Paper graph, Actor-Films graph\n",
    "\n",
    "Most real-world networks are sparse. The adjacency matrix is a sparse matrix with mostly 0’s. The density of the matrix $\\left(\\frac{E}{N^2}\\right)$ is $1.51 \\cdot 10^{-5}$ for the WWW and $2.27 \\cdot 10^{-8}$ for MSN IM.\n"
   ]
  },
  {
   "cell_type": "markdown",
   "metadata": {},
   "source": [
    "![f2](f2.jpeg)\n",
    "\n",
    "> Figure 1.1: Different levels of tasks on a graph\n",
    "\n",
    "![f3](f3.jpeg)\n",
    "\n",
    "> Figure 1.2: Classifying nodes on a graph when a few labels are provided"
   ]
  }
 ],
 "metadata": {
  "kernelspec": {
   "display_name": "Python 3",
   "language": "python",
   "name": "python3"
  },
  "language_info": {
   "name": "python",
   "version": "3.11.9"
  }
 },
 "nbformat": 4,
 "nbformat_minor": 2
}
